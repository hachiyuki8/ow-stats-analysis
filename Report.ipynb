{
  "nbformat": 4,
  "nbformat_minor": 0,
  "metadata": {
    "accelerator": "GPU",
    "colab": {
      "name": "Report.ipynb",
      "provenance": [],
      "collapsed_sections": [],
      "toc_visible": true
    },
    "kernelspec": {
      "display_name": "Python 3",
      "name": "python3"
    },
    "language_info": {
      "name": "python"
    }
  },
  "cells": [
    {
      "cell_type": "markdown",
      "metadata": {
        "id": "tcKu94D960TL"
      },
      "source": [
        "# Predicting Skill Rating from Player Statistics in Overwatch\n",
        "### Authors: Poojan Palwai, Andrii Riazanov, Joanna Yao\n",
        "\n",
        "**[Github Repo](https://github.com/hachiyuki8/ow-stats-analysis)**"
      ]
    },
    {
      "cell_type": "code",
      "metadata": {
        "id": "U5CD3ZiVjz3I"
      },
      "source": [
        "import pandas as pd\n",
        "import numpy as np\n",
        "import math\n",
        "import pickle\n",
        "import matplotlib.patches as mpatches\n",
        "import re\n",
        "from collections import Counter\n",
        "from urllib.request import urlopen\n",
        "\n",
        "\n",
        "import seaborn as sns\n",
        "\n",
        "sns.set_theme()\n",
        "import matplotlib.pyplot as plt\n",
        "import matplotlib.gridspec as gridspec\n",
        "\n",
        "import torch\n",
        "from torch import nn, optim, utils\n",
        "from torchvision import datasets, transforms\n",
        "\n",
        "from sklearn.linear_model import LinearRegression, Lasso\n",
        "from sklearn import metrics\n",
        "from sklearn.metrics import r2_score\n",
        "import sklearn.preprocessing as pre\n",
        "from sklearn.preprocessing import StandardScaler\n",
        "from sklearn.ensemble import RandomForestRegressor, GradientBoostingRegressor\n",
        "from sklearn.neighbors import KNeighborsRegressor\n",
        "from sklearn.inspection import permutation_importance"
      ],
      "execution_count": 12,
      "outputs": []
    },
    {
      "cell_type": "markdown",
      "metadata": {
        "id": "xPEKVkDcERpB"
      },
      "source": [
        "## Introduction\n",
        "\n",
        "### Roles and Heroes\n",
        "[Overwatch](https://playoverwatch.com/en-us/) is a team-based first-person shooting game released in 2016. Players are assigned to two teams of six, and can each select a playable character (**hero**). During a game, players can switch to another hero whenever they die and respawn.\n",
        "\n",
        "There are 32 playable hereos, each with unique abilities, and are separated into three categories (**roles**) as shown below:"
      ]
    },
    {
      "cell_type": "code",
      "metadata": {
        "colab": {
          "base_uri": "https://localhost:8080/"
        },
        "id": "07JnqQNf_GL6",
        "outputId": "ab8b4584-d91c-474f-f95a-36577e8472f6"
      },
      "source": [
        "ROLES = [\"tank\", \"damage\", \"support\"]\n",
        "# lists of heroes for each role\n",
        "TANK_LIST = [\"dVa\", \"orisa\", \"reinhardt\", \"roadhog\", \"sigma\", \"winston\", \"wreckingBall\", \"zarya\"]\n",
        "DAMAGE_LIST = [\"ashe\", \"bastion\", \"doomfist\", \"echo\", \"genji\", \"hanzo\", \"junkrat\", \"mccree\", \"mei\", \n",
        "               \"pharah\", \"reaper\", \"soldier76\", \"sombra\", \"symmetra\", \"torbjorn\", \"tracer\", \"widowmaker\"]\n",
        "SUPPORT_LIST = [\"ana\", \"baptiste\", \"brigitte\", \"lucio\", \"mercy\", \"moira\", \"zenyatta\"]\n",
        "\n",
        "ROLES_LISTS = dict(zip(ROLES, [TANK_LIST, DAMAGE_LIST, SUPPORT_LIST]))\n",
        "for role, heroes in ROLES_LISTS.items():\n",
        "  print(role, \":\", heroes)"
      ],
      "execution_count": 13,
      "outputs": [
        {
          "output_type": "stream",
          "text": [
            "tank : ['dVa', 'orisa', 'reinhardt', 'roadhog', 'sigma', 'winston', 'wreckingBall', 'zarya']\n",
            "damage : ['ashe', 'bastion', 'doomfist', 'echo', 'genji', 'hanzo', 'junkrat', 'mccree', 'mei', 'pharah', 'reaper', 'soldier76', 'sombra', 'symmetra', 'torbjorn', 'tracer', 'widowmaker']\n",
            "support : ['ana', 'baptiste', 'brigitte', 'lucio', 'mercy', 'moira', 'zenyatta']\n"
          ],
          "name": "stdout"
        }
      ]
    },
    {
      "cell_type": "markdown",
      "metadata": {
        "id": "OxklhkiB_0NW"
      },
      "source": [
        "### SR and Ranks\n",
        "\n",
        "Overwatch uses a modified ELO system for its competitive mode. Each player has a separate **relative skill rating (SR)**, an integer in $[0, 5000]$, for each role they play in a competitive season (SR is per-player, per-role, per-season). \n",
        "\n",
        "Players queue for a specific role for each competitive match, and can only play heroes under that role in that match. Each match consists of two teams of six with similar SRs, two players of each role on each team. The winner team gain SRs while the loser team lose SRs, where the gain/lose is approximately the same for each player. SR is the major measurement of a player's competitive skills and the only standard way of comparison among players in Overwatch.\n",
        "\n",
        "There are seven **ranks** corresponding to different SR ranges, as shown below:"
      ]
    },
    {
      "cell_type": "code",
      "metadata": {
        "colab": {
          "base_uri": "https://localhost:8080/"
        },
        "id": "daqQVXYyAxei",
        "outputId": "ae4d3557-0796-4929-e478-b227e7faaa78"
      },
      "source": [
        "# sr-rank mappings\n",
        "RANKS = [\"Bronze\", \"Silver\", \"Gold\", \"Platinum\", \"Diamond\", \"Masters\", \"Grandmaster\"]\n",
        "SR_RANGES = [\"[0, 1500)\", \"[1500, 2000)\", \"[2000, 2500)\", \"[2500, 3000)\", \"[3000, 3500)\", \"[3500, 4000)\", \"[4000, 5000)\"]\n",
        "\n",
        "RANK_AND_SR = dict(zip(RANKS, SR_RANGES))\n",
        "for rank, sr in RANK_AND_SR.items():\n",
        "  print(rank, \":\", sr)"
      ],
      "execution_count": 14,
      "outputs": [
        {
          "output_type": "stream",
          "text": [
            "Bronze : [0, 1500)\n",
            "Silver : [1500, 2000)\n",
            "Gold : [2000, 2500)\n",
            "Platinum : [2500, 3000)\n",
            "Diamond : [3000, 3500)\n",
            "Masters : [3500, 4000)\n",
            "Grandmaster : [4000, 5000)\n"
          ],
          "name": "stdout"
        }
      ]
    },
    {
      "cell_type": "markdown",
      "metadata": {
        "id": "dHTJ2G_8L-Rz"
      },
      "source": [
        "### In-game Statistics\n",
        "\n",
        "Player's in-game performance are numerically recorded as **player statistics**. Statistics are per-mode, per-season, per-hero. Each hero has 30-40 statistics, covering all aspects of this hero's gameplay, which can be separated into two main category:\n",
        "\n",
        "- **Common statistics** which most (if not all) heroes have, such as win percentage and weapon accuracy.\n",
        "\n",
        "- **Hero-specific statistics**, unique to each hero, related to usage of each hero's unique abilities.\n",
        "\n",
        "Each statistic has at most three entries recorded:\n",
        "\n",
        "1. **Total**, the accumulated amount in a season.\n",
        "\n",
        "2. **Best**, the best number achieved in a single game in a season.\n",
        "\n",
        "3. **Average/10 min**, the average amount per 10 minutes in a season."
      ]
    },
    {
      "cell_type": "markdown",
      "metadata": {
        "id": "1nAl4qv7NVln"
      },
      "source": [
        "## Objectives\n",
        "\n",
        "Over the years, a lot of websites focusing on player statistics have been launched. The most popular one is [Overbuff](https://www.overbuff.com/), which relies on user queries to build a data pool of player information and provides an overview of their average performance. \n",
        "\n",
        "Many informal analyses have been done by individual players and posted online, which often relies on small data sets or existing processed data on Overbuff due to difficulty of data scraping, and usually focuses on descriptive analysis.\n",
        "\n",
        "Our project aims to go one step further by conducting predictive analysis. In particular, we want to use machine learning techniques to **predict a player's SR from their in-game statistics**."
      ]
    },
    {
      "cell_type": "markdown",
      "metadata": {
        "id": "PUqUIWEITMrQ"
      },
      "source": [
        "## Data Collection and Preprocessing\n",
        "\n",
        "We collected our data in the following steps:\n",
        "\n",
        "(The whole process took 120+ hours to complete, so all the code are included as separate files.)\n",
        "\n",
        "1. We collected around [**10k commonly used words and names**](https://github.com/hachiyuki8/ow-stats-analysis/tree/master/names), including game-related terms, slangs, and celebrities.\n",
        "\n",
        "2. The names were used to query from [the official player search website](https://playoverwatch.com/en-us/search/), which returns all battletags with the requested name. A **battletag** is a unique identifier for each player, consisting of a username and a numerical tag. Among all the battletags fecthed, we kept those whose 1) platform is PC, 2) player profile is open to public, and 3) level is at least 25 (the minimum level required to play in the competitive mode). We managed to collect [**180k+ valid battletags**](https://github.com/hachiyuki8/ow-stats-analysis/blob/master/battletags.txt). **[[Code](https://github.com/hachiyuki8/ow-stats-analysis/blob/master/get_battletags.py)]**\n",
        "\n",
        "3. The battletags were used to query from [Ovrstat](https://ovrstat.com/), an unofficial API that decodes information from [the official website](https://playoverwatch.com/en-us/search/) and returns a formatted JSON object containing player information. We kept the SRs and competitive statistics for all battletags that have competitive records in the current season (at the time of scraping). Since the official website only returns the statistics for the current season, we are unable to access data for past seasons on a large scale. We managed to collected [**100k+ valid players' information**](https://github.com/hachiyuki8/ow-stats-analysis/tree/joanna/raw_stats). **[[Code](https://github.com/hachiyuki8/ow-stats-analysis/blob/master/get_player_json.py)]**\n",
        "\n",
        "4. We retained the **average-per-10 record for all statistics**, and removed statistics containing duplicated information (for example, time played and win percentage are kepted, while games played/won/lost are discarded). For each player, we only retained the statistics for **heroes played for at least one hour**, since statistics on heroes with a short play time may not accurately represent a player's actual skill. **[[Code](https://github.com/hachiyuki8/ow-stats-analysis/blob/master/parse_player_stats.py)]**\n",
        "\n",
        "5. The data was contained in nested JSON objects at this point, so we flattened the dictionary and saved the **usable data frame** for each role in a separate [csv file](https://github.com/hachiyuki8/ow-stats-analysis/tree/master/parsed_stats). After discarding players who haven't played any hero for above one hour, we got around **20k data points for each role**. **[[Code](https://github.com/hachiyuki8/ow-stats-analysis/blob/master/generate_player_csv.py)]**\n",
        "\n",
        "6. Finally, we cleaned up the data by converting durations into seconds and dropping columns with no data. Then, we split the data into **train (80%) and test sets (20%)**. **[[Code](https://github.com/hachiyuki8/ow-stats-analysis/blob/master/final_cleanup.ipynb)]**\n",
        "\n",
        "\n"
      ]
    },
    {
      "cell_type": "markdown",
      "metadata": {
        "id": "wWXcMnY8jaGI"
      },
      "source": [
        "## Data Overview\n",
        "\n",
        "Below is an overview of the data we used:"
      ]
    },
    {
      "cell_type": "code",
      "metadata": {
        "id": "DeQXpH1zmthk"
      },
      "source": [
        "DATA_PATH = \"https://raw.githubusercontent.com/hachiyuki8/ow-stats-analysis/master/test_train/\"\n",
        "\n",
        "tank_train = pd.read_csv(DATA_PATH + \"tank_train.csv\")\n",
        "tank_test = pd.read_csv(DATA_PATH + \"tank_test.csv\")\n",
        "damage_train = pd.read_csv(DATA_PATH + \"damage_train.csv\")\n",
        "damage_test = pd.read_csv(DATA_PATH + \"damage_test.csv\")\n",
        "support_train = pd.read_csv(DATA_PATH + \"support_train.csv\")\n",
        "support_test = pd.read_csv(DATA_PATH + \"support_test.csv\")\n",
        "\n",
        "DATA = {\"tank\": [tank_train, tank_test], \"damage\": [damage_train, damage_test], \"support\": [support_train, support_test]}"
      ],
      "execution_count": 15,
      "outputs": []
    },
    {
      "cell_type": "code",
      "metadata": {
        "colab": {
          "base_uri": "https://localhost:8080/"
        },
        "id": "JAQqpu3rovTn",
        "outputId": "0a5d5ee9-108a-4021-a205-acfc6272db74"
      },
      "source": [
        "for role, [train, test] in DATA.items():\n",
        "  print(f\"{role}: {train.shape[1]} columns, {train.shape[0]} observations in the training set, {test.shape[0]} observations in the test set\")"
      ],
      "execution_count": 16,
      "outputs": [
        {
          "output_type": "stream",
          "text": [
            "tank: 120 columns, 16288 observations in the training set, 4072 observations in the test set\n",
            "damage: 264 columns, 14616 observations in the training set, 3654 observations in the test set\n",
            "support: 121 columns, 15840 observations in the training set, 3960 observations in the test set\n"
          ],
          "name": "stdout"
        }
      ]
    },
    {
      "cell_type": "code",
      "metadata": {
        "colab": {
          "base_uri": "https://localhost:8080/",
          "height": 270
        },
        "id": "wivrW0epoKXh",
        "outputId": "2a57a2ab-18e6-4b5e-b16e-d233d1d9198e"
      },
      "source": [
        "pd.set_option('display.max_colwidth', None)\n",
        "print(\"\\033[1mExample Tank Data\\033[0m\")\n",
        "tank_train.head()"
      ],
      "execution_count": 17,
      "outputs": [
        {
          "output_type": "stream",
          "text": [
            "\u001b[1mExample Tank Data\u001b[0m\n"
          ],
          "name": "stdout"
        },
        {
          "output_type": "execute_result",
          "data": {
            "text/html": [
              "<div>\n",
              "<style scoped>\n",
              "    .dataframe tbody tr th:only-of-type {\n",
              "        vertical-align: middle;\n",
              "    }\n",
              "\n",
              "    .dataframe tbody tr th {\n",
              "        vertical-align: top;\n",
              "    }\n",
              "\n",
              "    .dataframe thead th {\n",
              "        text-align: right;\n",
              "    }\n",
              "</style>\n",
              "<table border=\"1\" class=\"dataframe\">\n",
              "  <thead>\n",
              "    <tr style=\"text-align: right;\">\n",
              "      <th></th>\n",
              "      <th>rating</th>\n",
              "      <th>dVa_timePlayed</th>\n",
              "      <th>dVa_barrierDamageDoneAvgPer10Min</th>\n",
              "      <th>dVa_criticalHitsAvgPer10Min</th>\n",
              "      <th>dVa_deathsAvgPer10Min</th>\n",
              "      <th>dVa_eliminationsAvgPer10Min</th>\n",
              "      <th>dVa_finalBlowsAvgPer10Min</th>\n",
              "      <th>dVa_heroDamageDoneAvgPer10Min</th>\n",
              "      <th>dVa_objectiveKillsAvgPer10Min</th>\n",
              "      <th>dVa_objectiveTimeAvgPer10Min</th>\n",
              "      <th>dVa_soloKillsAvgPer10Min</th>\n",
              "      <th>dVa_timeSpentOnFireAvgPer10Min</th>\n",
              "      <th>dVa_weaponAccuracy</th>\n",
              "      <th>dVa_damageBlockedAvgPer10Min</th>\n",
              "      <th>dVa_mechsCalledAvgPer10Min</th>\n",
              "      <th>dVa_selfDestructKillsAvgPer10Min</th>\n",
              "      <th>orisa_timePlayed</th>\n",
              "      <th>orisa_barrierDamageDoneAvgPer10Min</th>\n",
              "      <th>orisa_deathsAvgPer10Min</th>\n",
              "      <th>orisa_eliminationsAvgPer10Min</th>\n",
              "      <th>orisa_finalBlowsAvgPer10Min</th>\n",
              "      <th>orisa_heroDamageDoneAvgPer10Min</th>\n",
              "      <th>orisa_objectiveKillsAvgPer10Min</th>\n",
              "      <th>orisa_objectiveTimeAvgPer10Min</th>\n",
              "      <th>orisa_soloKillsAvgPer10Min</th>\n",
              "      <th>orisa_timeSpentOnFireAvgPer10Min</th>\n",
              "      <th>orisa_weaponAccuracy</th>\n",
              "      <th>orisa_damageBlockedAvgPer10Min</th>\n",
              "      <th>orisa_superchargerAssistsAvgPer10Min</th>\n",
              "      <th>reinhardt_timePlayed</th>\n",
              "      <th>reinhardt_barrierDamageDoneAvgPer10Min</th>\n",
              "      <th>reinhardt_deathsAvgPer10Min</th>\n",
              "      <th>reinhardt_eliminationsAvgPer10Min</th>\n",
              "      <th>reinhardt_finalBlowsAvgPer10Min</th>\n",
              "      <th>reinhardt_heroDamageDoneAvgPer10Min</th>\n",
              "      <th>reinhardt_objectiveKillsAvgPer10Min</th>\n",
              "      <th>reinhardt_objectiveTimeAvgPer10Min</th>\n",
              "      <th>reinhardt_soloKillsAvgPer10Min</th>\n",
              "      <th>reinhardt_timeSpentOnFireAvgPer10Min</th>\n",
              "      <th>reinhardt_chargeKillsAvgPer10Min</th>\n",
              "      <th>...</th>\n",
              "      <th>winston_objectiveTimeAvgPer10Min</th>\n",
              "      <th>winston_soloKillsAvgPer10Min</th>\n",
              "      <th>winston_timeSpentOnFireAvgPer10Min</th>\n",
              "      <th>winston_damageBlockedAvgPer10Min</th>\n",
              "      <th>winston_jumpPackKillsAvgPer10Min</th>\n",
              "      <th>winston_playersKnockedBackAvgPer10Min</th>\n",
              "      <th>winston_primalRageKillsAvgPer10Min</th>\n",
              "      <th>winston_primalRageMeleeAccuracy</th>\n",
              "      <th>winston_teslaCannonAccuracy</th>\n",
              "      <th>wreckingBall_timePlayed</th>\n",
              "      <th>wreckingBall_barrierDamageDoneAvgPer10Min</th>\n",
              "      <th>wreckingBall_deathsAvgPer10Min</th>\n",
              "      <th>wreckingBall_eliminationsAvgPer10Min</th>\n",
              "      <th>wreckingBall_finalBlowsAvgPer10Min</th>\n",
              "      <th>wreckingBall_heroDamageDoneAvgPer10Min</th>\n",
              "      <th>wreckingBall_objectiveKillsAvgPer10Min</th>\n",
              "      <th>wreckingBall_objectiveTimeAvgPer10Min</th>\n",
              "      <th>wreckingBall_soloKillsAvgPer10Min</th>\n",
              "      <th>wreckingBall_timeSpentOnFireAvgPer10Min</th>\n",
              "      <th>wreckingBall_weaponAccuracy</th>\n",
              "      <th>wreckingBall_grapplingClawKillsAvgPer10Min</th>\n",
              "      <th>wreckingBall_minefieldKillsAvgPer10Min</th>\n",
              "      <th>wreckingBall_piledriverKillsAvgPer10Min</th>\n",
              "      <th>wreckingBall_playersKnockedBackAvgPer10Min</th>\n",
              "      <th>zarya_timePlayed</th>\n",
              "      <th>zarya_barrierDamageDoneAvgPer10Min</th>\n",
              "      <th>zarya_deathsAvgPer10Min</th>\n",
              "      <th>zarya_eliminationsAvgPer10Min</th>\n",
              "      <th>zarya_finalBlowsAvgPer10Min</th>\n",
              "      <th>zarya_heroDamageDoneAvgPer10Min</th>\n",
              "      <th>zarya_objectiveKillsAvgPer10Min</th>\n",
              "      <th>zarya_objectiveTimeAvgPer10Min</th>\n",
              "      <th>zarya_soloKillsAvgPer10Min</th>\n",
              "      <th>zarya_timeSpentOnFireAvgPer10Min</th>\n",
              "      <th>zarya_weaponAccuracy</th>\n",
              "      <th>zarya_averageEnergy</th>\n",
              "      <th>zarya_damageBlockedAvgPer10Min</th>\n",
              "      <th>zarya_gravitonSurgeKillsAvgPer10Min</th>\n",
              "      <th>zarya_highEnergyKillsAvgPer10Min</th>\n",
              "      <th>zarya_primaryFireAccuracy</th>\n",
              "    </tr>\n",
              "  </thead>\n",
              "  <tbody>\n",
              "    <tr>\n",
              "      <th>0</th>\n",
              "      <td>2247.0</td>\n",
              "      <td>NaN</td>\n",
              "      <td>NaN</td>\n",
              "      <td>NaN</td>\n",
              "      <td>NaN</td>\n",
              "      <td>NaN</td>\n",
              "      <td>NaN</td>\n",
              "      <td>NaN</td>\n",
              "      <td>NaN</td>\n",
              "      <td>NaN</td>\n",
              "      <td>NaN</td>\n",
              "      <td>NaN</td>\n",
              "      <td>NaN</td>\n",
              "      <td>NaN</td>\n",
              "      <td>NaN</td>\n",
              "      <td>NaN</td>\n",
              "      <td>NaN</td>\n",
              "      <td>NaN</td>\n",
              "      <td>NaN</td>\n",
              "      <td>NaN</td>\n",
              "      <td>NaN</td>\n",
              "      <td>NaN</td>\n",
              "      <td>NaN</td>\n",
              "      <td>NaN</td>\n",
              "      <td>NaN</td>\n",
              "      <td>NaN</td>\n",
              "      <td>NaN</td>\n",
              "      <td>NaN</td>\n",
              "      <td>NaN</td>\n",
              "      <td>10826.0</td>\n",
              "      <td>2110.0</td>\n",
              "      <td>7.96</td>\n",
              "      <td>18.68</td>\n",
              "      <td>10.22</td>\n",
              "      <td>7862.0</td>\n",
              "      <td>7.91</td>\n",
              "      <td>115.0</td>\n",
              "      <td>0.49</td>\n",
              "      <td>73.0</td>\n",
              "      <td>5.36</td>\n",
              "      <td>...</td>\n",
              "      <td>127.0</td>\n",
              "      <td>1.09</td>\n",
              "      <td>48.0</td>\n",
              "      <td>15966.0</td>\n",
              "      <td>7.33</td>\n",
              "      <td>59.18</td>\n",
              "      <td>3.22</td>\n",
              "      <td>0.5</td>\n",
              "      <td>0.72</td>\n",
              "      <td>3621.0</td>\n",
              "      <td>2047.0</td>\n",
              "      <td>6.81</td>\n",
              "      <td>18.27</td>\n",
              "      <td>6.43</td>\n",
              "      <td>6308.0</td>\n",
              "      <td>8.32</td>\n",
              "      <td>141.0</td>\n",
              "      <td>1.51</td>\n",
              "      <td>34.0</td>\n",
              "      <td>0.39</td>\n",
              "      <td>4.03</td>\n",
              "      <td>1.76</td>\n",
              "      <td>4.16</td>\n",
              "      <td>61.12</td>\n",
              "      <td>10841.0</td>\n",
              "      <td>3813.0</td>\n",
              "      <td>6.04</td>\n",
              "      <td>22.18</td>\n",
              "      <td>8.05</td>\n",
              "      <td>7665.0</td>\n",
              "      <td>9.92</td>\n",
              "      <td>89.0</td>\n",
              "      <td>0.96</td>\n",
              "      <td>80.0</td>\n",
              "      <td>0.51</td>\n",
              "      <td>0.42</td>\n",
              "      <td>6312.0</td>\n",
              "      <td>3.48</td>\n",
              "      <td>14.50</td>\n",
              "      <td>0.43</td>\n",
              "    </tr>\n",
              "    <tr>\n",
              "      <th>1</th>\n",
              "      <td>1639.0</td>\n",
              "      <td>3642.0</td>\n",
              "      <td>6148.0</td>\n",
              "      <td>321.0</td>\n",
              "      <td>4.33</td>\n",
              "      <td>27.03</td>\n",
              "      <td>10.03</td>\n",
              "      <td>8777.0</td>\n",
              "      <td>9.72</td>\n",
              "      <td>109.0</td>\n",
              "      <td>2.22</td>\n",
              "      <td>59.0</td>\n",
              "      <td>0.28</td>\n",
              "      <td>6422.0</td>\n",
              "      <td>5.6</td>\n",
              "      <td>2.43</td>\n",
              "      <td>NaN</td>\n",
              "      <td>NaN</td>\n",
              "      <td>NaN</td>\n",
              "      <td>NaN</td>\n",
              "      <td>NaN</td>\n",
              "      <td>NaN</td>\n",
              "      <td>NaN</td>\n",
              "      <td>NaN</td>\n",
              "      <td>NaN</td>\n",
              "      <td>NaN</td>\n",
              "      <td>NaN</td>\n",
              "      <td>NaN</td>\n",
              "      <td>NaN</td>\n",
              "      <td>NaN</td>\n",
              "      <td>NaN</td>\n",
              "      <td>NaN</td>\n",
              "      <td>NaN</td>\n",
              "      <td>NaN</td>\n",
              "      <td>NaN</td>\n",
              "      <td>NaN</td>\n",
              "      <td>NaN</td>\n",
              "      <td>NaN</td>\n",
              "      <td>NaN</td>\n",
              "      <td>NaN</td>\n",
              "      <td>...</td>\n",
              "      <td>NaN</td>\n",
              "      <td>NaN</td>\n",
              "      <td>NaN</td>\n",
              "      <td>NaN</td>\n",
              "      <td>NaN</td>\n",
              "      <td>NaN</td>\n",
              "      <td>NaN</td>\n",
              "      <td>NaN</td>\n",
              "      <td>NaN</td>\n",
              "      <td>NaN</td>\n",
              "      <td>NaN</td>\n",
              "      <td>NaN</td>\n",
              "      <td>NaN</td>\n",
              "      <td>NaN</td>\n",
              "      <td>NaN</td>\n",
              "      <td>NaN</td>\n",
              "      <td>NaN</td>\n",
              "      <td>NaN</td>\n",
              "      <td>NaN</td>\n",
              "      <td>NaN</td>\n",
              "      <td>NaN</td>\n",
              "      <td>NaN</td>\n",
              "      <td>NaN</td>\n",
              "      <td>NaN</td>\n",
              "      <td>3656.0</td>\n",
              "      <td>4199.0</td>\n",
              "      <td>3.70</td>\n",
              "      <td>28.79</td>\n",
              "      <td>12.07</td>\n",
              "      <td>9464.0</td>\n",
              "      <td>12.61</td>\n",
              "      <td>79.0</td>\n",
              "      <td>1.65</td>\n",
              "      <td>130.0</td>\n",
              "      <td>0.49</td>\n",
              "      <td>0.41</td>\n",
              "      <td>5253.0</td>\n",
              "      <td>5.21</td>\n",
              "      <td>16.59</td>\n",
              "      <td>0.45</td>\n",
              "    </tr>\n",
              "    <tr>\n",
              "      <th>2</th>\n",
              "      <td>3115.0</td>\n",
              "      <td>NaN</td>\n",
              "      <td>NaN</td>\n",
              "      <td>NaN</td>\n",
              "      <td>NaN</td>\n",
              "      <td>NaN</td>\n",
              "      <td>NaN</td>\n",
              "      <td>NaN</td>\n",
              "      <td>NaN</td>\n",
              "      <td>NaN</td>\n",
              "      <td>NaN</td>\n",
              "      <td>NaN</td>\n",
              "      <td>NaN</td>\n",
              "      <td>NaN</td>\n",
              "      <td>NaN</td>\n",
              "      <td>NaN</td>\n",
              "      <td>NaN</td>\n",
              "      <td>NaN</td>\n",
              "      <td>NaN</td>\n",
              "      <td>NaN</td>\n",
              "      <td>NaN</td>\n",
              "      <td>NaN</td>\n",
              "      <td>NaN</td>\n",
              "      <td>NaN</td>\n",
              "      <td>NaN</td>\n",
              "      <td>NaN</td>\n",
              "      <td>NaN</td>\n",
              "      <td>NaN</td>\n",
              "      <td>NaN</td>\n",
              "      <td>3601.0</td>\n",
              "      <td>3055.0</td>\n",
              "      <td>6.43</td>\n",
              "      <td>13.21</td>\n",
              "      <td>6.61</td>\n",
              "      <td>6740.0</td>\n",
              "      <td>3.75</td>\n",
              "      <td>50.0</td>\n",
              "      <td>0.62</td>\n",
              "      <td>14.0</td>\n",
              "      <td>3.84</td>\n",
              "      <td>...</td>\n",
              "      <td>NaN</td>\n",
              "      <td>NaN</td>\n",
              "      <td>NaN</td>\n",
              "      <td>NaN</td>\n",
              "      <td>NaN</td>\n",
              "      <td>NaN</td>\n",
              "      <td>NaN</td>\n",
              "      <td>NaN</td>\n",
              "      <td>NaN</td>\n",
              "      <td>NaN</td>\n",
              "      <td>NaN</td>\n",
              "      <td>NaN</td>\n",
              "      <td>NaN</td>\n",
              "      <td>NaN</td>\n",
              "      <td>NaN</td>\n",
              "      <td>NaN</td>\n",
              "      <td>NaN</td>\n",
              "      <td>NaN</td>\n",
              "      <td>NaN</td>\n",
              "      <td>NaN</td>\n",
              "      <td>NaN</td>\n",
              "      <td>NaN</td>\n",
              "      <td>NaN</td>\n",
              "      <td>NaN</td>\n",
              "      <td>NaN</td>\n",
              "      <td>NaN</td>\n",
              "      <td>NaN</td>\n",
              "      <td>NaN</td>\n",
              "      <td>NaN</td>\n",
              "      <td>NaN</td>\n",
              "      <td>NaN</td>\n",
              "      <td>NaN</td>\n",
              "      <td>NaN</td>\n",
              "      <td>NaN</td>\n",
              "      <td>NaN</td>\n",
              "      <td>NaN</td>\n",
              "      <td>NaN</td>\n",
              "      <td>NaN</td>\n",
              "      <td>NaN</td>\n",
              "      <td>NaN</td>\n",
              "    </tr>\n",
              "    <tr>\n",
              "      <th>3</th>\n",
              "      <td>2015.0</td>\n",
              "      <td>NaN</td>\n",
              "      <td>NaN</td>\n",
              "      <td>NaN</td>\n",
              "      <td>NaN</td>\n",
              "      <td>NaN</td>\n",
              "      <td>NaN</td>\n",
              "      <td>NaN</td>\n",
              "      <td>NaN</td>\n",
              "      <td>NaN</td>\n",
              "      <td>NaN</td>\n",
              "      <td>NaN</td>\n",
              "      <td>NaN</td>\n",
              "      <td>NaN</td>\n",
              "      <td>NaN</td>\n",
              "      <td>NaN</td>\n",
              "      <td>NaN</td>\n",
              "      <td>NaN</td>\n",
              "      <td>NaN</td>\n",
              "      <td>NaN</td>\n",
              "      <td>NaN</td>\n",
              "      <td>NaN</td>\n",
              "      <td>NaN</td>\n",
              "      <td>NaN</td>\n",
              "      <td>NaN</td>\n",
              "      <td>NaN</td>\n",
              "      <td>NaN</td>\n",
              "      <td>NaN</td>\n",
              "      <td>NaN</td>\n",
              "      <td>NaN</td>\n",
              "      <td>NaN</td>\n",
              "      <td>NaN</td>\n",
              "      <td>NaN</td>\n",
              "      <td>NaN</td>\n",
              "      <td>NaN</td>\n",
              "      <td>NaN</td>\n",
              "      <td>NaN</td>\n",
              "      <td>NaN</td>\n",
              "      <td>NaN</td>\n",
              "      <td>NaN</td>\n",
              "      <td>...</td>\n",
              "      <td>NaN</td>\n",
              "      <td>NaN</td>\n",
              "      <td>NaN</td>\n",
              "      <td>NaN</td>\n",
              "      <td>NaN</td>\n",
              "      <td>NaN</td>\n",
              "      <td>NaN</td>\n",
              "      <td>NaN</td>\n",
              "      <td>NaN</td>\n",
              "      <td>NaN</td>\n",
              "      <td>NaN</td>\n",
              "      <td>NaN</td>\n",
              "      <td>NaN</td>\n",
              "      <td>NaN</td>\n",
              "      <td>NaN</td>\n",
              "      <td>NaN</td>\n",
              "      <td>NaN</td>\n",
              "      <td>NaN</td>\n",
              "      <td>NaN</td>\n",
              "      <td>NaN</td>\n",
              "      <td>NaN</td>\n",
              "      <td>NaN</td>\n",
              "      <td>NaN</td>\n",
              "      <td>NaN</td>\n",
              "      <td>7226.0</td>\n",
              "      <td>4072.0</td>\n",
              "      <td>7.34</td>\n",
              "      <td>21.39</td>\n",
              "      <td>7.40</td>\n",
              "      <td>6794.0</td>\n",
              "      <td>10.16</td>\n",
              "      <td>97.0</td>\n",
              "      <td>0.88</td>\n",
              "      <td>44.0</td>\n",
              "      <td>0.43</td>\n",
              "      <td>0.31</td>\n",
              "      <td>5217.0</td>\n",
              "      <td>4.39</td>\n",
              "      <td>9.53</td>\n",
              "      <td>0.43</td>\n",
              "    </tr>\n",
              "    <tr>\n",
              "      <th>4</th>\n",
              "      <td>3358.0</td>\n",
              "      <td>NaN</td>\n",
              "      <td>NaN</td>\n",
              "      <td>NaN</td>\n",
              "      <td>NaN</td>\n",
              "      <td>NaN</td>\n",
              "      <td>NaN</td>\n",
              "      <td>NaN</td>\n",
              "      <td>NaN</td>\n",
              "      <td>NaN</td>\n",
              "      <td>NaN</td>\n",
              "      <td>NaN</td>\n",
              "      <td>NaN</td>\n",
              "      <td>NaN</td>\n",
              "      <td>NaN</td>\n",
              "      <td>NaN</td>\n",
              "      <td>NaN</td>\n",
              "      <td>NaN</td>\n",
              "      <td>NaN</td>\n",
              "      <td>NaN</td>\n",
              "      <td>NaN</td>\n",
              "      <td>NaN</td>\n",
              "      <td>NaN</td>\n",
              "      <td>NaN</td>\n",
              "      <td>NaN</td>\n",
              "      <td>NaN</td>\n",
              "      <td>NaN</td>\n",
              "      <td>NaN</td>\n",
              "      <td>NaN</td>\n",
              "      <td>NaN</td>\n",
              "      <td>NaN</td>\n",
              "      <td>NaN</td>\n",
              "      <td>NaN</td>\n",
              "      <td>NaN</td>\n",
              "      <td>NaN</td>\n",
              "      <td>NaN</td>\n",
              "      <td>NaN</td>\n",
              "      <td>NaN</td>\n",
              "      <td>NaN</td>\n",
              "      <td>NaN</td>\n",
              "      <td>...</td>\n",
              "      <td>NaN</td>\n",
              "      <td>NaN</td>\n",
              "      <td>NaN</td>\n",
              "      <td>NaN</td>\n",
              "      <td>NaN</td>\n",
              "      <td>NaN</td>\n",
              "      <td>NaN</td>\n",
              "      <td>NaN</td>\n",
              "      <td>NaN</td>\n",
              "      <td>NaN</td>\n",
              "      <td>NaN</td>\n",
              "      <td>NaN</td>\n",
              "      <td>NaN</td>\n",
              "      <td>NaN</td>\n",
              "      <td>NaN</td>\n",
              "      <td>NaN</td>\n",
              "      <td>NaN</td>\n",
              "      <td>NaN</td>\n",
              "      <td>NaN</td>\n",
              "      <td>NaN</td>\n",
              "      <td>NaN</td>\n",
              "      <td>NaN</td>\n",
              "      <td>NaN</td>\n",
              "      <td>NaN</td>\n",
              "      <td>7218.0</td>\n",
              "      <td>5572.0</td>\n",
              "      <td>5.05</td>\n",
              "      <td>34.32</td>\n",
              "      <td>13.62</td>\n",
              "      <td>11032.0</td>\n",
              "      <td>10.29</td>\n",
              "      <td>56.0</td>\n",
              "      <td>1.54</td>\n",
              "      <td>160.0</td>\n",
              "      <td>0.46</td>\n",
              "      <td>0.50</td>\n",
              "      <td>6776.0</td>\n",
              "      <td>6.28</td>\n",
              "      <td>24.15</td>\n",
              "      <td>0.47</td>\n",
              "    </tr>\n",
              "  </tbody>\n",
              "</table>\n",
              "<p>5 rows × 120 columns</p>\n",
              "</div>"
            ],
            "text/plain": [
              "   rating  ...  zarya_primaryFireAccuracy\n",
              "0  2247.0  ...                       0.43\n",
              "1  1639.0  ...                       0.45\n",
              "2  3115.0  ...                        NaN\n",
              "3  2015.0  ...                       0.43\n",
              "4  3358.0  ...                       0.47\n",
              "\n",
              "[5 rows x 120 columns]"
            ]
          },
          "metadata": {
            "tags": []
          },
          "execution_count": 17
        }
      ]
    },
    {
      "cell_type": "code",
      "metadata": {
        "colab": {
          "base_uri": "https://localhost:8080/",
          "height": 270
        },
        "id": "N3wp85XUqGSS",
        "outputId": "85cc4aa7-6acf-42cf-908f-e622141396c3"
      },
      "source": [
        "print(\"\\033[1mExample Damage Data\\033[0m\")\n",
        "damage_train.head()"
      ],
      "execution_count": 18,
      "outputs": [
        {
          "output_type": "stream",
          "text": [
            "\u001b[1mExample Damage Data\u001b[0m\n"
          ],
          "name": "stdout"
        },
        {
          "output_type": "execute_result",
          "data": {
            "text/html": [
              "<div>\n",
              "<style scoped>\n",
              "    .dataframe tbody tr th:only-of-type {\n",
              "        vertical-align: middle;\n",
              "    }\n",
              "\n",
              "    .dataframe tbody tr th {\n",
              "        vertical-align: top;\n",
              "    }\n",
              "\n",
              "    .dataframe thead th {\n",
              "        text-align: right;\n",
              "    }\n",
              "</style>\n",
              "<table border=\"1\" class=\"dataframe\">\n",
              "  <thead>\n",
              "    <tr style=\"text-align: right;\">\n",
              "      <th></th>\n",
              "      <th>rating</th>\n",
              "      <th>ashe_timePlayed</th>\n",
              "      <th>ashe_barrierDamageDoneAvgPer10Min</th>\n",
              "      <th>ashe_criticalHitsAvgPer10Min</th>\n",
              "      <th>ashe_deathsAvgPer10Min</th>\n",
              "      <th>ashe_eliminationsAvgPer10Min</th>\n",
              "      <th>ashe_finalBlowsAvgPer10Min</th>\n",
              "      <th>ashe_heroDamageDoneAvgPer10Min</th>\n",
              "      <th>ashe_objectiveKillsAvgPer10Min</th>\n",
              "      <th>ashe_objectiveTimeAvgPer10Min</th>\n",
              "      <th>ashe_soloKillsAvgPer10Min</th>\n",
              "      <th>ashe_timeSpentOnFireAvgPer10Min</th>\n",
              "      <th>ashe_criticalHitsAccuracy</th>\n",
              "      <th>ashe_weaponAccuracy</th>\n",
              "      <th>ashe_bobKillsAvgPer10Min</th>\n",
              "      <th>ashe_dynamiteKillsAvgPer10Min</th>\n",
              "      <th>ashe_scopedAccuracy</th>\n",
              "      <th>ashe_scopedCriticalHitsAccuracy</th>\n",
              "      <th>bastion_timePlayed</th>\n",
              "      <th>bastion_barrierDamageDoneAvgPer10Min</th>\n",
              "      <th>bastion_criticalHitsAvgPer10Min</th>\n",
              "      <th>bastion_deathsAvgPer10Min</th>\n",
              "      <th>bastion_eliminationsAvgPer10Min</th>\n",
              "      <th>bastion_finalBlowsAvgPer10Min</th>\n",
              "      <th>bastion_heroDamageDoneAvgPer10Min</th>\n",
              "      <th>bastion_objectiveKillsAvgPer10Min</th>\n",
              "      <th>bastion_objectiveTimeAvgPer10Min</th>\n",
              "      <th>bastion_soloKillsAvgPer10Min</th>\n",
              "      <th>bastion_timeSpentOnFireAvgPer10Min</th>\n",
              "      <th>bastion_criticalHitsAccuracy</th>\n",
              "      <th>bastion_weaponAccuracy</th>\n",
              "      <th>bastion_reconKillsAvgPer10Min</th>\n",
              "      <th>bastion_selfHealingAvgPer10Min</th>\n",
              "      <th>bastion_sentryKillsAvgPer10Min</th>\n",
              "      <th>doomfist_timePlayed</th>\n",
              "      <th>doomfist_barrierDamageDoneAvgPer10Min</th>\n",
              "      <th>doomfist_criticalHitsAvgPer10Min</th>\n",
              "      <th>doomfist_deathsAvgPer10Min</th>\n",
              "      <th>doomfist_eliminationsAvgPer10Min</th>\n",
              "      <th>doomfist_finalBlowsAvgPer10Min</th>\n",
              "      <th>...</th>\n",
              "      <th>torbjorn_heroDamageDoneAvgPer10Min</th>\n",
              "      <th>torbjorn_objectiveKillsAvgPer10Min</th>\n",
              "      <th>torbjorn_objectiveTimeAvgPer10Min</th>\n",
              "      <th>torbjorn_soloKillsAvgPer10Min</th>\n",
              "      <th>torbjorn_timeSpentOnFireAvgPer10Min</th>\n",
              "      <th>torbjorn_criticalHitsAccuracy</th>\n",
              "      <th>torbjorn_weaponAccuracy</th>\n",
              "      <th>torbjorn_moltenCoreKillsAvgPer10Min</th>\n",
              "      <th>torbjorn_turretsDamageAvgPer10Min</th>\n",
              "      <th>torbjorn_turretsKillsAvgPer10Min</th>\n",
              "      <th>tracer_timePlayed</th>\n",
              "      <th>tracer_barrierDamageDoneAvgPer10Min</th>\n",
              "      <th>tracer_criticalHitsAvgPer10Min</th>\n",
              "      <th>tracer_deathsAvgPer10Min</th>\n",
              "      <th>tracer_eliminationsAvgPer10Min</th>\n",
              "      <th>tracer_finalBlowsAvgPer10Min</th>\n",
              "      <th>tracer_heroDamageDoneAvgPer10Min</th>\n",
              "      <th>tracer_objectiveKillsAvgPer10Min</th>\n",
              "      <th>tracer_objectiveTimeAvgPer10Min</th>\n",
              "      <th>tracer_soloKillsAvgPer10Min</th>\n",
              "      <th>tracer_timeSpentOnFireAvgPer10Min</th>\n",
              "      <th>tracer_criticalHitsAccuracy</th>\n",
              "      <th>tracer_weaponAccuracy</th>\n",
              "      <th>tracer_healthRecoveredAvgPer10Min</th>\n",
              "      <th>tracer_pulseBombsKillsAvgPer10Min</th>\n",
              "      <th>widowmaker_timePlayed</th>\n",
              "      <th>widowmaker_barrierDamageDoneAvgPer10Min</th>\n",
              "      <th>widowmaker_criticalHitsAvgPer10Min</th>\n",
              "      <th>widowmaker_deathsAvgPer10Min</th>\n",
              "      <th>widowmaker_eliminationsAvgPer10Min</th>\n",
              "      <th>widowmaker_finalBlowsAvgPer10Min</th>\n",
              "      <th>widowmaker_heroDamageDoneAvgPer10Min</th>\n",
              "      <th>widowmaker_objectiveKillsAvgPer10Min</th>\n",
              "      <th>widowmaker_objectiveTimeAvgPer10Min</th>\n",
              "      <th>widowmaker_soloKillsAvgPer10Min</th>\n",
              "      <th>widowmaker_timeSpentOnFireAvgPer10Min</th>\n",
              "      <th>widowmaker_criticalHitsAccuracy</th>\n",
              "      <th>widowmaker_weaponAccuracy</th>\n",
              "      <th>widowmaker_scopedAccuracy</th>\n",
              "      <th>widowmaker_scopedCriticalHitsAccuracy</th>\n",
              "    </tr>\n",
              "  </thead>\n",
              "  <tbody>\n",
              "    <tr>\n",
              "      <th>0</th>\n",
              "      <td>2243.0</td>\n",
              "      <td>NaN</td>\n",
              "      <td>NaN</td>\n",
              "      <td>NaN</td>\n",
              "      <td>NaN</td>\n",
              "      <td>NaN</td>\n",
              "      <td>NaN</td>\n",
              "      <td>NaN</td>\n",
              "      <td>NaN</td>\n",
              "      <td>NaN</td>\n",
              "      <td>NaN</td>\n",
              "      <td>NaN</td>\n",
              "      <td>NaN</td>\n",
              "      <td>NaN</td>\n",
              "      <td>NaN</td>\n",
              "      <td>NaN</td>\n",
              "      <td>NaN</td>\n",
              "      <td>NaN</td>\n",
              "      <td>NaN</td>\n",
              "      <td>NaN</td>\n",
              "      <td>NaN</td>\n",
              "      <td>NaN</td>\n",
              "      <td>NaN</td>\n",
              "      <td>NaN</td>\n",
              "      <td>NaN</td>\n",
              "      <td>NaN</td>\n",
              "      <td>NaN</td>\n",
              "      <td>NaN</td>\n",
              "      <td>NaN</td>\n",
              "      <td>NaN</td>\n",
              "      <td>NaN</td>\n",
              "      <td>NaN</td>\n",
              "      <td>NaN</td>\n",
              "      <td>NaN</td>\n",
              "      <td>NaN</td>\n",
              "      <td>NaN</td>\n",
              "      <td>NaN</td>\n",
              "      <td>NaN</td>\n",
              "      <td>NaN</td>\n",
              "      <td>NaN</td>\n",
              "      <td>...</td>\n",
              "      <td>NaN</td>\n",
              "      <td>NaN</td>\n",
              "      <td>NaN</td>\n",
              "      <td>NaN</td>\n",
              "      <td>NaN</td>\n",
              "      <td>NaN</td>\n",
              "      <td>NaN</td>\n",
              "      <td>NaN</td>\n",
              "      <td>NaN</td>\n",
              "      <td>NaN</td>\n",
              "      <td>NaN</td>\n",
              "      <td>NaN</td>\n",
              "      <td>NaN</td>\n",
              "      <td>NaN</td>\n",
              "      <td>NaN</td>\n",
              "      <td>NaN</td>\n",
              "      <td>NaN</td>\n",
              "      <td>NaN</td>\n",
              "      <td>NaN</td>\n",
              "      <td>NaN</td>\n",
              "      <td>NaN</td>\n",
              "      <td>NaN</td>\n",
              "      <td>NaN</td>\n",
              "      <td>NaN</td>\n",
              "      <td>NaN</td>\n",
              "      <td>NaN</td>\n",
              "      <td>NaN</td>\n",
              "      <td>NaN</td>\n",
              "      <td>NaN</td>\n",
              "      <td>NaN</td>\n",
              "      <td>NaN</td>\n",
              "      <td>NaN</td>\n",
              "      <td>NaN</td>\n",
              "      <td>NaN</td>\n",
              "      <td>NaN</td>\n",
              "      <td>NaN</td>\n",
              "      <td>NaN</td>\n",
              "      <td>NaN</td>\n",
              "      <td>NaN</td>\n",
              "      <td>NaN</td>\n",
              "    </tr>\n",
              "    <tr>\n",
              "      <th>1</th>\n",
              "      <td>2072.0</td>\n",
              "      <td>3620.0</td>\n",
              "      <td>2214.0</td>\n",
              "      <td>8.76</td>\n",
              "      <td>7.83</td>\n",
              "      <td>20.71</td>\n",
              "      <td>9.56</td>\n",
              "      <td>8410.0</td>\n",
              "      <td>8.63</td>\n",
              "      <td>41.0</td>\n",
              "      <td>1.19</td>\n",
              "      <td>17.0</td>\n",
              "      <td>0.1</td>\n",
              "      <td>0.38</td>\n",
              "      <td>2.12</td>\n",
              "      <td>5.71</td>\n",
              "      <td>0.39</td>\n",
              "      <td>0.1</td>\n",
              "      <td>NaN</td>\n",
              "      <td>NaN</td>\n",
              "      <td>NaN</td>\n",
              "      <td>NaN</td>\n",
              "      <td>NaN</td>\n",
              "      <td>NaN</td>\n",
              "      <td>NaN</td>\n",
              "      <td>NaN</td>\n",
              "      <td>NaN</td>\n",
              "      <td>NaN</td>\n",
              "      <td>NaN</td>\n",
              "      <td>NaN</td>\n",
              "      <td>NaN</td>\n",
              "      <td>NaN</td>\n",
              "      <td>NaN</td>\n",
              "      <td>NaN</td>\n",
              "      <td>NaN</td>\n",
              "      <td>NaN</td>\n",
              "      <td>NaN</td>\n",
              "      <td>NaN</td>\n",
              "      <td>NaN</td>\n",
              "      <td>NaN</td>\n",
              "      <td>...</td>\n",
              "      <td>NaN</td>\n",
              "      <td>NaN</td>\n",
              "      <td>NaN</td>\n",
              "      <td>NaN</td>\n",
              "      <td>NaN</td>\n",
              "      <td>NaN</td>\n",
              "      <td>NaN</td>\n",
              "      <td>NaN</td>\n",
              "      <td>NaN</td>\n",
              "      <td>NaN</td>\n",
              "      <td>14447.0</td>\n",
              "      <td>1863.0</td>\n",
              "      <td>82.31</td>\n",
              "      <td>7.57</td>\n",
              "      <td>22.14</td>\n",
              "      <td>10.51</td>\n",
              "      <td>6427.0</td>\n",
              "      <td>8.39</td>\n",
              "      <td>60.0</td>\n",
              "      <td>2.67</td>\n",
              "      <td>40.0</td>\n",
              "      <td>0.07</td>\n",
              "      <td>0.32</td>\n",
              "      <td>646.0</td>\n",
              "      <td>2.05</td>\n",
              "      <td>3641.0</td>\n",
              "      <td>1458.0</td>\n",
              "      <td>11.31</td>\n",
              "      <td>7.28</td>\n",
              "      <td>15.34</td>\n",
              "      <td>10.54</td>\n",
              "      <td>5828.0</td>\n",
              "      <td>4.46</td>\n",
              "      <td>28.0</td>\n",
              "      <td>3.94</td>\n",
              "      <td>11.0</td>\n",
              "      <td>0.16</td>\n",
              "      <td>0.4</td>\n",
              "      <td>0.41</td>\n",
              "      <td>0.21</td>\n",
              "    </tr>\n",
              "    <tr>\n",
              "      <th>2</th>\n",
              "      <td>2555.0</td>\n",
              "      <td>NaN</td>\n",
              "      <td>NaN</td>\n",
              "      <td>NaN</td>\n",
              "      <td>NaN</td>\n",
              "      <td>NaN</td>\n",
              "      <td>NaN</td>\n",
              "      <td>NaN</td>\n",
              "      <td>NaN</td>\n",
              "      <td>NaN</td>\n",
              "      <td>NaN</td>\n",
              "      <td>NaN</td>\n",
              "      <td>NaN</td>\n",
              "      <td>NaN</td>\n",
              "      <td>NaN</td>\n",
              "      <td>NaN</td>\n",
              "      <td>NaN</td>\n",
              "      <td>NaN</td>\n",
              "      <td>NaN</td>\n",
              "      <td>NaN</td>\n",
              "      <td>NaN</td>\n",
              "      <td>NaN</td>\n",
              "      <td>NaN</td>\n",
              "      <td>NaN</td>\n",
              "      <td>NaN</td>\n",
              "      <td>NaN</td>\n",
              "      <td>NaN</td>\n",
              "      <td>NaN</td>\n",
              "      <td>NaN</td>\n",
              "      <td>NaN</td>\n",
              "      <td>NaN</td>\n",
              "      <td>NaN</td>\n",
              "      <td>NaN</td>\n",
              "      <td>NaN</td>\n",
              "      <td>NaN</td>\n",
              "      <td>NaN</td>\n",
              "      <td>NaN</td>\n",
              "      <td>NaN</td>\n",
              "      <td>NaN</td>\n",
              "      <td>NaN</td>\n",
              "      <td>...</td>\n",
              "      <td>NaN</td>\n",
              "      <td>NaN</td>\n",
              "      <td>NaN</td>\n",
              "      <td>NaN</td>\n",
              "      <td>NaN</td>\n",
              "      <td>NaN</td>\n",
              "      <td>NaN</td>\n",
              "      <td>NaN</td>\n",
              "      <td>NaN</td>\n",
              "      <td>NaN</td>\n",
              "      <td>NaN</td>\n",
              "      <td>NaN</td>\n",
              "      <td>NaN</td>\n",
              "      <td>NaN</td>\n",
              "      <td>NaN</td>\n",
              "      <td>NaN</td>\n",
              "      <td>NaN</td>\n",
              "      <td>NaN</td>\n",
              "      <td>NaN</td>\n",
              "      <td>NaN</td>\n",
              "      <td>NaN</td>\n",
              "      <td>NaN</td>\n",
              "      <td>NaN</td>\n",
              "      <td>NaN</td>\n",
              "      <td>NaN</td>\n",
              "      <td>NaN</td>\n",
              "      <td>NaN</td>\n",
              "      <td>NaN</td>\n",
              "      <td>NaN</td>\n",
              "      <td>NaN</td>\n",
              "      <td>NaN</td>\n",
              "      <td>NaN</td>\n",
              "      <td>NaN</td>\n",
              "      <td>NaN</td>\n",
              "      <td>NaN</td>\n",
              "      <td>NaN</td>\n",
              "      <td>NaN</td>\n",
              "      <td>NaN</td>\n",
              "      <td>NaN</td>\n",
              "      <td>NaN</td>\n",
              "    </tr>\n",
              "    <tr>\n",
              "      <th>3</th>\n",
              "      <td>2978.0</td>\n",
              "      <td>NaN</td>\n",
              "      <td>NaN</td>\n",
              "      <td>NaN</td>\n",
              "      <td>NaN</td>\n",
              "      <td>NaN</td>\n",
              "      <td>NaN</td>\n",
              "      <td>NaN</td>\n",
              "      <td>NaN</td>\n",
              "      <td>NaN</td>\n",
              "      <td>NaN</td>\n",
              "      <td>NaN</td>\n",
              "      <td>NaN</td>\n",
              "      <td>NaN</td>\n",
              "      <td>NaN</td>\n",
              "      <td>NaN</td>\n",
              "      <td>NaN</td>\n",
              "      <td>NaN</td>\n",
              "      <td>NaN</td>\n",
              "      <td>NaN</td>\n",
              "      <td>NaN</td>\n",
              "      <td>NaN</td>\n",
              "      <td>NaN</td>\n",
              "      <td>NaN</td>\n",
              "      <td>NaN</td>\n",
              "      <td>NaN</td>\n",
              "      <td>NaN</td>\n",
              "      <td>NaN</td>\n",
              "      <td>NaN</td>\n",
              "      <td>NaN</td>\n",
              "      <td>NaN</td>\n",
              "      <td>NaN</td>\n",
              "      <td>NaN</td>\n",
              "      <td>NaN</td>\n",
              "      <td>NaN</td>\n",
              "      <td>NaN</td>\n",
              "      <td>NaN</td>\n",
              "      <td>NaN</td>\n",
              "      <td>NaN</td>\n",
              "      <td>NaN</td>\n",
              "      <td>...</td>\n",
              "      <td>9753.0</td>\n",
              "      <td>6.78</td>\n",
              "      <td>20.0</td>\n",
              "      <td>1.55</td>\n",
              "      <td>25.0</td>\n",
              "      <td>0.04</td>\n",
              "      <td>0.34</td>\n",
              "      <td>2.73</td>\n",
              "      <td>3716.0</td>\n",
              "      <td>11.2</td>\n",
              "      <td>NaN</td>\n",
              "      <td>NaN</td>\n",
              "      <td>NaN</td>\n",
              "      <td>NaN</td>\n",
              "      <td>NaN</td>\n",
              "      <td>NaN</td>\n",
              "      <td>NaN</td>\n",
              "      <td>NaN</td>\n",
              "      <td>NaN</td>\n",
              "      <td>NaN</td>\n",
              "      <td>NaN</td>\n",
              "      <td>NaN</td>\n",
              "      <td>NaN</td>\n",
              "      <td>NaN</td>\n",
              "      <td>NaN</td>\n",
              "      <td>NaN</td>\n",
              "      <td>NaN</td>\n",
              "      <td>NaN</td>\n",
              "      <td>NaN</td>\n",
              "      <td>NaN</td>\n",
              "      <td>NaN</td>\n",
              "      <td>NaN</td>\n",
              "      <td>NaN</td>\n",
              "      <td>NaN</td>\n",
              "      <td>NaN</td>\n",
              "      <td>NaN</td>\n",
              "      <td>NaN</td>\n",
              "      <td>NaN</td>\n",
              "      <td>NaN</td>\n",
              "      <td>NaN</td>\n",
              "    </tr>\n",
              "    <tr>\n",
              "      <th>4</th>\n",
              "      <td>2424.0</td>\n",
              "      <td>NaN</td>\n",
              "      <td>NaN</td>\n",
              "      <td>NaN</td>\n",
              "      <td>NaN</td>\n",
              "      <td>NaN</td>\n",
              "      <td>NaN</td>\n",
              "      <td>NaN</td>\n",
              "      <td>NaN</td>\n",
              "      <td>NaN</td>\n",
              "      <td>NaN</td>\n",
              "      <td>NaN</td>\n",
              "      <td>NaN</td>\n",
              "      <td>NaN</td>\n",
              "      <td>NaN</td>\n",
              "      <td>NaN</td>\n",
              "      <td>NaN</td>\n",
              "      <td>NaN</td>\n",
              "      <td>NaN</td>\n",
              "      <td>NaN</td>\n",
              "      <td>NaN</td>\n",
              "      <td>NaN</td>\n",
              "      <td>NaN</td>\n",
              "      <td>NaN</td>\n",
              "      <td>NaN</td>\n",
              "      <td>NaN</td>\n",
              "      <td>NaN</td>\n",
              "      <td>NaN</td>\n",
              "      <td>NaN</td>\n",
              "      <td>NaN</td>\n",
              "      <td>NaN</td>\n",
              "      <td>NaN</td>\n",
              "      <td>NaN</td>\n",
              "      <td>NaN</td>\n",
              "      <td>NaN</td>\n",
              "      <td>NaN</td>\n",
              "      <td>NaN</td>\n",
              "      <td>NaN</td>\n",
              "      <td>NaN</td>\n",
              "      <td>NaN</td>\n",
              "      <td>...</td>\n",
              "      <td>NaN</td>\n",
              "      <td>NaN</td>\n",
              "      <td>NaN</td>\n",
              "      <td>NaN</td>\n",
              "      <td>NaN</td>\n",
              "      <td>NaN</td>\n",
              "      <td>NaN</td>\n",
              "      <td>NaN</td>\n",
              "      <td>NaN</td>\n",
              "      <td>NaN</td>\n",
              "      <td>NaN</td>\n",
              "      <td>NaN</td>\n",
              "      <td>NaN</td>\n",
              "      <td>NaN</td>\n",
              "      <td>NaN</td>\n",
              "      <td>NaN</td>\n",
              "      <td>NaN</td>\n",
              "      <td>NaN</td>\n",
              "      <td>NaN</td>\n",
              "      <td>NaN</td>\n",
              "      <td>NaN</td>\n",
              "      <td>NaN</td>\n",
              "      <td>NaN</td>\n",
              "      <td>NaN</td>\n",
              "      <td>NaN</td>\n",
              "      <td>NaN</td>\n",
              "      <td>NaN</td>\n",
              "      <td>NaN</td>\n",
              "      <td>NaN</td>\n",
              "      <td>NaN</td>\n",
              "      <td>NaN</td>\n",
              "      <td>NaN</td>\n",
              "      <td>NaN</td>\n",
              "      <td>NaN</td>\n",
              "      <td>NaN</td>\n",
              "      <td>NaN</td>\n",
              "      <td>NaN</td>\n",
              "      <td>NaN</td>\n",
              "      <td>NaN</td>\n",
              "      <td>NaN</td>\n",
              "    </tr>\n",
              "  </tbody>\n",
              "</table>\n",
              "<p>5 rows × 264 columns</p>\n",
              "</div>"
            ],
            "text/plain": [
              "   rating  ...  widowmaker_scopedCriticalHitsAccuracy\n",
              "0  2243.0  ...                                    NaN\n",
              "1  2072.0  ...                                   0.21\n",
              "2  2555.0  ...                                    NaN\n",
              "3  2978.0  ...                                    NaN\n",
              "4  2424.0  ...                                    NaN\n",
              "\n",
              "[5 rows x 264 columns]"
            ]
          },
          "metadata": {
            "tags": []
          },
          "execution_count": 18
        }
      ]
    },
    {
      "cell_type": "code",
      "metadata": {
        "colab": {
          "base_uri": "https://localhost:8080/",
          "height": 270
        },
        "id": "HPn_x7DPqJrq",
        "outputId": "e8a55b4f-d01d-4583-c3af-41c90f4e09b0"
      },
      "source": [
        "print(\"\\033[1mExample Support Data\\033[0m\")\n",
        "support_train.head()"
      ],
      "execution_count": 19,
      "outputs": [
        {
          "output_type": "stream",
          "text": [
            "\u001b[1mExample Support Data\u001b[0m\n"
          ],
          "name": "stdout"
        },
        {
          "output_type": "execute_result",
          "data": {
            "text/html": [
              "<div>\n",
              "<style scoped>\n",
              "    .dataframe tbody tr th:only-of-type {\n",
              "        vertical-align: middle;\n",
              "    }\n",
              "\n",
              "    .dataframe tbody tr th {\n",
              "        vertical-align: top;\n",
              "    }\n",
              "\n",
              "    .dataframe thead th {\n",
              "        text-align: right;\n",
              "    }\n",
              "</style>\n",
              "<table border=\"1\" class=\"dataframe\">\n",
              "  <thead>\n",
              "    <tr style=\"text-align: right;\">\n",
              "      <th></th>\n",
              "      <th>rating</th>\n",
              "      <th>ana_timePlayed</th>\n",
              "      <th>ana_defensiveAssistsAvgPer10Min</th>\n",
              "      <th>ana_offensiveAssistsAvgPer10Min</th>\n",
              "      <th>ana_barrierDamageDoneAvgPer10Min</th>\n",
              "      <th>ana_deathsAvgPer10Min</th>\n",
              "      <th>ana_eliminationsAvgPer10Min</th>\n",
              "      <th>ana_finalBlowsAvgPer10Min</th>\n",
              "      <th>ana_healingDoneAvgPer10Min</th>\n",
              "      <th>ana_heroDamageDoneAvgPer10Min</th>\n",
              "      <th>ana_objectiveKillsAvgPer10Min</th>\n",
              "      <th>ana_objectiveTimeAvgPer10Min</th>\n",
              "      <th>ana_soloKillsAvgPer10Min</th>\n",
              "      <th>ana_timeSpentOnFireAvgPer10Min</th>\n",
              "      <th>ana_weaponAccuracy</th>\n",
              "      <th>ana_enemiesSleptAvgPer10Min</th>\n",
              "      <th>ana_nanoBoostAssistsAvgPer10Min</th>\n",
              "      <th>ana_scopedAccuracy</th>\n",
              "      <th>ana_selfHealingAvgPer10Min</th>\n",
              "      <th>ana_unscopedAccuracy</th>\n",
              "      <th>baptiste_timePlayed</th>\n",
              "      <th>baptiste_defensiveAssistsAvgPer10Min</th>\n",
              "      <th>baptiste_offensiveAssistsAvgPer10Min</th>\n",
              "      <th>baptiste_barrierDamageDoneAvgPer10Min</th>\n",
              "      <th>baptiste_criticalHitsAvgPer10Min</th>\n",
              "      <th>baptiste_deathsAvgPer10Min</th>\n",
              "      <th>baptiste_eliminationsAvgPer10Min</th>\n",
              "      <th>baptiste_finalBlowsAvgPer10Min</th>\n",
              "      <th>baptiste_healingDoneAvgPer10Min</th>\n",
              "      <th>baptiste_heroDamageDoneAvgPer10Min</th>\n",
              "      <th>baptiste_objectiveKillsAvgPer10Min</th>\n",
              "      <th>baptiste_objectiveTimeAvgPer10Min</th>\n",
              "      <th>baptiste_soloKillsAvgPer10Min</th>\n",
              "      <th>baptiste_timeSpentOnFireAvgPer10Min</th>\n",
              "      <th>baptiste_weaponAccuracy</th>\n",
              "      <th>baptiste_amplificationMatrixAssistsAvgPer10Min</th>\n",
              "      <th>baptiste_healingAccuracy</th>\n",
              "      <th>baptiste_immortalityFieldDeathsPreventedAvgPer10Min</th>\n",
              "      <th>baptiste_selfHealingAvgPer10Min</th>\n",
              "      <th>brigitte_timePlayed</th>\n",
              "      <th>...</th>\n",
              "      <th>mercy_heroDamageDoneAvgPer10Min</th>\n",
              "      <th>mercy_objectiveKillsAvgPer10Min</th>\n",
              "      <th>mercy_objectiveTimeAvgPer10Min</th>\n",
              "      <th>mercy_soloKillsAvgPer10Min</th>\n",
              "      <th>mercy_timeSpentOnFireAvgPer10Min</th>\n",
              "      <th>mercy_weaponAccuracy</th>\n",
              "      <th>mercy_damageAmplifiedAvgPer10Min</th>\n",
              "      <th>mercy_playersResurrectedAvgPer10Min</th>\n",
              "      <th>moira_timePlayed</th>\n",
              "      <th>moira_defensiveAssistsAvgPer10Min</th>\n",
              "      <th>moira_barrierDamageDoneAvgPer10Min</th>\n",
              "      <th>moira_deathsAvgPer10Min</th>\n",
              "      <th>moira_eliminationsAvgPer10Min</th>\n",
              "      <th>moira_finalBlowsAvgPer10Min</th>\n",
              "      <th>moira_healingDoneAvgPer10Min</th>\n",
              "      <th>moira_heroDamageDoneAvgPer10Min</th>\n",
              "      <th>moira_objectiveKillsAvgPer10Min</th>\n",
              "      <th>moira_objectiveTimeAvgPer10Min</th>\n",
              "      <th>moira_soloKillsAvgPer10Min</th>\n",
              "      <th>moira_timeSpentOnFireAvgPer10Min</th>\n",
              "      <th>moira_coalescenceHealingAvgPer10Min</th>\n",
              "      <th>moira_coalescenceKillsAvgPer10Min</th>\n",
              "      <th>moira_secondaryFireAccuracy</th>\n",
              "      <th>moira_selfHealingAvgPer10Min</th>\n",
              "      <th>zenyatta_timePlayed</th>\n",
              "      <th>zenyatta_defensiveAssistsAvgPer10Min</th>\n",
              "      <th>zenyatta_offensiveAssistsAvgPer10Min</th>\n",
              "      <th>zenyatta_barrierDamageDoneAvgPer10Min</th>\n",
              "      <th>zenyatta_criticalHitsAvgPer10Min</th>\n",
              "      <th>zenyatta_deathsAvgPer10Min</th>\n",
              "      <th>zenyatta_eliminationsAvgPer10Min</th>\n",
              "      <th>zenyatta_finalBlowsAvgPer10Min</th>\n",
              "      <th>zenyatta_healingDoneAvgPer10Min</th>\n",
              "      <th>zenyatta_heroDamageDoneAvgPer10Min</th>\n",
              "      <th>zenyatta_objectiveKillsAvgPer10Min</th>\n",
              "      <th>zenyatta_objectiveTimeAvgPer10Min</th>\n",
              "      <th>zenyatta_soloKillsAvgPer10Min</th>\n",
              "      <th>zenyatta_timeSpentOnFireAvgPer10Min</th>\n",
              "      <th>zenyatta_weaponAccuracy</th>\n",
              "      <th>zenyatta_transcendenceHealingBest</th>\n",
              "    </tr>\n",
              "  </thead>\n",
              "  <tbody>\n",
              "    <tr>\n",
              "      <th>0</th>\n",
              "      <td>911.0</td>\n",
              "      <td>NaN</td>\n",
              "      <td>NaN</td>\n",
              "      <td>NaN</td>\n",
              "      <td>NaN</td>\n",
              "      <td>NaN</td>\n",
              "      <td>NaN</td>\n",
              "      <td>NaN</td>\n",
              "      <td>NaN</td>\n",
              "      <td>NaN</td>\n",
              "      <td>NaN</td>\n",
              "      <td>NaN</td>\n",
              "      <td>NaN</td>\n",
              "      <td>NaN</td>\n",
              "      <td>NaN</td>\n",
              "      <td>NaN</td>\n",
              "      <td>NaN</td>\n",
              "      <td>NaN</td>\n",
              "      <td>NaN</td>\n",
              "      <td>NaN</td>\n",
              "      <td>NaN</td>\n",
              "      <td>NaN</td>\n",
              "      <td>NaN</td>\n",
              "      <td>NaN</td>\n",
              "      <td>NaN</td>\n",
              "      <td>NaN</td>\n",
              "      <td>NaN</td>\n",
              "      <td>NaN</td>\n",
              "      <td>NaN</td>\n",
              "      <td>NaN</td>\n",
              "      <td>NaN</td>\n",
              "      <td>NaN</td>\n",
              "      <td>NaN</td>\n",
              "      <td>NaN</td>\n",
              "      <td>NaN</td>\n",
              "      <td>NaN</td>\n",
              "      <td>NaN</td>\n",
              "      <td>NaN</td>\n",
              "      <td>NaN</td>\n",
              "      <td>NaN</td>\n",
              "      <td>...</td>\n",
              "      <td>NaN</td>\n",
              "      <td>NaN</td>\n",
              "      <td>NaN</td>\n",
              "      <td>NaN</td>\n",
              "      <td>NaN</td>\n",
              "      <td>NaN</td>\n",
              "      <td>NaN</td>\n",
              "      <td>NaN</td>\n",
              "      <td>7217.0</td>\n",
              "      <td>15.72</td>\n",
              "      <td>931.0</td>\n",
              "      <td>6.16</td>\n",
              "      <td>15.36</td>\n",
              "      <td>2.99</td>\n",
              "      <td>10336.0</td>\n",
              "      <td>3557.0</td>\n",
              "      <td>8.31</td>\n",
              "      <td>95.0</td>\n",
              "      <td>0.24</td>\n",
              "      <td>21.0</td>\n",
              "      <td>1599.0</td>\n",
              "      <td>4.36</td>\n",
              "      <td>0.34</td>\n",
              "      <td>1389.0</td>\n",
              "      <td>NaN</td>\n",
              "      <td>NaN</td>\n",
              "      <td>NaN</td>\n",
              "      <td>NaN</td>\n",
              "      <td>NaN</td>\n",
              "      <td>NaN</td>\n",
              "      <td>NaN</td>\n",
              "      <td>NaN</td>\n",
              "      <td>NaN</td>\n",
              "      <td>NaN</td>\n",
              "      <td>NaN</td>\n",
              "      <td>NaN</td>\n",
              "      <td>NaN</td>\n",
              "      <td>NaN</td>\n",
              "      <td>NaN</td>\n",
              "      <td>NaN</td>\n",
              "    </tr>\n",
              "    <tr>\n",
              "      <th>1</th>\n",
              "      <td>1937.0</td>\n",
              "      <td>7241.0</td>\n",
              "      <td>8.27</td>\n",
              "      <td>5.92</td>\n",
              "      <td>1478.0</td>\n",
              "      <td>8.00</td>\n",
              "      <td>7.80</td>\n",
              "      <td>1.48</td>\n",
              "      <td>7412.0</td>\n",
              "      <td>2353.0</td>\n",
              "      <td>2.96</td>\n",
              "      <td>77.0</td>\n",
              "      <td>0.13</td>\n",
              "      <td>14.0</td>\n",
              "      <td>0.17</td>\n",
              "      <td>4.57</td>\n",
              "      <td>1.82</td>\n",
              "      <td>0.58</td>\n",
              "      <td>362.0</td>\n",
              "      <td>0.50</td>\n",
              "      <td>NaN</td>\n",
              "      <td>NaN</td>\n",
              "      <td>NaN</td>\n",
              "      <td>NaN</td>\n",
              "      <td>NaN</td>\n",
              "      <td>NaN</td>\n",
              "      <td>NaN</td>\n",
              "      <td>NaN</td>\n",
              "      <td>NaN</td>\n",
              "      <td>NaN</td>\n",
              "      <td>NaN</td>\n",
              "      <td>NaN</td>\n",
              "      <td>NaN</td>\n",
              "      <td>NaN</td>\n",
              "      <td>NaN</td>\n",
              "      <td>NaN</td>\n",
              "      <td>NaN</td>\n",
              "      <td>NaN</td>\n",
              "      <td>NaN</td>\n",
              "      <td>NaN</td>\n",
              "      <td>...</td>\n",
              "      <td>216.0</td>\n",
              "      <td>0.37</td>\n",
              "      <td>54.0</td>\n",
              "      <td>0.14</td>\n",
              "      <td>21.0</td>\n",
              "      <td>0.28</td>\n",
              "      <td>895.0</td>\n",
              "      <td>4.96</td>\n",
              "      <td>NaN</td>\n",
              "      <td>NaN</td>\n",
              "      <td>NaN</td>\n",
              "      <td>NaN</td>\n",
              "      <td>NaN</td>\n",
              "      <td>NaN</td>\n",
              "      <td>NaN</td>\n",
              "      <td>NaN</td>\n",
              "      <td>NaN</td>\n",
              "      <td>NaN</td>\n",
              "      <td>NaN</td>\n",
              "      <td>NaN</td>\n",
              "      <td>NaN</td>\n",
              "      <td>NaN</td>\n",
              "      <td>NaN</td>\n",
              "      <td>NaN</td>\n",
              "      <td>NaN</td>\n",
              "      <td>NaN</td>\n",
              "      <td>NaN</td>\n",
              "      <td>NaN</td>\n",
              "      <td>NaN</td>\n",
              "      <td>NaN</td>\n",
              "      <td>NaN</td>\n",
              "      <td>NaN</td>\n",
              "      <td>NaN</td>\n",
              "      <td>NaN</td>\n",
              "      <td>NaN</td>\n",
              "      <td>NaN</td>\n",
              "      <td>NaN</td>\n",
              "      <td>NaN</td>\n",
              "      <td>NaN</td>\n",
              "      <td>NaN</td>\n",
              "    </tr>\n",
              "    <tr>\n",
              "      <th>2</th>\n",
              "      <td>1560.0</td>\n",
              "      <td>10808.0</td>\n",
              "      <td>10.97</td>\n",
              "      <td>8.18</td>\n",
              "      <td>1627.0</td>\n",
              "      <td>6.18</td>\n",
              "      <td>10.46</td>\n",
              "      <td>2.28</td>\n",
              "      <td>7011.0</td>\n",
              "      <td>2500.0</td>\n",
              "      <td>5.30</td>\n",
              "      <td>64.0</td>\n",
              "      <td>0.33</td>\n",
              "      <td>48.0</td>\n",
              "      <td>0.11</td>\n",
              "      <td>4.69</td>\n",
              "      <td>2.51</td>\n",
              "      <td>0.39</td>\n",
              "      <td>504.0</td>\n",
              "      <td>0.37</td>\n",
              "      <td>NaN</td>\n",
              "      <td>NaN</td>\n",
              "      <td>NaN</td>\n",
              "      <td>NaN</td>\n",
              "      <td>NaN</td>\n",
              "      <td>NaN</td>\n",
              "      <td>NaN</td>\n",
              "      <td>NaN</td>\n",
              "      <td>NaN</td>\n",
              "      <td>NaN</td>\n",
              "      <td>NaN</td>\n",
              "      <td>NaN</td>\n",
              "      <td>NaN</td>\n",
              "      <td>NaN</td>\n",
              "      <td>NaN</td>\n",
              "      <td>NaN</td>\n",
              "      <td>NaN</td>\n",
              "      <td>NaN</td>\n",
              "      <td>NaN</td>\n",
              "      <td>NaN</td>\n",
              "      <td>...</td>\n",
              "      <td>NaN</td>\n",
              "      <td>NaN</td>\n",
              "      <td>NaN</td>\n",
              "      <td>NaN</td>\n",
              "      <td>NaN</td>\n",
              "      <td>NaN</td>\n",
              "      <td>NaN</td>\n",
              "      <td>NaN</td>\n",
              "      <td>NaN</td>\n",
              "      <td>NaN</td>\n",
              "      <td>NaN</td>\n",
              "      <td>NaN</td>\n",
              "      <td>NaN</td>\n",
              "      <td>NaN</td>\n",
              "      <td>NaN</td>\n",
              "      <td>NaN</td>\n",
              "      <td>NaN</td>\n",
              "      <td>NaN</td>\n",
              "      <td>NaN</td>\n",
              "      <td>NaN</td>\n",
              "      <td>NaN</td>\n",
              "      <td>NaN</td>\n",
              "      <td>NaN</td>\n",
              "      <td>NaN</td>\n",
              "      <td>3658.0</td>\n",
              "      <td>13.06</td>\n",
              "      <td>15.34</td>\n",
              "      <td>3872.0</td>\n",
              "      <td>7.21</td>\n",
              "      <td>8.39</td>\n",
              "      <td>12.63</td>\n",
              "      <td>4.07</td>\n",
              "      <td>5512.0</td>\n",
              "      <td>5075.0</td>\n",
              "      <td>5.93</td>\n",
              "      <td>49.0</td>\n",
              "      <td>0.59</td>\n",
              "      <td>31.0</td>\n",
              "      <td>0.22</td>\n",
              "      <td>1162.0</td>\n",
              "    </tr>\n",
              "    <tr>\n",
              "      <th>3</th>\n",
              "      <td>2186.0</td>\n",
              "      <td>NaN</td>\n",
              "      <td>NaN</td>\n",
              "      <td>NaN</td>\n",
              "      <td>NaN</td>\n",
              "      <td>NaN</td>\n",
              "      <td>NaN</td>\n",
              "      <td>NaN</td>\n",
              "      <td>NaN</td>\n",
              "      <td>NaN</td>\n",
              "      <td>NaN</td>\n",
              "      <td>NaN</td>\n",
              "      <td>NaN</td>\n",
              "      <td>NaN</td>\n",
              "      <td>NaN</td>\n",
              "      <td>NaN</td>\n",
              "      <td>NaN</td>\n",
              "      <td>NaN</td>\n",
              "      <td>NaN</td>\n",
              "      <td>NaN</td>\n",
              "      <td>NaN</td>\n",
              "      <td>NaN</td>\n",
              "      <td>NaN</td>\n",
              "      <td>NaN</td>\n",
              "      <td>NaN</td>\n",
              "      <td>NaN</td>\n",
              "      <td>NaN</td>\n",
              "      <td>NaN</td>\n",
              "      <td>NaN</td>\n",
              "      <td>NaN</td>\n",
              "      <td>NaN</td>\n",
              "      <td>NaN</td>\n",
              "      <td>NaN</td>\n",
              "      <td>NaN</td>\n",
              "      <td>NaN</td>\n",
              "      <td>NaN</td>\n",
              "      <td>NaN</td>\n",
              "      <td>NaN</td>\n",
              "      <td>NaN</td>\n",
              "      <td>NaN</td>\n",
              "      <td>...</td>\n",
              "      <td>NaN</td>\n",
              "      <td>NaN</td>\n",
              "      <td>NaN</td>\n",
              "      <td>NaN</td>\n",
              "      <td>NaN</td>\n",
              "      <td>NaN</td>\n",
              "      <td>NaN</td>\n",
              "      <td>NaN</td>\n",
              "      <td>3637.0</td>\n",
              "      <td>17.68</td>\n",
              "      <td>1266.0</td>\n",
              "      <td>6.25</td>\n",
              "      <td>18.75</td>\n",
              "      <td>4.11</td>\n",
              "      <td>11901.0</td>\n",
              "      <td>4745.0</td>\n",
              "      <td>7.77</td>\n",
              "      <td>55.0</td>\n",
              "      <td>0.46</td>\n",
              "      <td>54.0</td>\n",
              "      <td>1654.0</td>\n",
              "      <td>2.90</td>\n",
              "      <td>0.53</td>\n",
              "      <td>1863.0</td>\n",
              "      <td>NaN</td>\n",
              "      <td>NaN</td>\n",
              "      <td>NaN</td>\n",
              "      <td>NaN</td>\n",
              "      <td>NaN</td>\n",
              "      <td>NaN</td>\n",
              "      <td>NaN</td>\n",
              "      <td>NaN</td>\n",
              "      <td>NaN</td>\n",
              "      <td>NaN</td>\n",
              "      <td>NaN</td>\n",
              "      <td>NaN</td>\n",
              "      <td>NaN</td>\n",
              "      <td>NaN</td>\n",
              "      <td>NaN</td>\n",
              "      <td>NaN</td>\n",
              "    </tr>\n",
              "    <tr>\n",
              "      <th>4</th>\n",
              "      <td>2271.0</td>\n",
              "      <td>NaN</td>\n",
              "      <td>NaN</td>\n",
              "      <td>NaN</td>\n",
              "      <td>NaN</td>\n",
              "      <td>NaN</td>\n",
              "      <td>NaN</td>\n",
              "      <td>NaN</td>\n",
              "      <td>NaN</td>\n",
              "      <td>NaN</td>\n",
              "      <td>NaN</td>\n",
              "      <td>NaN</td>\n",
              "      <td>NaN</td>\n",
              "      <td>NaN</td>\n",
              "      <td>NaN</td>\n",
              "      <td>NaN</td>\n",
              "      <td>NaN</td>\n",
              "      <td>NaN</td>\n",
              "      <td>NaN</td>\n",
              "      <td>NaN</td>\n",
              "      <td>NaN</td>\n",
              "      <td>NaN</td>\n",
              "      <td>NaN</td>\n",
              "      <td>NaN</td>\n",
              "      <td>NaN</td>\n",
              "      <td>NaN</td>\n",
              "      <td>NaN</td>\n",
              "      <td>NaN</td>\n",
              "      <td>NaN</td>\n",
              "      <td>NaN</td>\n",
              "      <td>NaN</td>\n",
              "      <td>NaN</td>\n",
              "      <td>NaN</td>\n",
              "      <td>NaN</td>\n",
              "      <td>NaN</td>\n",
              "      <td>NaN</td>\n",
              "      <td>NaN</td>\n",
              "      <td>NaN</td>\n",
              "      <td>NaN</td>\n",
              "      <td>NaN</td>\n",
              "      <td>...</td>\n",
              "      <td>NaN</td>\n",
              "      <td>NaN</td>\n",
              "      <td>NaN</td>\n",
              "      <td>NaN</td>\n",
              "      <td>NaN</td>\n",
              "      <td>NaN</td>\n",
              "      <td>NaN</td>\n",
              "      <td>NaN</td>\n",
              "      <td>NaN</td>\n",
              "      <td>NaN</td>\n",
              "      <td>NaN</td>\n",
              "      <td>NaN</td>\n",
              "      <td>NaN</td>\n",
              "      <td>NaN</td>\n",
              "      <td>NaN</td>\n",
              "      <td>NaN</td>\n",
              "      <td>NaN</td>\n",
              "      <td>NaN</td>\n",
              "      <td>NaN</td>\n",
              "      <td>NaN</td>\n",
              "      <td>NaN</td>\n",
              "      <td>NaN</td>\n",
              "      <td>NaN</td>\n",
              "      <td>NaN</td>\n",
              "      <td>10844.0</td>\n",
              "      <td>19.02</td>\n",
              "      <td>16.28</td>\n",
              "      <td>3690.0</td>\n",
              "      <td>7.54</td>\n",
              "      <td>8.55</td>\n",
              "      <td>14.49</td>\n",
              "      <td>3.75</td>\n",
              "      <td>6825.0</td>\n",
              "      <td>4950.0</td>\n",
              "      <td>6.81</td>\n",
              "      <td>81.0</td>\n",
              "      <td>0.18</td>\n",
              "      <td>43.0</td>\n",
              "      <td>0.24</td>\n",
              "      <td>2138.0</td>\n",
              "    </tr>\n",
              "  </tbody>\n",
              "</table>\n",
              "<p>5 rows × 121 columns</p>\n",
              "</div>"
            ],
            "text/plain": [
              "   rating  ...  zenyatta_transcendenceHealingBest\n",
              "0   911.0  ...                                NaN\n",
              "1  1937.0  ...                                NaN\n",
              "2  1560.0  ...                             1162.0\n",
              "3  2186.0  ...                                NaN\n",
              "4  2271.0  ...                             2138.0\n",
              "\n",
              "[5 rows x 121 columns]"
            ]
          },
          "metadata": {
            "tags": []
          },
          "execution_count": 19
        }
      ]
    },
    {
      "cell_type": "markdown",
      "metadata": {
        "id": "VXdQV0FSqZjO"
      },
      "source": [
        "### Rank Distribution\n",
        "Our data wasn't collected randomly, and due to limitation of computing power, there is no way to sample a truly random data. However, we can examine the rank distributions of our data to see if they're reasonable. The only official estimated rank distribution was released in 2018, when SRs weren't separated by roles yet, so we will use that as the base line distribution."
      ]
    },
    {
      "cell_type": "code",
      "metadata": {
        "colab": {
          "base_uri": "https://localhost:8080/",
          "height": 509
        },
        "id": "Lv7rv4byrmWh",
        "outputId": "1dc2ffc3-328e-45fe-b87e-064fe5079b60"
      },
      "source": [
        "def srToRank(sr):\n",
        "    \"\"\" Map an sr to the corresponding rank\"\"\"\n",
        "    if 0 <= sr and sr < 1500:\n",
        "        return \"Bronze\"\n",
        "    elif sr < 2000:\n",
        "        return \"Silver\"\n",
        "    elif sr < 2500:\n",
        "        return \"Gold\"\n",
        "    elif sr < 3000:\n",
        "        return \"Platinum\"\n",
        "    elif sr < 3500:\n",
        "        return \"Diamond\"\n",
        "    elif sr < 4000:\n",
        "        return \"Masters\"\n",
        "    elif sr <= 5000:\n",
        "        return \"Grandmaster\"\n",
        "    else:\n",
        "        return \"Invalid\"\n",
        "\n",
        "# official estimated rank distribution (2018)\n",
        "rank_official = pd.Series([8, 21, 32, 25, 10, 3 ,1]).rename(lambda x: RANKS[x])[RANKS]\n",
        "table = {\"official(2018)\": rank_official}\n",
        "\n",
        "# show rank distribution of all roles in the data\n",
        "for role, [train, test] in DATA.items():\n",
        "  sr = pd.concat([train[\"rating\"], test[\"rating\"]])\n",
        "  rank = sr.map(srToRank).astype(\"category\").cat.reorder_categories(RANKS)\n",
        "  contingency = rank.groupby(rank).count()/len(rank)*100\n",
        "  table[role] = round(contingency, 1)\n",
        "df = pd.DataFrame(table)\n",
        "print(f\"\\033[1mRank Distribution (percentage):\\033[0m\\n{df}\")\n",
        "\n",
        "df = df.stack().reset_index().rename(columns={'level_0':'Rank', 'level_1':'Role', 0:'Percentage'})\n",
        "# bar plot\n",
        "plt.figure(figsize=(8, 5))\n",
        "sns.barplot(x = \"Rank\", y = \"Percentage\", data = df, hue = \"Role\", palette = \"rocket\")"
      ],
      "execution_count": 20,
      "outputs": [
        {
          "output_type": "stream",
          "text": [
            "\u001b[1mRank Distribution (percentage):\u001b[0m\n",
            "             official(2018)  tank  damage  support\n",
            "Bronze                    8   5.8     6.3      6.6\n",
            "Silver                   21  15.3    15.8     16.2\n",
            "Gold                     32  31.0    28.7     31.1\n",
            "Platinum                 25  29.3    27.9     28.4\n",
            "Diamond                  10  12.7    13.5     12.1\n",
            "Masters                   3   4.4     5.5      4.2\n",
            "Grandmaster               1   1.4     2.3      1.5\n"
          ],
          "name": "stdout"
        },
        {
          "output_type": "execute_result",
          "data": {
            "text/plain": [
              "<matplotlib.axes._subplots.AxesSubplot at 0x7f7123dd5a10>"
            ]
          },
          "metadata": {
            "tags": []
          },
          "execution_count": 20
        },
        {
          "output_type": "display_data",
          "data": {
            "image/png": "[encoded data removed]",
            "text/plain": [
              "<Figure size 576x360 with 1 Axes>"
            ]
          },
          "metadata": {
            "tags": []
          }
        }
      ]
    },
    {
      "cell_type": "markdown",
      "metadata": {
        "id": "Q2NybhhC0VOq"
      },
      "source": [
        "Rank distributions for all three roles in our data are very similar, and compared to the official estimation, they all shifted slightly right (towards higher ranks), which is reasonable considering that SRs have been inflating. Therefore, it's reasonable to assume that our data does not significantly over- or underrepresent certain ranks."
      ]
    },
    {
      "cell_type": "markdown",
      "metadata": {
        "id": "xrgRNvtxBOqW"
      },
      "source": [
        "## Modeling\n",
        "\n",
        "Because most players only play a small subset of all heroes for a non-trivial time, there is a large proportion of missing data. We tried the following approaches to deal with missing data:\n",
        "\n",
        "1. Impute missing data with minimal value for this feature.\n",
        "\n",
        "2. Aggregate statistics of the same type across different heroes.\n",
        "\n",
        "3. Use predictions from the previous approach to impute missing data based on the predicted SR. Specifically, after we obtain initial predictions for SR, we would split the players into several buckets of similar SR, and fill in the missing values with median values in the corresponding bucket. However, this method decreased the performance of our models, and is not included in this final report.\n",
        "\n",
        "We used **mean squared error (MSE)** as the metric for model performance."
      ]
    },
    {
      "cell_type": "markdown",
      "metadata": {
        "id": "bswGLHUQfkEh"
      },
      "source": [
        "### Method 0: Baseline Models\n",
        "\n",
        "Three models were attempted:\n",
        "\n",
        "1.   Always predicting mean\n",
        "2.   Linear Regression\n",
        "3.   Lasso Regression\n"
      ]
    },
    {
      "cell_type": "markdown",
      "metadata": {
        "id": "WoVTlyZwjMLP"
      },
      "source": [
        "#### Always Predicing Mean\n",
        "\n",
        "Our baseline model is to always predict the mean of the test set responses."
      ]
    },
    {
      "cell_type": "code",
      "metadata": {
        "id": "T01I2hyDjTsx"
      },
      "source": [
        "def baseline(X_test, y_test):\n",
        "  # Predict with mean\n",
        "  mean_inp = y_test.mean()\n",
        "  y_pred = np.asarray([mean_inp] * len(y_test))\n",
        "  n = y_test.shape[0]\n",
        "\n",
        "  diff = (y_test - y_pred)**2\n",
        "  mean = diff.mean()\n",
        "  sd = diff.std()\n",
        "  r2 = r2_score(y_test, y_pred)\n",
        "\n",
        "  # Calculate 95% confidence interval\n",
        "  low = mean-1.96*sd/np.sqrt(n)\n",
        "  high = mean+1.96*sd/np.sqrt(n)\n",
        "\n",
        "  return mean, low, high"
      ],
      "execution_count": 21,
      "outputs": []
    },
    {
      "cell_type": "markdown",
      "metadata": {
        "id": "uNQFw-VjhdKT"
      },
      "source": [
        "#### Linear Regresssion"
      ]
    },
    {
      "cell_type": "code",
      "metadata": {
        "id": "ORipnuMBhhsx"
      },
      "source": [
        "def lin_reg(X_train, y_train, X_test, y_test):\n",
        "  reg = LinearRegression().fit(X_train, y_train)\n",
        "  n = y_test.shape[0]\n",
        "\n",
        "  # Get MSE and R^2\n",
        "  y_pred = reg.predict(X_test)\n",
        "  svr_reg = (y_test - y_pred)**2\n",
        "  mean = svr_reg.mean()\n",
        "  sd = svr_reg.std()\n",
        "  r2 = r2_score(y_test, y_pred)\n",
        "  print(f\"R-squared: {round(r2*100, 1)}%\")\n",
        "\n",
        "  # Calculate 95% confidence interval\n",
        "  low = mean-1.96*sd/np.sqrt(n)\n",
        "  high = mean+1.96*sd/np.sqrt(n)\n",
        "\n",
        "  return mean, low, high"
      ],
      "execution_count": 22,
      "outputs": []
    },
    {
      "cell_type": "markdown",
      "metadata": {
        "id": "ihRM9cAViiuH"
      },
      "source": [
        "#### Lasso Regression"
      ]
    },
    {
      "cell_type": "code",
      "metadata": {
        "id": "iEnOEHDWilH8"
      },
      "source": [
        "def las_reg(X_train, y_train, X_test, y_test):\n",
        "  reg = Lasso().fit(X_train, y_train)\n",
        "  n = y_test.shape[0]\n",
        "\n",
        "  # Get MSE and R^2\n",
        "  y_pred = reg.predict(X_test)\n",
        "  svr_reg = (y_test - y_pred)**2\n",
        "  mean = svr_reg.mean()\n",
        "  sd = svr_reg.std()\n",
        "  r2 = r2_score(y_test, y_pred)\n",
        "\n",
        "  # Calculate 95% confidence interval\n",
        "  low = mean-1.96*sd/np.sqrt(n)\n",
        "  high = mean+1.96*sd/np.sqrt(n)\n",
        "\n",
        "  return mean, low, high"
      ],
      "execution_count": 23,
      "outputs": []
    },
    {
      "cell_type": "markdown",
      "metadata": {
        "id": "u9ok5VPbBfYH"
      },
      "source": [
        "#### Results\n",
        "\n",
        "We first filled missing data with minimal value of the corresponding feature in the training set, then normalized all features and ran the models."
      ]
    },
    {
      "cell_type": "code",
      "metadata": {
        "id": "ER44B31Olb4z"
      },
      "source": [
        "# Normalize each column and fill in missing data with 0\n",
        "def norm_and_replace(train_df,test_df,verbose=False):\n",
        "  cols = (train_df.columns.tolist())\n",
        "  cols.remove(\"rating\")\n",
        "\n",
        "  # Fill in minimum values from the training set\n",
        "  train_df = train_df.fillna(train_df.min(axis=0))\n",
        "  test_df = test_df.fillna(train_df.min(axis=0))\n",
        "\n",
        "  # Normalization\n",
        "  scaler = pre.MinMaxScaler()\n",
        "  train_df[cols] = scaler.fit_transform(train_df[cols])\n",
        "  test_df[cols] = scaler.transform(test_df[cols])\n",
        "\n",
        "  return train_df, test_df\n",
        "\n",
        "# Helper function for data preprocessing\n",
        "def split_data(train_data, test_data):\n",
        "  # Normalize data and fill NA with zeros\n",
        "  train_data, test_data = norm_and_replace(train_data, test_data)\n",
        "\n",
        "  X_train = train_data.iloc[:, 1:].values\n",
        "  y_train = train_data.iloc[:, 0].values\n",
        "  X_test = test_data.iloc[:, 1:].values\n",
        "  y_test = test_data.iloc[:, 0].values\n",
        "\n",
        "  return X_train, y_train, X_test, y_test"
      ],
      "execution_count": 24,
      "outputs": []
    },
    {
      "cell_type": "code",
      "metadata": {
        "id": "Y-LbqgDR33iL"
      },
      "source": [
        "X_train_all, y_train_all, X_test_all, y_test_all = {}, {}, {}, {}\n",
        "for role in ROLES:\n",
        "    X_train_all[role], y_train_all[role], X_test_all[role], y_test_all[role] = split_data(*DATA[role])"
      ],
      "execution_count": 25,
      "outputs": []
    },
    {
      "cell_type": "code",
      "metadata": {
        "colab": {
          "base_uri": "https://localhost:8080/",
          "height": 329
        },
        "id": "1lq_G_Tgkzx4",
        "outputId": "42e8674e-6af7-40fb-d3df-8e58eabc51c6"
      },
      "source": [
        "baseline_results = dict()\n",
        "baseline_mses = dict() # for later use\n",
        "\n",
        "def concat(mean, low, high):\n",
        "  return  f\"{round(mean)} ({round(low)}, {round(high)})\"\n",
        "\n",
        "for role in ROLES:\n",
        "  baseline_results[role] = dict()\n",
        "  baseline_mses[role] = dict()\n",
        "  X_train, y_train, X_test, y_test = X_train_all[role], y_train_all[role], X_test_all[role], y_test_all[role]\n",
        "\n",
        "  means = baseline(X_test, y_test)\n",
        "  print(f\"\\033[1mLinear Regression for {role}:\\033[0m\")\n",
        "  linear = lin_reg(X_train, y_train, X_test, y_test)\n",
        "  print()\n",
        "  lasso = las_reg(X_train, y_train, X_test, y_test)\n",
        "  baseline_results[role][\"Predicting Mean\"] = concat(*means)\n",
        "  baseline_results[role][\"Linear Regression\"] = concat(*linear)\n",
        "  baseline_results[role][\"Lasso Regression\"] = concat(*lasso)\n",
        "\n",
        "  baseline_mses[role][\"Predicting Mean\"] = means[0]\n",
        "  baseline_mses[role][\"Linear Regression\"] = linear[0]\n",
        "  baseline_mses[role][\"Lasso Regression\"] = lasso[0]\n",
        "\n",
        "baseline_mses = pd.DataFrame(baseline_mses, index = [\"Predicting Mean\", \"Linear Regression\", \"Lasso Regression\"])\n",
        "baseline_df = pd.DataFrame(baseline_results)\n",
        "print(\"\\n\\033[1mMSEs of the Baseline Models for each Role (with 95% Confidence Interval)\\033[0m\")\n",
        "baseline_df"
      ],
      "execution_count": 26,
      "outputs": [
        {
          "output_type": "stream",
          "text": [
            "\u001b[1mLinear Regression for tank:\u001b[0m\n",
            "R-squared: 43.7%\n",
            "\n",
            "\u001b[1mLinear Regression for damage:\u001b[0m\n",
            "R-squared: 43.7%\n",
            "\n",
            "\u001b[1mLinear Regression for support:\u001b[0m\n",
            "R-squared: 42.1%\n",
            "\n",
            "\n",
            "\u001b[1mMSEs of the Baseline Models for each Role (with 95% Confidence Interval)\u001b[0m\n"
          ],
          "name": "stdout"
        },
        {
          "output_type": "execute_result",
          "data": {
            "text/html": [
              "<div>\n",
              "<style scoped>\n",
              "    .dataframe tbody tr th:only-of-type {\n",
              "        vertical-align: middle;\n",
              "    }\n",
              "\n",
              "    .dataframe tbody tr th {\n",
              "        vertical-align: top;\n",
              "    }\n",
              "\n",
              "    .dataframe thead th {\n",
              "        text-align: right;\n",
              "    }\n",
              "</style>\n",
              "<table border=\"1\" class=\"dataframe\">\n",
              "  <thead>\n",
              "    <tr style=\"text-align: right;\">\n",
              "      <th></th>\n",
              "      <th>tank</th>\n",
              "      <th>damage</th>\n",
              "      <th>support</th>\n",
              "    </tr>\n",
              "  </thead>\n",
              "  <tbody>\n",
              "    <tr>\n",
              "      <th>Predicting Mean</th>\n",
              "      <td>394231 (375828, 412633)</td>\n",
              "      <td>443114 (422605, 463622)</td>\n",
              "      <td>414807 (394941, 434672)</td>\n",
              "    </tr>\n",
              "    <tr>\n",
              "      <th>Linear Regression</th>\n",
              "      <td>221775 (210710, 232840)</td>\n",
              "      <td>249604 (237036, 262173)</td>\n",
              "      <td>240234 (228302, 252166)</td>\n",
              "    </tr>\n",
              "    <tr>\n",
              "      <th>Lasso Regression</th>\n",
              "      <td>247391 (234554, 260229)</td>\n",
              "      <td>281517 (267631, 295404)</td>\n",
              "      <td>268079 (254758, 281399)</td>\n",
              "    </tr>\n",
              "  </tbody>\n",
              "</table>\n",
              "</div>"
            ],
            "text/plain": [
              "                                      tank  ...                  support\n",
              "Predicting Mean    394231 (375828, 412633)  ...  414807 (394941, 434672)\n",
              "Linear Regression  221775 (210710, 232840)  ...  240234 (228302, 252166)\n",
              "Lasso Regression   247391 (234554, 260229)  ...  268079 (254758, 281399)\n",
              "\n",
              "[3 rows x 3 columns]"
            ]
          },
          "metadata": {
            "tags": []
          },
          "execution_count": 26
        }
      ]
    },
    {
      "cell_type": "markdown",
      "metadata": {
        "id": "O3zCtYfsktlu"
      },
      "source": [
        "The performance of the three baseline models and $R^2$ for linear regressions are shown above. We can see that linear and lasso regression already perform much better than always predicting the test set mean. Linear regression performs the best, with MSEs around **220k-250k**."
      ]
    },
    {
      "cell_type": "markdown",
      "metadata": {
        "id": "k8xcCmhHBM0u"
      },
      "source": [
        "### Method 1: Neural Networks\n",
        "\n",
        "We continued to try to reduce prediction errors by training a neural network, as shown below:\n",
        "\n"
      ]
    },
    {
      "cell_type": "markdown",
      "metadata": {
        "id": "mND33FgYLb8O"
      },
      "source": [
        "#### Preprocessing and Creating the Neural Network"
      ]
    },
    {
      "cell_type": "code",
      "metadata": {
        "id": "R9yhkzF4diDH"
      },
      "source": [
        "# Make a dataset file\n",
        "class overwatchDataset(torch.utils.data.Dataset):\n",
        "    def __init__(self, X, Y):\n",
        "        self.X = torch.tensor(X).float()\n",
        "        self.Y = torch.tensor(Y).float()\n",
        "\n",
        "    def __len__(self):\n",
        "        return self.Y.shape[0]\n",
        "\n",
        "    def __getitem__(self, idx):\n",
        "        # Get label\n",
        "        retData = self.X[idx,:]\n",
        "        retLab = self.Y[idx]\n",
        "\n",
        "        return retData,retLab"
      ],
      "execution_count": 27,
      "outputs": []
    },
    {
      "cell_type": "code",
      "metadata": {
        "id": "UWURhVoMduHG"
      },
      "source": [
        "# Create a neural network\n",
        "dropout = 0.2\n",
        "class overwatchModule(nn.Module):\n",
        "  def __init__(self, input_size):\n",
        "    super(overwatchModule,self).__init__()\n",
        "    # Create layers\n",
        "    self.overall = nn.Sequential(\n",
        "        nn.Linear(input_size,256),\n",
        "        nn.ReLU(),nn.BatchNorm1d(256),\n",
        "        nn.Dropout(dropout),nn.Linear(256,512),\n",
        "        nn.ReLU(),nn.BatchNorm1d(512),\n",
        "        nn.Dropout(dropout),nn.Linear(512,1024),\n",
        "        nn.ReLU(),nn.BatchNorm1d(1024),\n",
        "        nn.Dropout(dropout),nn.Linear(1024,2000),\n",
        "        nn.ReLU(),nn.BatchNorm1d(2000),\n",
        "        nn.Dropout(dropout),nn.Linear(2000,4000),\n",
        "        nn.ReLU(),nn.BatchNorm1d(4000),\n",
        "        nn.Dropout(dropout),nn.Linear(4000,2000),\n",
        "        nn.ReLU(),nn.BatchNorm1d(2000),\n",
        "        nn.Dropout(dropout),nn.Linear(2000,1000),\n",
        "        nn.ReLU(),nn.BatchNorm1d(1000),\n",
        "        nn.Dropout(dropout),nn.Linear(1000,256),\n",
        "        nn.ReLU(),nn.BatchNorm1d(256),\n",
        "        nn.Dropout(dropout),nn.Linear(256,1))\n",
        "    \n",
        "  def forward(self,batchInput):\n",
        "    overallOutput = self.overall(batchInput)\n",
        "    return overallOutput"
      ],
      "execution_count": 28,
      "outputs": []
    },
    {
      "cell_type": "markdown",
      "metadata": {
        "id": "cjREb-8YeKEL"
      },
      "source": [
        "#### Test/Train Functions"
      ]
    },
    {
      "cell_type": "code",
      "metadata": {
        "id": "352iYEOddxLP"
      },
      "source": [
        "# Test Function\n",
        "def test(model, test_load, device, criterion):\n",
        "  #Set Model to Eval\n",
        "  model.eval()\n",
        "  test_loss = []\n",
        "  n = 0\n",
        "\n",
        "  #Go Through Loop\n",
        "  for batch_idx, (inputs, targets) in enumerate(test_load):\n",
        "     #Move it to device\n",
        "     inputs = inputs.to(device)\n",
        "     targets = torch.unsqueeze(targets,1)\n",
        "     targets = targets.to(device)\n",
        "\n",
        "     #Flatten Image\n",
        "     inputs = inputs.view(inputs.shape[0],-1)\n",
        "\n",
        "     #Train the Model for output\n",
        "     outputs = model(inputs)\n",
        "     loss = criterion(outputs, targets)\n",
        "\n",
        "     #Get Loss\n",
        "     test_loss.append(loss.item())\n",
        "\n",
        "     #Empty Cache And Delete Variables\n",
        "     del inputs\n",
        "     del targets\n",
        "     del outputs\n",
        "     torch.cuda.empty_cache()\n",
        "\n",
        "  #Get Standard Deviation\n",
        "  n = len(test_loss)\n",
        "  test_loss = np.array(test_loss)\n",
        "  mean = test_loss.mean()\n",
        "  sd = test_loss.std()\n",
        "  low = mean-1.96*sd/np.sqrt(n)\n",
        "  high = mean+1.96*sd/np.sqrt(n)\n",
        "  #Calculate Lower, Upper, and Mean\n",
        "  return mean, low, high"
      ],
      "execution_count": 29,
      "outputs": []
    },
    {
      "cell_type": "code",
      "metadata": {
        "id": "TdyvyMcNd0J9"
      },
      "source": [
        "# Train Function\n",
        "def train(model, optimizer, device, criterion, train_load, test_load,scheduler, epochs, verbose=True):\n",
        "  #Move and Set Up Variables\n",
        "  criterion = criterion.to(device)\n",
        "  model = model.to(device)\n",
        "  model.train()\n",
        "\n",
        "  #Get Plot of Test_Acc, Test_Loss\n",
        "  test_acc_list = []\n",
        "  test_loss_list = []\n",
        "\n",
        "  #Main Loop\n",
        "  for epoch in range(epochs):\n",
        "    avg_loss = 0.0\n",
        "    for batch_idx, (inputs, targets) in enumerate(train_load):\n",
        "      #Move it to device\n",
        "      inputs = inputs.to(device)\n",
        "      targets = torch.unsqueeze(targets,1)\n",
        "      targets = targets.to(device)\n",
        "\n",
        "      #Flatten Image\n",
        "      inputs = inputs.view(inputs.shape[0],-1)\n",
        "\n",
        "      #Train the Model for output\n",
        "      outputs = model(inputs)\n",
        "      outputs = outputs.reshape((outputs.shape[0],1))\n",
        "      loss = criterion(outputs, targets)\n",
        "\n",
        "      #Learn by Backpropagation\n",
        "      loss.backward()\n",
        "\n",
        "      #Optimize the Weights\n",
        "      optimizer.step()\n",
        "\n",
        "      #Print Epoch Info\n",
        "      avg_loss += loss.item()\n",
        "      if batch_idx % 100 == 0 and batch_idx != 0 and verbose:\n",
        "        print('Epoch: {}\\tBatch: {}\\tAvg-Loss: {:.4f}'.format(epoch+1, batch_idx, avg_loss/150))\n",
        "        avg_loss = 0\n",
        "      \n",
        "      #Empty Cache, Delete Variables, Reset Optimizer\n",
        "      optimizer.zero_grad()\n",
        "      del inputs\n",
        "      del targets\n",
        "      del outputs\n",
        "      torch.cuda.empty_cache()\n",
        "\n",
        "    #After Epoch Send it Through Test\n",
        "    mean, low, high = test(model,test_load, device, criterion)\n",
        "    test_loss_list.append(mean)\n",
        "    if verbose:\n",
        "      print(\"Test Loss: {:.4f} | {:.4f} | {:.4f} \".format(low,mean,high))\n",
        "\n",
        "    #Step Scheduler\n",
        "    scheduler.step(mean)\n",
        "\n",
        "  #Return Test Accuracy and Loss\n",
        "  return test_loss_list"
      ],
      "execution_count": 30,
      "outputs": []
    },
    {
      "cell_type": "markdown",
      "metadata": {
        "id": "rxr0Pl2Le3MA"
      },
      "source": [
        "#### Test Loss\n",
        "\n",
        "Below is a helper function that displays the rate of change in test loss, by dividing loss by the initial max loss."
      ]
    },
    {
      "cell_type": "code",
      "metadata": {
        "id": "QSw0f2UVe7Gl"
      },
      "source": [
        "def display(test_loss):\n",
        "  #Normalize Test Loss and Add 0 for Better Display\n",
        "  test_alt = [i/max(test_loss) for i in test_loss]\n",
        "  test_alt = test_alt[1:]\n",
        "  #Print The Results\n",
        "  plt.plot(test_alt, label = \"Test Loss\")\n",
        "  plt.ylabel('Percentage of Max Loss')\n",
        "  plt.xlabel('Epoch')\n",
        "  plt.legend()\n",
        "  plt.show()"
      ],
      "execution_count": 31,
      "outputs": []
    },
    {
      "cell_type": "markdown",
      "metadata": {
        "id": "o586ZZcysbQ2"
      },
      "source": [
        "#### Results\n",
        "\n",
        "Below is another helper function that runs the entire work flow, with learning rate $= 0.001$, epochs $= 50$, Adam optimizer, and an adaptive learning rate scheduler."
      ]
    },
    {
      "cell_type": "code",
      "metadata": {
        "id": "JElB7Tf6ec78"
      },
      "source": [
        "DATA_PATH = \"https://raw.githubusercontent.com/hachiyuki8/ow-stats-analysis/master/norm/\"\n",
        "\n",
        "def overall_net(role, verbose=False):\n",
        "  # train_data = pd.read_csv(DATA_PATH + role + \"_train.csv\")\n",
        "  # test_data = pd.read_csv(DATA_PATH + role + \"_test.csv\")\n",
        "  # X_train, y_train, X_test, y_test = split_data(train_data, test_data)\n",
        "  X_train, y_train, X_test, y_test = X_train_all[role], y_train_all[role], X_test_all[role], y_test_all[role]\n",
        "\n",
        "  # Load training data\n",
        "  train_data = overwatchDataset(X_train,y_train)\n",
        "  trainLoader = utils.data.DataLoader(train_data, batch_size=64,\n",
        "                                      shuffle=True,drop_last=True)\n",
        "\n",
        "  #Load test data\n",
        "  test_data = overwatchDataset(X_test,y_test)\n",
        "  testLoader = utils.data.DataLoader(test_data, batch_size=64,\n",
        "                                     shuffle=False,drop_last=True)\n",
        "  \n",
        "  # Hyperparameters\n",
        "  learn_rate = 0.001\n",
        "  epochs = 50\n",
        "\n",
        "  # Model configurations\n",
        "  model = overwatchModule(X_train.shape[1])\n",
        "  criterion = nn.MSELoss()\n",
        "  optimizer = optim.Adam(model.parameters(),lr=learn_rate)\n",
        "  device = \"cuda\" if torch.cuda.is_available() else \"cpu\"\n",
        "  scheduler = torch.optim.lr_scheduler.ReduceLROnPlateau(optimizer,mode='min',factor=0.2,patience=4,verbose=verbose)\n",
        "\n",
        "  test_loss_list = train(model, optimizer, device, criterion, trainLoader, testLoader, scheduler, epochs, verbose=verbose)\n",
        "  print(\"Test Loss:\")\n",
        "  display(test_loss_list)\n",
        "\n",
        "  return min(test_loss_list)"
      ],
      "execution_count": 32,
      "outputs": []
    },
    {
      "cell_type": "code",
      "metadata": {
        "colab": {
          "base_uri": "https://localhost:8080/",
          "height": 313
        },
        "id": "k0O95qznsc9x",
        "outputId": "4d613639-e772-468f-ee35-8d84956f831f"
      },
      "source": [
        "min_losses = dict()\n",
        "\n",
        "# Tank\n",
        "role = \"tank\"\n",
        "print(f\"\\033[1mTraining Neural Network on {role}\\033[0m\")\n",
        "min_losses[role] = overall_net(role, verbose = False)"
      ],
      "execution_count": null,
      "outputs": [
        {
          "output_type": "stream",
          "text": [
            "\u001b[1mTraining Neural Network on tank\u001b[0m\n",
            "Test Loss:\n"
          ],
          "name": "stdout"
        },
        {
          "output_type": "display_data",
          "data": {
            "image/png": "[encoded data removed]",
            "text/plain": [
              "<Figure size 432x288 with 1 Axes>"
            ]
          },
          "metadata": {
            "tags": []
          }
        }
      ]
    },
    {
      "cell_type": "code",
      "metadata": {
        "colab": {
          "base_uri": "https://localhost:8080/",
          "height": 313
        },
        "id": "6RqVKvhLuIAD",
        "outputId": "aa19f75e-10c8-45c2-949d-e73f4c86aef3"
      },
      "source": [
        "# Damage\n",
        "role = \"damage\"\n",
        "print(f\"\\033[1mTraining Neural Network on {role}\\033[0m\")\n",
        "min_losses[role] = overall_net(role, verbose = False)"
      ],
      "execution_count": null,
      "outputs": [
        {
          "output_type": "stream",
          "text": [
            "\u001b[1mTraining Neural Network on damage\u001b[0m\n",
            "Test Loss:\n"
          ],
          "name": "stdout"
        },
        {
          "output_type": "display_data",
          "data": {
            "image/png": "[encoded data removed]",
            "text/plain": [
              "<Figure size 432x288 with 1 Axes>"
            ]
          },
          "metadata": {
            "tags": []
          }
        }
      ]
    },
    {
      "cell_type": "code",
      "metadata": {
        "colab": {
          "base_uri": "https://localhost:8080/",
          "height": 313
        },
        "id": "VSFuLh6kuEem",
        "outputId": "38185a1c-48ae-4f5c-a793-518751c44887"
      },
      "source": [
        "# Support\n",
        "role = \"support\"\n",
        "print(f\"\\033[1mTraining Neural Network on {role}\\033[0m\")\n",
        "min_losses[role] = overall_net(role, verbose = False)"
      ],
      "execution_count": null,
      "outputs": [
        {
          "output_type": "stream",
          "text": [
            "\u001b[1mTraining Neural Network on support\u001b[0m\n",
            "Test Loss:\n"
          ],
          "name": "stdout"
        },
        {
          "output_type": "display_data",
          "data": {
            "image/png": "[encoded data removed]",
            "text/plain": [
              "<Figure size 432x288 with 1 Axes>"
            ]
          },
          "metadata": {
            "tags": []
          }
        }
      ]
    },
    {
      "cell_type": "code",
      "metadata": {
        "colab": {
          "base_uri": "https://localhost:8080/",
          "height": 114
        },
        "id": "6vyDK2XpQdsp",
        "outputId": "9fefcd03-73ed-4662-9184-4b8f6351d7c5"
      },
      "source": [
        "nn_mses = pd.DataFrame(min_losses, index = [\"Neural Network\"])\n",
        "print(\"\\n\\033[1mMSEs of the Neural Network for each Role\\033[0m\")\n",
        "nn_mses.astype(int)"
      ],
      "execution_count": null,
      "outputs": [
        {
          "output_type": "stream",
          "text": [
            "\n",
            "\u001b[1mMSEs of the Neural Network for each Role\u001b[0m\n"
          ],
          "name": "stdout"
        },
        {
          "output_type": "execute_result",
          "data": {
            "text/html": [
              "<div>\n",
              "<style scoped>\n",
              "    .dataframe tbody tr th:only-of-type {\n",
              "        vertical-align: middle;\n",
              "    }\n",
              "\n",
              "    .dataframe tbody tr th {\n",
              "        vertical-align: top;\n",
              "    }\n",
              "\n",
              "    .dataframe thead th {\n",
              "        text-align: right;\n",
              "    }\n",
              "</style>\n",
              "<table border=\"1\" class=\"dataframe\">\n",
              "  <thead>\n",
              "    <tr style=\"text-align: right;\">\n",
              "      <th></th>\n",
              "      <th>tank</th>\n",
              "      <th>damage</th>\n",
              "      <th>support</th>\n",
              "    </tr>\n",
              "  </thead>\n",
              "  <tbody>\n",
              "    <tr>\n",
              "      <th>Neural Network</th>\n",
              "      <td>174315</td>\n",
              "      <td>198937</td>\n",
              "      <td>186477</td>\n",
              "    </tr>\n",
              "  </tbody>\n",
              "</table>\n",
              "</div>"
            ],
            "text/plain": [
              "                  tank  damage  support\n",
              "Neural Network  174315  198937   186477"
            ]
          },
          "metadata": {
            "tags": []
          },
          "execution_count": 46
        }
      ]
    },
    {
      "cell_type": "markdown",
      "metadata": {
        "id": "BnU2BqA9QlFN"
      },
      "source": [
        "The minimum losses of the neural network for all three roles, displayed above, shows further improvement from linear and lasso regression, with MSEs around **174k-200k**."
      ]
    },
    {
      "cell_type": "markdown",
      "metadata": {
        "id": "s9vsxVzcD0Pj"
      },
      "source": [
        "### Method 2: Gradient Boosting\n"
      ]
    },
    {
      "cell_type": "markdown",
      "metadata": {
        "id": "hnuSBSqLS5oC"
      },
      "source": [
        "#### Model Parameters and Results"
      ]
    },
    {
      "cell_type": "markdown",
      "metadata": {
        "id": "2QsZzhEY6NUF"
      },
      "source": [
        "The next method we tried was gradient boosted trees, with parameters tuned via standard cross-validation. The models with best parameters for each role are shown below:"
      ]
    },
    {
      "cell_type": "code",
      "metadata": {
        "id": "47FwTvnt6tUE"
      },
      "source": [
        "GB_model_params = {}\n",
        "GB_model_params[\"tank\"] = {'n_estimators': 300, 'min_samples_split': 2, 'min_samples_leaf': 2, 'max_features': 'sqrt', 'max_depth': 9, 'learning_rate': 0.05}\n",
        "GB_model_params[\"damage\"] = {'n_estimators': 400, 'min_samples_split': 5, 'min_samples_leaf': 2, 'max_features': 'sqrt', 'max_depth': 11, 'learning_rate': 0.1}\n",
        "GB_model_params[\"support\"] = {'n_estimators': 400, 'min_samples_split': 5, 'min_samples_leaf': 2, 'max_features': 'sqrt', 'max_depth': 11, 'learning_rate': 0.1}"
      ],
      "execution_count": 34,
      "outputs": []
    },
    {
      "cell_type": "code",
      "metadata": {
        "id": "wYbKj4_Y8ApT"
      },
      "source": [
        "def run_gb(X_train, y_train, X_test, y_test, kwargs={}):\n",
        "    gb = GradientBoostingRegressor(random_state = 69, **kwargs)\n",
        "    gb.fit(X_train, y_train)\n",
        "    \n",
        "    pred = gb.predict(X_test)\n",
        "    gb_mse = metrics.mean_squared_error(y_test, pred)\n",
        "    r2 = r2_score(y_test, pred)\n",
        "    print(f\"R-squared: {round(r2*100, 1)}%\")\n",
        "    print(f\"MSE: {round(gb_mse, 2)}\")\n",
        "\n",
        "    return gb, gb_mse"
      ],
      "execution_count": 35,
      "outputs": []
    },
    {
      "cell_type": "code",
      "metadata": {
        "colab": {
          "base_uri": "https://localhost:8080/",
          "height": 318
        },
        "id": "uYXHOomO8SBu",
        "outputId": "eab5b7b1-9570-4641-d6c8-0bdc3a24674f"
      },
      "source": [
        "gb_mses = {}\n",
        "gb_models = {}\n",
        "for role in ROLES:\n",
        "  print(f\"\\033[1mGradient Boosting for {role}:\\033[0m\")\n",
        "  model, score = run_gb(X_train_all[role], y_train_all[role], X_test_all[role], y_test_all[role], kwargs=GB_model_params[role])\n",
        "  gb_mses[role] = score\n",
        "  gb_models[role] = model\n",
        "  print()\n",
        "\n",
        "gb_mses = pd.DataFrame(gb_mses, index = [\"Gradient Boosting\"])\n",
        "print(\"\\033[1mPerformance of Gradient Boosting\\033[0m\")\n",
        "gb_mses.astype(int)"
      ],
      "execution_count": 36,
      "outputs": [
        {
          "output_type": "stream",
          "text": [
            "\u001b[1mGradient Boosting for tank:\u001b[0m\n",
            "R-squared: 54.9%\n",
            "MSE: 177841.56\n",
            "\n",
            "\u001b[1mGradient Boosting for damage:\u001b[0m\n",
            "R-squared: 54.2%\n",
            "MSE: 202815.78\n",
            "\n",
            "\u001b[1mGradient Boosting for support:\u001b[0m\n",
            "R-squared: 55.1%\n",
            "MSE: 186302.6\n",
            "\n",
            "\n",
            "\u001b[1mPerformance of Gradient Boosting\u001b[0m\n"
          ],
          "name": "stdout"
        },
        {
          "output_type": "execute_result",
          "data": {
            "text/html": [
              "<div>\n",
              "<style scoped>\n",
              "    .dataframe tbody tr th:only-of-type {\n",
              "        vertical-align: middle;\n",
              "    }\n",
              "\n",
              "    .dataframe tbody tr th {\n",
              "        vertical-align: top;\n",
              "    }\n",
              "\n",
              "    .dataframe thead th {\n",
              "        text-align: right;\n",
              "    }\n",
              "</style>\n",
              "<table border=\"1\" class=\"dataframe\">\n",
              "  <thead>\n",
              "    <tr style=\"text-align: right;\">\n",
              "      <th></th>\n",
              "      <th>tank</th>\n",
              "      <th>damage</th>\n",
              "      <th>support</th>\n",
              "    </tr>\n",
              "  </thead>\n",
              "  <tbody>\n",
              "    <tr>\n",
              "      <th>Gradient Boosting</th>\n",
              "      <td>177841</td>\n",
              "      <td>202815</td>\n",
              "      <td>186302</td>\n",
              "    </tr>\n",
              "  </tbody>\n",
              "</table>\n",
              "</div>"
            ],
            "text/plain": [
              "                     tank  damage  support\n",
              "Gradient Boosting  177841  202815   186302"
            ]
          },
          "metadata": {
            "tags": []
          },
          "execution_count": 36
        }
      ]
    },
    {
      "cell_type": "markdown",
      "metadata": {
        "id": "cbSDYvT2Hpew"
      },
      "source": [
        "With MSEs around **177k to 203k**, the performance of gradient boosting is very close to that of the nerual network."
      ]
    },
    {
      "cell_type": "markdown",
      "metadata": {
        "id": "NkytWo3-Hy5c"
      },
      "source": [
        "####Feature Importances"
      ]
    },
    {
      "cell_type": "markdown",
      "metadata": {
        "id": "-QswZxSOH532"
      },
      "source": [
        "With Gradient Boosting, we can examine feature importances for the fitted models. Since there are too many features with relatively high importances, we will group the top 40 statistics by the corresponding heroes for an easily interpretable visualization.\n",
        "\n",
        "\n",
        "\n",
        "\n"
      ]
    },
    {
      "cell_type": "code",
      "metadata": {
        "id": "XLCgTusgPbd7"
      },
      "source": [
        "take_name = re.compile(r\"([a-zA-Z0-9]+)_.*\")\n",
        "role = \"tank\"\n",
        "\n",
        "def draw_importances(role, k=40):\n",
        "  columns = list(DATA[role][0].columns)\n",
        "  columns.remove('rating')\n",
        "  importances = sorted(list(zip(gb_models[role].feature_importances_, columns)), reverse=True)\n",
        "\n",
        "  f, ax = plt.subplots(figsize=(18,7))\n",
        "  barlist = plt.bar([x[1] for x in importances[:k]], [x[0] for x in importances[:k]])\n",
        "  plt.tick_params(\n",
        "      axis='x',          # changes apply to the x-axis\n",
        "      which='both',      # both major and minor ticks are affected\n",
        "      bottom=False,      # ticks along the bottom edge are off\n",
        "      top=False,         # ticks along the top edge are off\n",
        "      labelbottom=False)\n",
        "\n",
        "  temp_c = Counter()\n",
        "  for i in range(k):\n",
        "      name = take_name.match(importances[i][1]).groups()[0]\n",
        "      temp_c[name] += 1\n",
        "      \n",
        "  cmap = plt.get_cmap('Accent')\n",
        "  names = temp_c.keys()\n",
        "  colormap = dict(zip(names, sns.color_palette()[:len(names)]))\n",
        "\n",
        "  for i in range(k):\n",
        "      name = take_name.match(importances[i][1]).groups()[0]\n",
        "      barlist[i].set_color(colormap[name])\n",
        "\n",
        "  hndls = []\n",
        "  for k, v in colormap.items():\n",
        "      patch = mpatches.Patch(color=v, label=k)  \n",
        "      hndls.append(patch)\n",
        "      \n",
        "  plt.tick_params(axis='both', which='major', labelsize=15)\n",
        "  plt.legend(handles=hndls, fontsize=20)\n",
        "  plt.title(f\"[{role.upper()}] Feature Imprortances (First 40) with Gradient Boosting\", fontsize=22)\n",
        "  plt.show()"
      ],
      "execution_count": null,
      "outputs": []
    },
    {
      "cell_type": "code",
      "metadata": {
        "colab": {
          "base_uri": "https://localhost:8080/",
          "height": 1000
        },
        "id": "iwM1-Tf1QPHF",
        "outputId": "d2b18d7e-1495-48f2-d4d0-cf9ecd6a085b"
      },
      "source": [
        "for role in ROLES:\n",
        "  draw_importances(role)"
      ],
      "execution_count": null,
      "outputs": [
        {
          "output_type": "display_data",
          "data": {
            "image/png": "[encoded data removed]",
            "text/plain": [
              "<Figure size 1296x504 with 1 Axes>"
            ]
          },
          "metadata": {
            "tags": []
          }
        },
        {
          "output_type": "display_data",
          "data": {
            "image/png": "[encoded data removed]",
            "text/plain": [
              "<Figure size 1296x504 with 1 Axes>"
            ]
          },
          "metadata": {
            "tags": []
          }
        },
        {
          "output_type": "display_data",
          "data": {
            "image/png": "[encoded data removed]",
            "text/plain": [
              "<Figure size 1296x504 with 1 Axes>"
            ]
          },
          "metadata": {
            "tags": []
          }
        }
      ]
    },
    {
      "cell_type": "markdown",
      "metadata": {
        "id": "DY9dtZvWTM-f"
      },
      "source": [
        "We can see that feature importances tend to cluster around certain heroes for all the roles. Specifically, the first 40 features for tank contain the majority of statistics for two hereos, **Reinhart and Zarya**. Similar patterns can be observed for other roles as well (**McCree** for damage, **Ana** for support). \n",
        "\n",
        "This might suggest that **playing certain heroes** is a stronger indicator of higher SR than certain statistics. The observation is also consistent with the presence of **meta (preferred or overpowered heroes or team compositions)** in Overwatch. "
      ]
    },
    {
      "cell_type": "markdown",
      "metadata": {
        "id": "ouIXUtEvD3yr"
      },
      "source": [
        "### Method 3: Aggregate Statistics\n",
        "\n",
        "Finally, we aggregated the columns in the following way:\n",
        "\n",
        "(Aggregation was done per-role on data without feature scaling.)\n",
        "\n",
        "1. Discard hero-specific statistics for all heroes.\n",
        "\n",
        "2. For each common statistic, average across all heroes.\n",
        "\n",
        "Taking average deaths per 10 minutes on tank as an example. Instead of having eight features for average deaths, one for each tank, the new data frame has only one such feature. If a player has only played two tanks, with five and seven average deaths per 10 minutes respectively, then the corresponding value in the new data frame is $\\frac{5+7}{2}=6$.\n",
        "\n",
        "After aggregating the columns, new features with more than 30% missing data were dropped. The remaining missing values were filled with median of that feature. [**[Code](https://github.com/hachiyuki8/ow-stats-analysis/blob/joanna/aggregate.py)**]"
      ]
    },
    {
      "cell_type": "code",
      "metadata": {
        "id": "Uzq32w7dHDAl"
      },
      "source": [
        "PICKLE_PATH = \"https://github.com/hachiyuki8/ow-stats-analysis/blob/joanna/aggregated/\"\n",
        "\n",
        "# load the aggregated data\n",
        "tank_train_X = pickle.load(urlopen(PICKLE_PATH + \"tank_train_X.pickle?raw=true\")) \n",
        "tank_train_y = pickle.load(urlopen(PICKLE_PATH + \"tank_train_y.pickle?raw=true\")) \n",
        "tank_test_X = pickle.load(urlopen(PICKLE_PATH + \"tank_test_X.pickle?raw=true\")) \n",
        "tank_test_y = pickle.load(urlopen(PICKLE_PATH + \"tank_test_y.pickle?raw=true\")) \n",
        "\n",
        "damage_train_X = pickle.load(urlopen(PICKLE_PATH + \"damage_train_X.pickle?raw=true\")) \n",
        "damage_train_y = pickle.load(urlopen(PICKLE_PATH + \"damage_train_y.pickle?raw=true\")) \n",
        "damage_test_X = pickle.load(urlopen(PICKLE_PATH + \"damage_test_X.pickle?raw=true\")) \n",
        "damage_test_y = pickle.load(urlopen(PICKLE_PATH + \"damage_test_y.pickle?raw=true\")) \n",
        "\n",
        "support_train_X = pickle.load(urlopen(PICKLE_PATH + \"support_train_X.pickle?raw=true\")) \n",
        "support_train_y = pickle.load(urlopen(PICKLE_PATH + \"support_train_y.pickle?raw=true\")) \n",
        "support_test_X = pickle.load(urlopen(PICKLE_PATH + \"support_test_X.pickle?raw=true\")) \n",
        "support_test_y = pickle.load(urlopen(PICKLE_PATH + \"support_test_y.pickle?raw=true\")) \n",
        "\n",
        "data = {\"tank\": (tank_train_X, tank_train_y, tank_test_X, tank_test_y),\n",
        "        \"damage\": (damage_train_X, damage_train_y, damage_test_X, damage_test_y),\n",
        "        \"support\": (support_train_X, support_train_y, support_test_X, support_test_y)}"
      ],
      "execution_count": null,
      "outputs": []
    },
    {
      "cell_type": "markdown",
      "metadata": {
        "id": "vB1_6OjfJMTI"
      },
      "source": [
        "Four models were then trained on the aggregated data for each role: linear regression, random forest, gradient boosting, and k-nearest neighbors. Hyperparameters are tuned via 200 iterations of 5-fold cross validation based on randomized search. **[[Code](https://github.com/hachiyuki8/ow-stats-analysis/blob/joanna/model.py)]**"
      ]
    },
    {
      "cell_type": "markdown",
      "metadata": {
        "id": "MwM7rgPUecE9"
      },
      "source": [
        "#### Linear Regression "
      ]
    },
    {
      "cell_type": "markdown",
      "metadata": {
        "id": "_jj5qeNDg20n"
      },
      "source": [
        "##### **Model Summaries and Results**"
      ]
    },
    {
      "cell_type": "code",
      "metadata": {
        "colab": {
          "base_uri": "https://localhost:8080/",
          "height": 828
        },
        "id": "l5De6MMebUEK",
        "outputId": "b2a840e1-f2ea-4993-ba26-bcbc6bf782f2"
      },
      "source": [
        "def lin_reg_new(X_train, y_train, X_test, y_test):\n",
        "  reg = LinearRegression().fit(X_train, y_train)\n",
        "  n = y_test.shape[0]\n",
        "\n",
        "  # Get MSE and R^2\n",
        "  y_pred = reg.predict(X_test)\n",
        "  svr_reg = (y_test - y_pred)**2\n",
        "  mean = svr_reg.mean()\n",
        "  sd = svr_reg.std()\n",
        "  r2 = r2_score(y_test, y_pred)\n",
        "  print(f\"R-squared: {round(r2*100, 1)}%\")\n",
        "  idx = reg.coef_.argsort()\n",
        "  print(pd.DataFrame({\"Stats\": X_train.columns[idx], \"Coefficients\": reg.coef_[idx]}))\n",
        "\n",
        "  return mean\n",
        "\n",
        "lr_mses = dict()\n",
        "for role in ROLES:\n",
        "  print(f\"\\033[1mLinear Regression for {role}:\\033[0m\")\n",
        "  lr_mses[role] = lin_reg_new(*data[role])\n",
        "  print()\n",
        "\n",
        "lr_mses = pd.DataFrame(lr_mses, index = [\"Linear Regression\"])\n",
        "print(\"\\033[1mPerformance of Linear Regression on Aggregated Data\\033[0m\")\n",
        "round(lr_mses)"
      ],
      "execution_count": null,
      "outputs": [
        {
          "output_type": "stream",
          "text": [
            "\u001b[1mLinear Regression for tank:\u001b[0m\n",
            "R-squared: 23.7%\n",
            "                          Stats  Coefficients\n",
            "0          soloKillsAvgPer10Min   -162.374318\n",
            "1     objectiveKillsAvgPer10Min    -93.598387\n",
            "2    timeSpentOnFireAvgPer10Min     -4.181543\n",
            "3      objectiveTimeAvgPer10Min     -3.080739\n",
            "4  barrierDamageDoneAvgPer10Min      0.097651\n",
            "5     heroDamageDoneAvgPer10Min      0.177626\n",
            "6             deathsAvgPer10Min      9.510600\n",
            "7         finalBlowsAvgPer10Min     20.280015\n",
            "8       eliminationsAvgPer10Min     29.692799\n",
            "9                weaponAccuracy   1105.574163\n",
            "\n",
            "\u001b[1mLinear Regression for damage:\u001b[0m\n",
            "R-squared: 28.6%\n",
            "                           Stats  Coefficients\n",
            "0      objectiveKillsAvgPer10Min   -166.239110\n",
            "1           soloKillsAvgPer10Min    -85.166761\n",
            "2          finalBlowsAvgPer10Min    -10.038445\n",
            "3       objectiveTimeAvgPer10Min     -5.242997\n",
            "4     timeSpentOnFireAvgPer10Min     -2.205474\n",
            "5      heroDamageDoneAvgPer10Min     -0.019400\n",
            "6   barrierDamageDoneAvgPer10Min      0.062894\n",
            "7        criticalHitsAvgPer10Min      2.425393\n",
            "8              deathsAvgPer10Min     15.093477\n",
            "9        eliminationsAvgPer10Min    101.148830\n",
            "10                weaponAccuracy   2277.669589\n",
            "\n",
            "\u001b[1mLinear Regression for support:\u001b[0m\n",
            "R-squared: 19.3%\n",
            "                          Stats  Coefficients\n",
            "0          soloKillsAvgPer10Min   -206.251336\n",
            "1     objectiveKillsAvgPer10Min   -115.167760\n",
            "2             deathsAvgPer10Min    -76.209594\n",
            "3         finalBlowsAvgPer10Min    -74.275582\n",
            "4      objectiveTimeAvgPer10Min     -4.529304\n",
            "5     heroDamageDoneAvgPer10Min     -0.085500\n",
            "6  barrierDamageDoneAvgPer10Min      0.187040\n",
            "7    timeSpentOnFireAvgPer10Min      2.007719\n",
            "8       eliminationsAvgPer10Min     80.447189\n",
            "9                weaponAccuracy   1333.230928\n",
            "\n",
            "\u001b[1mPerformance of Linear Regression on Aggregated Data\u001b[0m\n"
          ],
          "name": "stdout"
        },
        {
          "output_type": "execute_result",
          "data": {
            "text/html": [
              "<div>\n",
              "<style scoped>\n",
              "    .dataframe tbody tr th:only-of-type {\n",
              "        vertical-align: middle;\n",
              "    }\n",
              "\n",
              "    .dataframe tbody tr th {\n",
              "        vertical-align: top;\n",
              "    }\n",
              "\n",
              "    .dataframe thead th {\n",
              "        text-align: right;\n",
              "    }\n",
              "</style>\n",
              "<table border=\"1\" class=\"dataframe\">\n",
              "  <thead>\n",
              "    <tr style=\"text-align: right;\">\n",
              "      <th></th>\n",
              "      <th>tank</th>\n",
              "      <th>damage</th>\n",
              "      <th>support</th>\n",
              "    </tr>\n",
              "  </thead>\n",
              "  <tbody>\n",
              "    <tr>\n",
              "      <th>Linear Regression</th>\n",
              "      <td>300964.0</td>\n",
              "      <td>316444.0</td>\n",
              "      <td>334662.0</td>\n",
              "    </tr>\n",
              "  </tbody>\n",
              "</table>\n",
              "</div>"
            ],
            "text/plain": [
              "                       tank    damage   support\n",
              "Linear Regression  300964.0  316444.0  334662.0"
            ]
          },
          "metadata": {
            "tags": []
          },
          "execution_count": 57
        }
      ]
    },
    {
      "cell_type": "markdown",
      "metadata": {
        "id": "USGcgc4scO_O"
      },
      "source": [
        "With MSEs around **300k-335k**, the performance is worse than linear regression on unaggregated data, which makes sense since we discarded hero-specific statistics which could contain important signals, but is still better than predicting means."
      ]
    },
    {
      "cell_type": "markdown",
      "metadata": {
        "id": "gpjE3kY8egHD"
      },
      "source": [
        "#### Random Forest, Gradient Boosting, K-Nearest Neighbors\n",
        "\n",
        "The best parameters for latter three models are shown below (with pre-saved MSEs):"
      ]
    },
    {
      "cell_type": "code",
      "metadata": {
        "id": "jyPZo3Z6JLjF"
      },
      "source": [
        "# best parameters and pre-saved MSEs\n",
        "tank_models = {\"RF\": RandomForestRegressor(bootstrap=False, ccp_alpha=0.0, criterion='mse', max_depth=33, \n",
        "                                           max_features='sqrt', max_leaf_nodes=None, max_samples=None, \n",
        "                                           min_impurity_decrease=0.0, min_impurity_split=None, min_samples_leaf=1, \n",
        "                                           min_samples_split=5, min_weight_fraction_leaf=0.0, n_estimators=1419, \n",
        "                                           n_jobs=None, oob_score=False, random_state=69, verbose=0, warm_start=False), \n",
        "               \"GB\": GradientBoostingRegressor(alpha=0.9, ccp_alpha=0.0, criterion='friedman_mse', init=None, \n",
        "                                               learning_rate=0.01, loss='ls', max_depth=17, max_features='sqrt', \n",
        "                                               max_leaf_nodes=None, min_impurity_decrease=0.0, min_impurity_split=None, \n",
        "                                               min_samples_leaf=1, min_samples_split=10, min_weight_fraction_leaf=0.0, \n",
        "                                               n_estimators=742, n_iter_no_change=None, random_state=69, subsample=1.0, \n",
        "                                               tol=0.0001, validation_fraction=0.1, verbose=0, warm_start=False), \n",
        "               \"KNN\": KNeighborsRegressor(algorithm='ball_tree', leaf_size=64, metric='minkowski', metric_params=None, \n",
        "                                          n_jobs=None, n_neighbors=40, p=2, weights='distance'), \n",
        "               \"MSE\": [244123.16048430157, 244887.39789141578, 251571.78548830753]}\n",
        "\n",
        "damage_models = {\"RF\": RandomForestRegressor(bootstrap=False, ccp_alpha=0.0, criterion='mse', max_depth=33, \n",
        "                                             max_features='sqrt', max_leaf_nodes=None, max_samples=None, \n",
        "                                             min_impurity_decrease=0.0, min_impurity_split=None, min_samples_leaf=1, \n",
        "                                             min_samples_split=5, min_weight_fraction_leaf=0.0, n_estimators=1419, \n",
        "                                             n_jobs=None, oob_score=False, random_state=69, verbose=0, warm_start=False),\n",
        "                 \"GB\": GradientBoostingRegressor(alpha=0.9, ccp_alpha=0.0, criterion='friedman_mse', init=None,\n",
        "                                                 learning_rate=0.01, loss='ls', max_depth=41, max_features='sqrt', \n",
        "                                                 max_leaf_nodes=None, min_impurity_decrease=0.0, min_impurity_split=None,\n",
        "                                                 min_samples_leaf=4, min_samples_split=10, min_weight_fraction_leaf=0.0, \n",
        "                                                 n_estimators=1449, n_iter_no_change=None, random_state=69, subsample=1.0, \n",
        "                                                 tol=0.0001, validation_fraction=0.1, verbose=0, warm_start=False),\n",
        "                 \"KNN\": KNeighborsRegressor(algorithm='kd_tree', leaf_size=10, metric='minkowski', metric_params=None, \n",
        "                                            n_jobs=None, n_neighbors=25, p=1, weights='distance'),\n",
        "                 \"MSE\": [250032.93578668233, 247365.3741125667, 269458.98917060153]}\n",
        "\n",
        "support_models = {\"RF\": RandomForestRegressor(bootstrap=False, ccp_alpha=0.0, criterion='mse', max_depth=64, \n",
        "                                              max_features='sqrt', max_leaf_nodes=None, max_samples=None, \n",
        "                                              min_impurity_decrease=0.0, min_impurity_split=None, min_samples_leaf=1, \n",
        "                                              min_samples_split=2, min_weight_fraction_leaf=0.0, n_estimators=994, \n",
        "                                              n_jobs=None, oob_score=False, random_state=69, verbose=0, warm_start=False),\n",
        "                  \"GB\": GradientBoostingRegressor(alpha=0.9, ccp_alpha=0.0, criterion='friedman_mse', init=None, \n",
        "                                                  learning_rate=0.01, loss='ls', max_depth=17, max_features='sqrt', \n",
        "                                                  max_leaf_nodes=None, min_impurity_decrease=0.0, min_impurity_split=None, \n",
        "                                                  min_samples_leaf=1, min_samples_split=10, min_weight_fraction_leaf=0.0, \n",
        "                                                  n_estimators=742, n_iter_no_change=None, random_state=69, subsample=1.0, \n",
        "                                                  tol=0.0001, validation_fraction=0.1, verbose=0, warm_start=False),\n",
        "                  \"KNN\": KNeighborsRegressor(algorithm='ball_tree', leaf_size=33, metric='minkowski', metric_params=None, \n",
        "                                             n_jobs=None, n_neighbors=35, p=1, weights='distance'),\n",
        "                  \"MSE\": [272529.0814005239, 270516.3864121574, 285994.1570905974]}\n",
        "\n",
        "# To be used later\n",
        "aggregated_mses = {\"tank\": tank_models[\"MSE\"], \"damage\": damage_models[\"MSE\"], \"support\": support_models[\"MSE\"]}\n",
        "aggregated_mses = pd.DataFrame(aggregated_mses, index = [\"Random Forest\", \"Gradient Boosting\", \"K-Nearest Neighbors\"])"
      ],
      "execution_count": null,
      "outputs": []
    },
    {
      "cell_type": "code",
      "metadata": {
        "colab": {
          "background_save": true
        },
        "id": "1n-xHt9EIzBI",
        "outputId": "c8f4a1d0-2388-458f-a871-f79bc4772990"
      },
      "source": [
        "# Fit the best model under each role, takes a few minutes to run\n",
        "tank_models[\"RF\"].fit(tank_train_X, tank_train_y)\n",
        "damage_models[\"GB\"].fit(damage_train_X, damage_train_y)\n",
        "support_models[\"GB\"].fit(support_train_X, support_train_y)"
      ],
      "execution_count": null,
      "outputs": [
        {
          "output_type": "execute_result",
          "data": {
            "text/plain": [
              "GradientBoostingRegressor(alpha=0.9, ccp_alpha=0.0, criterion='friedman_mse',\n",
              "                          init=None, learning_rate=0.01, loss='ls',\n",
              "                          max_depth=17, max_features='sqrt',\n",
              "                          max_leaf_nodes=None, min_impurity_decrease=0.0,\n",
              "                          min_impurity_split=None, min_samples_leaf=1,\n",
              "                          min_samples_split=10, min_weight_fraction_leaf=0.0,\n",
              "                          n_estimators=742, n_iter_no_change=None,\n",
              "                          presort='deprecated', random_state=69, subsample=1.0,\n",
              "                          tol=0.0001, validation_fraction=0.1, verbose=0,\n",
              "                          warm_start=False)"
            ]
          },
          "metadata": {
            "tags": []
          },
          "execution_count": 0
        }
      ]
    },
    {
      "cell_type": "markdown",
      "metadata": {
        "id": "KtN0wr5aglvq"
      },
      "source": [
        "##### Results"
      ]
    },
    {
      "cell_type": "code",
      "metadata": {
        "colab": {
          "base_uri": "https://localhost:8080/",
          "height": 128
        },
        "id": "aCfZFW9Tv63-",
        "outputId": "b09f4da0-3ace-4899-c7fa-135af891f9ab"
      },
      "source": [
        "# Check MSE and rMSE for the best models\n",
        "errors = dict()\n",
        "pred = {\"tank\": tank_models[\"RF\"].predict(tank_test_X),\n",
        "        \"damage\": damage_models[\"GB\"].predict(damage_test_X),\n",
        "        \"support\": support_models[\"GB\"].predict(support_test_X)}\n",
        "test = {\"tank\": tank_test_y,\n",
        "        \"damage\": damage_test_y,\n",
        "        \"support\": support_test_y}\n",
        "\n",
        "for role in ROLES:\n",
        "  errors[role] = {\"MSE\":  round(metrics.mean_squared_error(test[role], pred[role])),\n",
        "                  \"RMSE\": round(metrics.mean_squared_error(test[role], pred[role])**0.5)}\n",
        "\n",
        "errors_df = pd.DataFrame(errors)\n",
        "print(\"\\033[1mPerformance of Best Models for each Role on Aggregated Data\\033[0m\")\n",
        "errors_df"
      ],
      "execution_count": null,
      "outputs": [
        {
          "output_type": "stream",
          "text": [
            "\u001b[1mPerformance of Best Models for each Role on Aggregated Data\u001b[0m\n"
          ],
          "name": "stdout"
        },
        {
          "output_type": "execute_result",
          "data": {
            "text/html": [
              "<div>\n",
              "<style scoped>\n",
              "    .dataframe tbody tr th:only-of-type {\n",
              "        vertical-align: middle;\n",
              "    }\n",
              "\n",
              "    .dataframe tbody tr th {\n",
              "        vertical-align: top;\n",
              "    }\n",
              "\n",
              "    .dataframe thead th {\n",
              "        text-align: right;\n",
              "    }\n",
              "</style>\n",
              "<table border=\"1\" class=\"dataframe\">\n",
              "  <thead>\n",
              "    <tr style=\"text-align: right;\">\n",
              "      <th></th>\n",
              "      <th>tank</th>\n",
              "      <th>damage</th>\n",
              "      <th>support</th>\n",
              "    </tr>\n",
              "  </thead>\n",
              "  <tbody>\n",
              "    <tr>\n",
              "      <th>MSE</th>\n",
              "      <td>244123</td>\n",
              "      <td>247366</td>\n",
              "      <td>270524</td>\n",
              "    </tr>\n",
              "    <tr>\n",
              "      <th>RMSE</th>\n",
              "      <td>494</td>\n",
              "      <td>497</td>\n",
              "      <td>520</td>\n",
              "    </tr>\n",
              "  </tbody>\n",
              "</table>\n",
              "</div>"
            ],
            "text/plain": [
              "        tank  damage  support\n",
              "MSE   244123  247366   270524\n",
              "RMSE     494     497      520"
            ]
          },
          "metadata": {
            "tags": []
          },
          "execution_count": 20
        }
      ]
    },
    {
      "cell_type": "markdown",
      "metadata": {
        "id": "zW5OES0eQ3ox"
      },
      "source": [
        "With MSEs around **244k-270k**, the performance is generally worse than models on unaggregated data. However, by examining feature importances, we can see which types of statistics are the most important in these models. \n",
        "\n",
        "##### Feature Importances"
      ]
    },
    {
      "cell_type": "code",
      "metadata": {
        "id": "aGiz8S_lwHmA"
      },
      "source": [
        "# calculate permutation feature importances\n",
        "tank_result = permutation_importance(tank_models[\"RF\"], tank_test_X, tank_test_y, random_state=69)\n",
        "tank_idx = tank_result.importances_mean.argsort()\n",
        "\n",
        "damage_result = permutation_importance(damage_models[\"GB\"], damage_test_X, damage_test_y, random_state=69)\n",
        "damage_idx = damage_result.importances_mean.argsort()\n",
        "\n",
        "support_result = permutation_importance(support_models[\"GB\"], support_test_X, support_test_y, random_state=69)\n",
        "support_idx = support_result.importances_mean.argsort()"
      ],
      "execution_count": null,
      "outputs": []
    },
    {
      "cell_type": "code",
      "metadata": {
        "id": "wpBgquMVTBTO",
        "colab": {
          "base_uri": "https://localhost:8080/",
          "height": 762
        },
        "outputId": "d4e5f026-cdd2-4c05-a16a-2b6e77b5a437"
      },
      "source": [
        "fig, ax = plt.subplots(constrained_layout=True)\n",
        "fig.set_size_inches(8, 10)\n",
        "ax.axis('off')\n",
        "grid = gridspec.GridSpec(nrows = 3, ncols = 1, figure = fig)\n",
        "\n",
        "ax1 = fig.add_subplot(grid[0])\n",
        "ax1.boxplot(tank_result.importances[tank_idx].T, vert=False, labels=tank_test_X.columns[tank_idx])\n",
        "ax1.set_title(\"[TANK] Permutation Feature Importances (on Test Set)\")\n",
        "\n",
        "ax2 = fig.add_subplot(grid[1])\n",
        "ax2.boxplot(damage_result.importances[damage_idx].T, vert=False, labels=damage_test_X.columns[damage_idx])\n",
        "ax2.set_title(\"[DAMAGE] Permutation Feature Importances (on Test Set)\")\n",
        "\n",
        "ax3 = fig.add_subplot(grid[2])\n",
        "ax3.boxplot(support_result.importances[support_idx].T, vert=False, labels=support_test_X.columns[support_idx])\n",
        "ax3.set_title(\"[SUPPORT] Permutation Feature Importances (on Test Set)\")"
      ],
      "execution_count": null,
      "outputs": [
        {
          "output_type": "execute_result",
          "data": {
            "text/plain": [
              "Text(0.5, 1.0, '[SUPPORT] Permutation Feature Importances (on Test Set)')"
            ]
          },
          "metadata": {
            "tags": []
          },
          "execution_count": 127
        },
        {
          "output_type": "display_data",
          "data": {
            "image/png": "[encoded data removed]",
            "text/plain": [
              "<Figure size 576x720 with 4 Axes>"
            ]
          },
          "metadata": {
            "tags": []
          }
        }
      ]
    },
    {
      "cell_type": "markdown",
      "metadata": {
        "id": "VJyh_KC6ct0U"
      },
      "source": [
        "For each model, the features with relatively high importance are as follows:\n",
        "- **Tank**: hero damage done, objective kills, barrier damage done\n",
        "- **Damage**: objective kills, eliminations, weapon accuracy\n",
        "- **Support**: eliminations, objective kills, barrier damage done\n",
        "\n",
        "Although feature importance is model-specific and doesn't necessarily represent the actual predictive value, we can still extract some interesting patterns: \n",
        "- **Objective kills**, usually not considered as important, is an important features in all three models.\n",
        "- **Hero/Barrier damage done** and **eliminations** both reflect amount of damage output, but the former is important for tank and support, while the latter is important for damage.\n",
        "- **Weapon accuracy** is more important for damage than for tank and support, which is within expectation.\n",
        "- **Final blows** is usually considered an important statistic, especially for damage, but it's relatively unimportant in all three models.\n"
      ]
    },
    {
      "cell_type": "markdown",
      "metadata": {
        "id": "iBhi02wTnj4R"
      },
      "source": [
        "## Conclusion\n",
        "\n",
        "Below is the performance of all models attempted:"
      ]
    },
    {
      "cell_type": "code",
      "metadata": {
        "colab": {
          "base_uri": "https://localhost:8080/",
          "height": 162
        },
        "id": "l7EzDqLZnvBH",
        "outputId": "d21fd728-0aef-4719-e626-0309179944e2"
      },
      "source": [
        "# TO-DO: MSE and rMSE table\n",
        "print(\"\\033[1mPerformance of Models on Unaggregated Data\\033[0m\")\n",
        "pd.concat([baseline_mses, nn_mses, gb_mses]).astype(int).style.highlight_min(color = 'lightgreen', axis = 0)"
      ],
      "execution_count": null,
      "outputs": [
        {
          "output_type": "stream",
          "text": [
            "\u001b[1mPerformance of Models on Unaggregated Data\u001b[0m\n"
          ],
          "name": "stdout"
        },
        {
          "output_type": "execute_result",
          "data": {
            "text/html": [
              "<style  type=\"text/css\" >\n",
              "#T_78bf2c0a_b75b_11eb_9f0d_0242ac1c0002row3_col0,#T_78bf2c0a_b75b_11eb_9f0d_0242ac1c0002row3_col1,#T_78bf2c0a_b75b_11eb_9f0d_0242ac1c0002row4_col2{\n",
              "            background-color:  lightgreen;\n",
              "        }</style><table id=\"T_78bf2c0a_b75b_11eb_9f0d_0242ac1c0002\" ><thead>    <tr>        <th class=\"blank level0\" ></th>        <th class=\"col_heading level0 col0\" >tank</th>        <th class=\"col_heading level0 col1\" >damage</th>        <th class=\"col_heading level0 col2\" >support</th>    </tr></thead><tbody>\n",
              "                <tr>\n",
              "                        <th id=\"T_78bf2c0a_b75b_11eb_9f0d_0242ac1c0002level0_row0\" class=\"row_heading level0 row0\" >Predicting Mean</th>\n",
              "                        <td id=\"T_78bf2c0a_b75b_11eb_9f0d_0242ac1c0002row0_col0\" class=\"data row0 col0\" >394230</td>\n",
              "                        <td id=\"T_78bf2c0a_b75b_11eb_9f0d_0242ac1c0002row0_col1\" class=\"data row0 col1\" >443113</td>\n",
              "                        <td id=\"T_78bf2c0a_b75b_11eb_9f0d_0242ac1c0002row0_col2\" class=\"data row0 col2\" >414806</td>\n",
              "            </tr>\n",
              "            <tr>\n",
              "                        <th id=\"T_78bf2c0a_b75b_11eb_9f0d_0242ac1c0002level0_row1\" class=\"row_heading level0 row1\" >Linear Regression</th>\n",
              "                        <td id=\"T_78bf2c0a_b75b_11eb_9f0d_0242ac1c0002row1_col0\" class=\"data row1 col0\" >221775</td>\n",
              "                        <td id=\"T_78bf2c0a_b75b_11eb_9f0d_0242ac1c0002row1_col1\" class=\"data row1 col1\" >249604</td>\n",
              "                        <td id=\"T_78bf2c0a_b75b_11eb_9f0d_0242ac1c0002row1_col2\" class=\"data row1 col2\" >240234</td>\n",
              "            </tr>\n",
              "            <tr>\n",
              "                        <th id=\"T_78bf2c0a_b75b_11eb_9f0d_0242ac1c0002level0_row2\" class=\"row_heading level0 row2\" >Lasso Regression</th>\n",
              "                        <td id=\"T_78bf2c0a_b75b_11eb_9f0d_0242ac1c0002row2_col0\" class=\"data row2 col0\" >247391</td>\n",
              "                        <td id=\"T_78bf2c0a_b75b_11eb_9f0d_0242ac1c0002row2_col1\" class=\"data row2 col1\" >281517</td>\n",
              "                        <td id=\"T_78bf2c0a_b75b_11eb_9f0d_0242ac1c0002row2_col2\" class=\"data row2 col2\" >268078</td>\n",
              "            </tr>\n",
              "            <tr>\n",
              "                        <th id=\"T_78bf2c0a_b75b_11eb_9f0d_0242ac1c0002level0_row3\" class=\"row_heading level0 row3\" >Neural Network</th>\n",
              "                        <td id=\"T_78bf2c0a_b75b_11eb_9f0d_0242ac1c0002row3_col0\" class=\"data row3 col0\" >174315</td>\n",
              "                        <td id=\"T_78bf2c0a_b75b_11eb_9f0d_0242ac1c0002row3_col1\" class=\"data row3 col1\" >198937</td>\n",
              "                        <td id=\"T_78bf2c0a_b75b_11eb_9f0d_0242ac1c0002row3_col2\" class=\"data row3 col2\" >186477</td>\n",
              "            </tr>\n",
              "            <tr>\n",
              "                        <th id=\"T_78bf2c0a_b75b_11eb_9f0d_0242ac1c0002level0_row4\" class=\"row_heading level0 row4\" >Gradient Boosting</th>\n",
              "                        <td id=\"T_78bf2c0a_b75b_11eb_9f0d_0242ac1c0002row4_col0\" class=\"data row4 col0\" >177841</td>\n",
              "                        <td id=\"T_78bf2c0a_b75b_11eb_9f0d_0242ac1c0002row4_col1\" class=\"data row4 col1\" >202815</td>\n",
              "                        <td id=\"T_78bf2c0a_b75b_11eb_9f0d_0242ac1c0002row4_col2\" class=\"data row4 col2\" >186302</td>\n",
              "            </tr>\n",
              "    </tbody></table>"
            ],
            "text/plain": [
              "<pandas.io.formats.style.Styler at 0x7f8df5da4750>"
            ]
          },
          "metadata": {
            "tags": []
          },
          "execution_count": 132
        }
      ]
    },
    {
      "cell_type": "code",
      "metadata": {
        "colab": {
          "base_uri": "https://localhost:8080/",
          "height": 141
        },
        "id": "eo3S2Vq3bA9d",
        "outputId": "b2d09766-de5b-4b7b-efef-b6b25a88bea9"
      },
      "source": [
        "print(\"\\033[1mPerformance of Models on Aggregated Data\\033[0m\")\n",
        "pd.concat([lr_mses, aggregated_mses]).astype(int).style.highlight_min(color = 'lightgreen', axis = 0)"
      ],
      "execution_count": null,
      "outputs": [
        {
          "output_type": "stream",
          "text": [
            "\u001b[1mPerformance of Models on Aggregated Data\u001b[0m\n"
          ],
          "name": "stdout"
        },
        {
          "output_type": "execute_result",
          "data": {
            "text/html": [
              "<style  type=\"text/css\" >\n",
              "#T_66f5d2ee_b75b_11eb_9f0d_0242ac1c0002row1_col0,#T_66f5d2ee_b75b_11eb_9f0d_0242ac1c0002row2_col1,#T_66f5d2ee_b75b_11eb_9f0d_0242ac1c0002row2_col2{\n",
              "            background-color:  lightgreen;\n",
              "        }</style><table id=\"T_66f5d2ee_b75b_11eb_9f0d_0242ac1c0002\" ><thead>    <tr>        <th class=\"blank level0\" ></th>        <th class=\"col_heading level0 col0\" >tank</th>        <th class=\"col_heading level0 col1\" >damage</th>        <th class=\"col_heading level0 col2\" >support</th>    </tr></thead><tbody>\n",
              "                <tr>\n",
              "                        <th id=\"T_66f5d2ee_b75b_11eb_9f0d_0242ac1c0002level0_row0\" class=\"row_heading level0 row0\" >Linear Regression</th>\n",
              "                        <td id=\"T_66f5d2ee_b75b_11eb_9f0d_0242ac1c0002row0_col0\" class=\"data row0 col0\" >300963</td>\n",
              "                        <td id=\"T_66f5d2ee_b75b_11eb_9f0d_0242ac1c0002row0_col1\" class=\"data row0 col1\" >316443</td>\n",
              "                        <td id=\"T_66f5d2ee_b75b_11eb_9f0d_0242ac1c0002row0_col2\" class=\"data row0 col2\" >334662</td>\n",
              "            </tr>\n",
              "            <tr>\n",
              "                        <th id=\"T_66f5d2ee_b75b_11eb_9f0d_0242ac1c0002level0_row1\" class=\"row_heading level0 row1\" >Random Forest</th>\n",
              "                        <td id=\"T_66f5d2ee_b75b_11eb_9f0d_0242ac1c0002row1_col0\" class=\"data row1 col0\" >244123</td>\n",
              "                        <td id=\"T_66f5d2ee_b75b_11eb_9f0d_0242ac1c0002row1_col1\" class=\"data row1 col1\" >250032</td>\n",
              "                        <td id=\"T_66f5d2ee_b75b_11eb_9f0d_0242ac1c0002row1_col2\" class=\"data row1 col2\" >272529</td>\n",
              "            </tr>\n",
              "            <tr>\n",
              "                        <th id=\"T_66f5d2ee_b75b_11eb_9f0d_0242ac1c0002level0_row2\" class=\"row_heading level0 row2\" >Gradient Boosting</th>\n",
              "                        <td id=\"T_66f5d2ee_b75b_11eb_9f0d_0242ac1c0002row2_col0\" class=\"data row2 col0\" >244887</td>\n",
              "                        <td id=\"T_66f5d2ee_b75b_11eb_9f0d_0242ac1c0002row2_col1\" class=\"data row2 col1\" >247365</td>\n",
              "                        <td id=\"T_66f5d2ee_b75b_11eb_9f0d_0242ac1c0002row2_col2\" class=\"data row2 col2\" >270516</td>\n",
              "            </tr>\n",
              "            <tr>\n",
              "                        <th id=\"T_66f5d2ee_b75b_11eb_9f0d_0242ac1c0002level0_row3\" class=\"row_heading level0 row3\" >K-Nearest Neighbors</th>\n",
              "                        <td id=\"T_66f5d2ee_b75b_11eb_9f0d_0242ac1c0002row3_col0\" class=\"data row3 col0\" >251571</td>\n",
              "                        <td id=\"T_66f5d2ee_b75b_11eb_9f0d_0242ac1c0002row3_col1\" class=\"data row3 col1\" >269458</td>\n",
              "                        <td id=\"T_66f5d2ee_b75b_11eb_9f0d_0242ac1c0002row3_col2\" class=\"data row3 col2\" >285994</td>\n",
              "            </tr>\n",
              "    </tbody></table>"
            ],
            "text/plain": [
              "<pandas.io.formats.style.Styler at 0x7f8df5d3dad0>"
            ]
          },
          "metadata": {
            "tags": []
          },
          "execution_count": 129
        }
      ]
    },
    {
      "cell_type": "code",
      "metadata": {
        "colab": {
          "base_uri": "https://localhost:8080/",
          "height": 128
        },
        "id": "tio3MK90e1nd",
        "outputId": "0ed60131-e90c-4178-d259-3043ffabd6c8"
      },
      "source": [
        "print(\"\\033[1mMagnitude of Error: Root MSEs of the Best Models Overall\\033[0m\")\n",
        "(pd.concat([nn_mses, gb_mses])**0.5).astype(int)"
      ],
      "execution_count": null,
      "outputs": [
        {
          "output_type": "stream",
          "text": [
            "\u001b[1mMagnitude of Error: Root MSEs of the Best Models Overall\u001b[0m\n"
          ],
          "name": "stdout"
        },
        {
          "output_type": "execute_result",
          "data": {
            "text/html": [
              "<div>\n",
              "<style scoped>\n",
              "    .dataframe tbody tr th:only-of-type {\n",
              "        vertical-align: middle;\n",
              "    }\n",
              "\n",
              "    .dataframe tbody tr th {\n",
              "        vertical-align: top;\n",
              "    }\n",
              "\n",
              "    .dataframe thead th {\n",
              "        text-align: right;\n",
              "    }\n",
              "</style>\n",
              "<table border=\"1\" class=\"dataframe\">\n",
              "  <thead>\n",
              "    <tr style=\"text-align: right;\">\n",
              "      <th></th>\n",
              "      <th>tank</th>\n",
              "      <th>damage</th>\n",
              "      <th>support</th>\n",
              "    </tr>\n",
              "  </thead>\n",
              "  <tbody>\n",
              "    <tr>\n",
              "      <th>Neural Network</th>\n",
              "      <td>417</td>\n",
              "      <td>446</td>\n",
              "      <td>431</td>\n",
              "    </tr>\n",
              "    <tr>\n",
              "      <th>Gradient Boosting</th>\n",
              "      <td>421</td>\n",
              "      <td>450</td>\n",
              "      <td>431</td>\n",
              "    </tr>\n",
              "  </tbody>\n",
              "</table>\n",
              "</div>"
            ],
            "text/plain": [
              "                   tank  damage  support\n",
              "Neural Network      417     446      431\n",
              "Gradient Boosting   421     450      431"
            ]
          },
          "metadata": {
            "tags": []
          },
          "execution_count": 70
        }
      ]
    },
    {
      "cell_type": "markdown",
      "metadata": {
        "id": "MpXGcl04n3-S"
      },
      "source": [
        "Models on unaggregated data in general perform better than those on aggregated data. The **neural network** has the best performance on all three roles. Gradient boosting on unaggregated data has a comparable performance, while providing some interpretability: apparently, feature importances **cluster more around heroes than around certain types of statistics**. Lastly, models on aggregated data allow us to see the relative importance of different types of common statistics, where we observed patterns both within and out of expectation. \n",
        "\n",
        "The average magnitude of prediction error for the best models, as measure by root MSE, is around **417-450** depending on roles. Although it improved quite a lot compared to just predicting the mean, the errors are still rather large. The large errors can be partially attributed to the natural variability or randomness in the data, i.e. **irreducible errors**. Since Overwatch is highly team-based, it makes sense that whether a player wins or loses a match is related to not only their own performance. Therefore, while a player's statistics may be indicative of a general range for their SR, their statistics alone is not enough to generate a more accurate prediction.\n",
        "\n",
        "There might not be much room for further investigation regarding predicting SR other than trying different imputation methods, since there's no means of accessing additional data such as match information. However, one can look into ways of **predicting the outcome of a match from information on all 12 players**, and see if any signals regarding team compositions or player statistics are picked up."
      ]
    }
  ]
}