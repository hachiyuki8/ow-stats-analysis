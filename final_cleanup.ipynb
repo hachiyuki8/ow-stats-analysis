{
 "metadata": {
  "language_info": {
   "codemirror_mode": {
    "name": "ipython",
    "version": 3
   },
   "file_extension": ".py",
   "mimetype": "text/x-python",
   "name": "python",
   "nbconvert_exporter": "python",
   "pygments_lexer": "ipython3",
   "version": "3.9.1"
  },
  "orig_nbformat": 2,
  "kernelspec": {
   "name": "python391jvsc74a57bd0aee8b7b246df8f9039afb4144a1f6fd8d2ca17a180786b69acc140d282b71a49",
   "display_name": "Python 3.9.1 64-bit"
  },
  "metadata": {
   "interpreter": {
    "hash": "aee8b7b246df8f9039afb4144a1f6fd8d2ca17a180786b69acc140d282b71a49"
   }
  }
 },
 "nbformat": 4,
 "nbformat_minor": 2,
 "cells": [
  {
   "cell_type": "code",
   "execution_count": 1,
   "metadata": {},
   "outputs": [],
   "source": [
    "import pandas as pd\n",
    "import numpy as np\n",
    "from sklearn.model_selection import train_test_split"
   ]
  },
  {
   "cell_type": "code",
   "execution_count": 2,
   "metadata": {},
   "outputs": [
    {
     "output_type": "stream",
     "name": "stdout",
     "text": [
      "damage_data.csv      support_data.csv     \u001b[34mtest_train\u001b[m\u001b[m/\ndata_split.zip       tank_data.csv\nfinal_cleanup.ipynb  tank_train.csv\n"
     ]
    }
   ],
   "source": [
    "dirPath = \"/Users/redpal/Desktop/data_science/overwatch_project\"\n",
    "os.chdir(dirPath)\n",
    "%ls"
   ]
  },
  {
   "cell_type": "code",
   "execution_count": 3,
   "metadata": {},
   "outputs": [],
   "source": [
    "#Main Clean\n",
    "def main_clean(inp_df, percentNaCol, percentNaRow, verbose=False):\n",
    "    #Do Tank Data and Drop First Column\n",
    "    percentNaRow = 1 - percentNaRow\n",
    "    inp_df = inp_df.drop(columns=inp_df.columns[0],axis=1)\n",
    "\n",
    "    #Verbose Statement\n",
    "    if verbose:\n",
    "        print(\"Prev Row: \",len(inp_df.index))\n",
    "\n",
    "    #Strip Rows Based on Percent of NAs and No Na Ratins\n",
    "    inp_df = inp_df[(inp_df.isna().sum(1)/inp_df.shape[1]).gt(percentNaRow)]\n",
    "    inp_df = inp_df[inp_df['rating'].notna()]\n",
    "\n",
    "    #Verbose Statement\n",
    "    if verbose:\n",
    "        print(\"Post Rows: \",len(inp_df.index))\n",
    "        print(\"Prev Columns: \", len(inp_df.columns))\n",
    "\n",
    "    #Strip Columns based on Percent of NAs\n",
    "    for col in inp_df.columns:\n",
    "        percentNa = int(inp_df[col].isnull().sum() / len(inp_df))\n",
    "        if percentNa >= percentNaCol:\n",
    "            del inp_df[col]\n",
    "\n",
    "    #Verbose Statements\n",
    "    if verbose:\n",
    "        print(\"Post Columns: \", len(inp_df.columns))\n",
    "        \n",
    "    #Dtype Object Names\n",
    "    groupByType = inp_df.columns.to_series().groupby(inp_df.dtypes).groups\n",
    "    getName = {k.name: v for k, v in groupByType.items()}\n",
    "    objNames = getName['object'].tolist()\n",
    "\n",
    "    #Verbose Statement\n",
    "    if verbose:\n",
    "        print(\"Prev Col Types: \",list(groupByType.keys()))\n",
    "\n",
    "    #Strip Percentage\n",
    "    accAndEne = [x for x in objNames if \"Acc\" in x or \"Ene\" in x or \"Percent\" in x]\n",
    "    for col in accAndEne:\n",
    "        inp_df[col] = inp_df[col].map(lambda x: float(str(x).replace(\"%\",\"\"))/100)\n",
    "\n",
    "    #Get Minutes to Seconds\n",
    "    minutes = [x for x in objNames if \"Min\" in x]\n",
    "    for col in minutes:\n",
    "        df1 = inp_df[col].str.split(\":\", expand=True).astype(float)\n",
    "        inp_df[col] = df1[0] * 60 + df1[1]\n",
    "\n",
    "    #Sanity Check\n",
    "    if verbose:\n",
    "        print(\"Minute Cols: {} Percent Cols: {} All Object Cols: {} \".format(len(minutes),len(accAndEne),len(objNames)))\n",
    "        altGroupBy = inp_df.columns.to_series().groupby(inp_df.dtypes).groups\n",
    "        print(\"New Col Types:\",list(altGroupBy.keys()))\n",
    "\n",
    "    #Split into Test and Train\n",
    "    train, test = train_test_split(inp_df, test_size=0.1)\n",
    "    if verbose:\n",
    "        print(\"Train Length: \", len(train.index),\" Test Length: \",len(test.index))\n",
    "    return train, test"
   ]
  },
  {
   "cell_type": "code",
   "execution_count": 4,
   "metadata": {},
   "outputs": [
    {
     "output_type": "stream",
     "name": "stdout",
     "text": [
      "Tank\n",
      "Prev Row:  20360\n",
      "Post Rows:  20360\n",
      "Prev Columns:  129\n",
      "Post Columns:  120\n",
      "Prev Col Types:  [dtype('float64'), dtype('O')]\n",
      "Minute Cols: 16 Percent Cols: 10 All Object Cols: 26 \n",
      "New Col Types: [dtype('float64')]\n",
      "Train Length:  18324  Test Length:  2036\n",
      "\n",
      "Support\n",
      "Prev Row:  19800\n",
      "Post Rows:  19800\n",
      "Prev Columns:  127\n",
      "Post Columns:  121\n",
      "Prev Col Types:  [dtype('float64'), dtype('O')]\n",
      "Minute Cols: 14 Percent Cols: 10 All Object Cols: 24 \n",
      "New Col Types: [dtype('float64')]\n",
      "Train Length:  17820  Test Length:  1980\n",
      "\n",
      "Damage\n",
      "Prev Row:  18270\n",
      "Post Rows:  18270\n",
      "Prev Columns:  270\n",
      "Post Columns:  264\n",
      "Prev Col Types:  [dtype('float64'), dtype('O')]\n",
      "Minute Cols: 34 Percent Cols: 38 All Object Cols: 72 \n",
      "New Col Types: [dtype('float64')]\n",
      "Train Length:  16443  Test Length:  1827\n"
     ]
    }
   ],
   "source": [
    "#Variable\n",
    "inp_folder = \"\"\n",
    "final_folder = \"test_train/\"\n",
    "\n",
    "#Get Tank_Df and Save\n",
    "print(\"Tank\")\n",
    "tank_df = pd.read_csv(inp_folder+\"tank_data.csv\")\n",
    "train, test = main_clean(tank_df,1.0,1.0,verbose=True)\n",
    "train.to_csv(final_folder+\"tank_train.csv\",index=False)\n",
    "test.to_csv(final_folder+\"tank_test.csv\",index=False)\n",
    "\n",
    "#Get Support_Df and Save\n",
    "print(\"\\nSupport\")\n",
    "supp_df = pd.read_csv(inp_folder+\"support_data.csv\")\n",
    "train, test = main_clean(supp_df,1.0,1.0,verbose=True)\n",
    "train.to_csv(final_folder+\"support_train.csv\",index=False)\n",
    "test.to_csv(final_folder+\"support_test.csv\",index=False)\n",
    "\n",
    "#Get Damage_Df and Save\n",
    "print(\"\\nDamage\")\n",
    "damag_df = pd.read_csv(inp_folder+\"damage_data.csv\")\n",
    "train, test = main_clean(damag_df,1.0,1.0,verbose=True)\n",
    "train.to_csv(final_folder+\"damage_train.csv\",index=False)\n",
    "test.to_csv(final_folder+\"damage_test.csv\",index=False)"
   ]
  },
  {
   "cell_type": "code",
   "execution_count": null,
   "metadata": {},
   "outputs": [],
   "source": []
  }
 ]
}