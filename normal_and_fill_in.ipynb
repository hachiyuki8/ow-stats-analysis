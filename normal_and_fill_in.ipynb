{
 "metadata": {
  "language_info": {
   "codemirror_mode": {
    "name": "ipython",
    "version": 3
   },
   "file_extension": ".py",
   "mimetype": "text/x-python",
   "name": "python",
   "nbconvert_exporter": "python",
   "pygments_lexer": "ipython3",
   "version": "3.9.1"
  },
  "orig_nbformat": 2,
  "kernelspec": {
   "name": "python391jvsc74a57bd0aee8b7b246df8f9039afb4144a1f6fd8d2ca17a180786b69acc140d282b71a49",
   "display_name": "Python 3.9.1 64-bit"
  },
  "metadata": {
   "interpreter": {
    "hash": "aee8b7b246df8f9039afb4144a1f6fd8d2ca17a180786b69acc140d282b71a49"
   }
  }
 },
 "nbformat": 4,
 "nbformat_minor": 2,
 "cells": [
  {
   "cell_type": "code",
   "execution_count": 1,
   "metadata": {},
   "outputs": [],
   "source": [
    "import pandas as pd\n",
    "import numpy as np\n",
    "from sklearn.model_selection import train_test_split\n",
    "import math"
   ]
  },
  {
   "cell_type": "code",
   "execution_count": 2,
   "metadata": {},
   "outputs": [
    {
     "output_type": "stream",
     "name": "stdout",
     "text": [
      "damage_data.csv           \u001b[34mnorm\u001b[m\u001b[m/                     tank_data.csv\nfinal_cleanup.ipynb       normal_and_fill_in.ipynb  \u001b[34mtest_train\u001b[m\u001b[m/\nmodel.r                   support_data.csv\n"
     ]
    }
   ],
   "source": [
    "dirPath = \"/Users/redpal/Desktop/data_science/overwatch_project\"\n",
    "os.chdir(dirPath)\n",
    "%ls"
   ]
  },
  {
   "cell_type": "code",
   "execution_count": 3,
   "metadata": {},
   "outputs": [],
   "source": [
    "#Main Clean\n",
    "def norm_and_fill(inp_df,quant1,quant2,verbose=False):\n",
    "    #Replace NaN with 0\n",
    "    for col in inp_df.columns:\n",
    "        #Get Different Quants\n",
    "        mu = (inp_df[col]).quantile(quant1)\n",
    "        mu2 = (inp_df[col]).quantile(quant2)\n",
    "        #Replace Values\n",
    "        inp_df[col] = inp_df[col].apply(lambda v: round(np.random.uniform(mu,mu2)) if (math.isnan(v)) else v)\n",
    "\n",
    "    #Go Through Columns and Normalize\n",
    "    for col in inp_df.columns:\n",
    "        if verbose:\n",
    "            print(\"Orig Column: \", col,\" Min: \", inp_df[col].min(), \" Max: \", inp_df[col].max())\n",
    "        #Actual Norm\n",
    "        inp_df[col] = (inp_df[col] - inp_df[col].min()) / (inp_df[col].max() - inp_df[col].min())\n",
    "        #New Verbose\n",
    "        if verbose:\n",
    "            print(\"New Column: \",col,\" Min: \", inp_df[col].min(), \" Max: \", inp_df[col].max())\n",
    "        \n",
    "\n",
    "    #Return Answer\n",
    "    return inp_df\n",
    "    "
   ]
  },
  {
   "cell_type": "code",
   "execution_count": 68,
   "metadata": {},
   "outputs": [
    {
     "output_type": "stream",
     "name": "stdout",
     "text": [
      "\n",
      "File:  test_train/tank_train.csv\n",
      "\n",
      "File:  test_train/tank_test.csv\n",
      "\n",
      "File:  test_train/support_train.csv\n",
      "\n",
      "File:  test_train/support_test.csv\n",
      "\n",
      "File:  test_train/damage_train.csv\n",
      "\n",
      "File:  test_train/damage_test.csv\n"
     ]
    }
   ],
   "source": [
    "#Variable\n",
    "final_folder = \"test_train/\"\n",
    "output_folder = \"norm/\"\n",
    "files = [\"tank_train.csv\",\"tank_test.csv\",\"support_train.csv\",\"support_test.csv\",\"damage_train.csv\",\"damage_test.csv\"]\n",
    "\n",
    "#Loop Through\n",
    "for inpFile in files:\n",
    "    fileName = final_folder + inpFile\n",
    "    print(\"\\nFile: \", fileName)\n",
    "    inp_df = pd.read_csv(fileName)\n",
    "    out_df = norm_and_fill(inp_df,0.0,0.0,verbose=False)\n",
    "    out_df.to_csv(output_folder + inpFile,index=False)"
   ]
  },
  {
   "cell_type": "code",
   "execution_count": 69,
   "metadata": {},
   "outputs": [
    {
     "output_type": "stream",
     "name": "stdout",
     "text": [
      "         rating  dVa_timePlayed  dVa_barrierDamageDoneAvgPer10Min  \\\n0      0.369302        0.000000                          0.000000   \n1      0.602085        0.000000                          0.000000   \n2      0.396217        0.000066                          0.560942   \n3      0.404462        0.000141                          0.639356   \n4      0.612755        0.018384                          0.324526   \n...         ...             ...                               ...   \n18319  0.439137        0.000000                          0.000000   \n18320  0.437924        0.000000                          0.000000   \n18321  0.672163        0.000040                          0.390156   \n18322  0.364694        0.000000                          0.000000   \n18323  0.438894        0.000000                          0.000000   \n\n       dVa_criticalHitsAvgPer10Min  dVa_deathsAvgPer10Min  \\\n0                         0.000000               0.000000   \n1                         0.000000               0.000000   \n2                         0.269762               0.281111   \n3                         0.361355               0.275657   \n4                         0.426600               0.240456   \n...                            ...                    ...   \n18319                     0.000000               0.000000   \n18320                     0.000000               0.000000   \n18321                     0.407779               0.168567   \n18322                     0.000000               0.000000   \n18323                     0.000000               0.000000   \n\n       dVa_eliminationsAvgPer10Min  dVa_finalBlowsAvgPer10Min  \\\n0                         0.000000                   0.000000   \n1                         0.000000                   0.000000   \n2                         0.472937                   0.284931   \n3                         0.385314                   0.184469   \n4                         0.495836                   0.301674   \n...                            ...                        ...   \n18319                     0.000000                   0.000000   \n18320                     0.000000                   0.000000   \n18321                     0.422786                   0.318129   \n18322                     0.000000                   0.000000   \n18323                     0.000000                   0.000000   \n\n       dVa_heroDamageDoneAvgPer10Min  dVa_objectiveKillsAvgPer10Min  \\\n0                           0.000022                       0.000000   \n1                           0.000022                       0.000000   \n2                           0.460882                       0.547724   \n3                           0.520169                       0.504405   \n4                           0.642265                       0.538913   \n...                              ...                            ...   \n18319                       0.000022                       0.000000   \n18320                       0.000022                       0.000000   \n18321                       0.596272                       0.378120   \n18322                       0.000022                       0.000000   \n18323                       0.000022                       0.000000   \n\n       dVa_objectiveTimeAvgPer10Min  ...  zarya_objectiveKillsAvgPer10Min  \\\n0                          0.000000  ...                         0.350937   \n1                          0.000000  ...                         0.450880   \n2                          0.388889  ...                         0.000000   \n3                          0.615385  ...                         0.637138   \n4                          0.504274  ...                         0.382737   \n...                             ...  ...                              ...   \n18319                      0.000000  ...                         0.590006   \n18320                      0.000000  ...                         0.533220   \n18321                      0.341880  ...                         0.500852   \n18322                      0.000000  ...                         0.726292   \n18323                      0.000000  ...                         0.545713   \n\n       zarya_objectiveTimeAvgPer10Min  zarya_soloKillsAvgPer10Min  \\\n0                            0.365546                    0.137848   \n1                            0.323529                    0.090689   \n2                            0.000000                    0.000000   \n3                            0.512605                    0.067715   \n4                            0.516807                    0.074970   \n...                               ...                         ...   \n18319                        0.239496                    0.255139   \n18320                        0.327731                    0.061669   \n18321                        0.487395                    0.110036   \n18322                        0.701681                    0.031439   \n18323                        0.411765                    0.141475   \n\n       zarya_timeSpentOnFireAvgPer10Min  zarya_weaponAccuracy  \\\n0                              0.220812              0.734375   \n1                              0.162437              0.671875   \n2                              0.000000              0.000000   \n3                              0.162437              0.671875   \n4                              0.131980              0.625000   \n...                                 ...                   ...   \n18319                          0.657360              0.546875   \n18320                          0.096447              0.640625   \n18321                          0.137056              0.578125   \n18322                          0.208122              0.546875   \n18323                          0.159898              0.531250   \n\n       zarya_averageEnergy  zarya_damageBlockedAvgPer10Min  \\\n0                 0.515625                        0.596439   \n1                 0.750000                        0.736735   \n2                 0.000000                        0.000000   \n3                 0.703125                        0.740320   \n4                 0.546875                        0.598112   \n...                    ...                             ...   \n18319             0.890625                        0.792304   \n18320             0.531250                        0.571104   \n18321             0.515625                        0.561066   \n18322             0.468750                        0.488289   \n18323             0.437500                        0.512787   \n\n       zarya_gravitonSurgeKillsAvgPer10Min  zarya_highEnergyKillsAvgPer10Min  \\\n0                                 0.436570                          0.255328   \n1                                 0.353456                          0.324650   \n2                                 0.000000                          0.007966   \n3                                 0.354331                          0.315178   \n4                                 0.329834                          0.214855   \n...                                    ...                               ...   \n18319                             0.552931                          0.612917   \n18320                             0.187227                          0.245210   \n18321                             0.396325                          0.220667   \n18322                             0.214348                          0.280517   \n18323                             0.316710                          0.182131   \n\n       zarya_primaryFireAccuracy  \n0                       0.625000  \n1                       0.703125  \n2                       0.000000  \n3                       0.609375  \n4                       0.765625  \n...                          ...  \n18319                   0.921875  \n18320                   0.468750  \n18321                   0.781250  \n18322                   0.640625  \n18323                   0.593750  \n\n[18324 rows x 120 columns]\n"
     ]
    }
   ],
   "source": [
    "getFile = pd.read_csv(output_folder + files[0])\n",
    "print(getFile)"
   ]
  },
  {
   "cell_type": "code",
   "execution_count": null,
   "metadata": {},
   "outputs": [],
   "source": []
  }
 ]
}