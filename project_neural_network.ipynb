{
  "nbformat": 4,
  "nbformat_minor": 0,
  "metadata": {
    "colab": {
      "name": "data_science_final_regression.ipynb",
      "provenance": [],
      "collapsed_sections": []
    },
    "kernelspec": {
      "name": "python3",
      "display_name": "Python 3"
    },
    "language_info": {
      "name": "python"
    },
    "accelerator": "GPU"
  },
  "cells": [
    {
      "cell_type": "code",
      "metadata": {
        "id": "3gbexwiq95mf"
      },
      "source": [
        "#Import Statements\n",
        "import torch\n",
        "from torch import nn, optim, utils\n",
        "from torchvision import datasets, transforms\n",
        "import matplotlib.pyplot as plt\n",
        "import numpy as np\n",
        "import pandas as pd"
      ],
      "execution_count": 1,
      "outputs": []
    },
    {
      "cell_type": "code",
      "metadata": {
        "colab": {
          "resources": {
            "http://localhost:8080/nbextensions/google.colab/files.js": {
              "data": "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",
              "ok": true,
              "headers": [
                [
                  "content-type",
                  "application/javascript"
                ]
              ],
              "status": 200,
              "status_text": ""
            }
          },
          "base_uri": "https://localhost:8080/",
          "height": 106
        },
        "id": "17QsN-aU-Fv4",
        "outputId": "1440bfef-4bb2-4b9d-d336-8deaec1cbdd2"
      },
      "source": [
        "#Download Pandas File\n",
        "from google.colab import files\n",
        "uploaded = files.upload()"
      ],
      "execution_count": 2,
      "outputs": [
        {
          "output_type": "display_data",
          "data": {
            "text/html": [
              "\n",
              "     <input type=\"file\" id=\"files-2fc543ed-d957-4ce6-9be5-4fb03d6eee2f\" name=\"files[]\" multiple disabled\n",
              "        style=\"border:none\" />\n",
              "     <output id=\"result-2fc543ed-d957-4ce6-9be5-4fb03d6eee2f\">\n",
              "      Upload widget is only available when the cell has been executed in the\n",
              "      current browser session. Please rerun this cell to enable.\n",
              "      </output>\n",
              "      <script src=\"/nbextensions/google.colab/files.js\"></script> "
            ],
            "text/plain": [
              "<IPython.core.display.HTML object>"
            ]
          },
          "metadata": {
            "tags": []
          }
        },
        {
          "output_type": "stream",
          "text": [
            "Saving tank_test.csv to tank_test.csv\n",
            "Saving tank_train.csv to tank_train.csv\n"
          ],
          "name": "stdout"
        }
      ]
    },
    {
      "cell_type": "code",
      "metadata": {
        "id": "YRaVyNz4-Wtx"
      },
      "source": [
        "#Input File\n",
        "inp_folder = \"\"\n",
        "\n",
        "#Read Pandas File\n",
        "train_data = pd.read_csv(inp_folder+\"tank_train.csv\")\n",
        "X_train = train_data.iloc[:, 1:].values\n",
        "Y_train = train_data.iloc[:, 0].values\n",
        "\n",
        "#Get Test Dataset\n",
        "test_data = pd.read_csv(inp_folder+\"tank_test.csv\")\n",
        "X_test = test_data.iloc[:, 1:].values\n",
        "Y_test = test_data.iloc[:, 0].values"
      ],
      "execution_count": 18,
      "outputs": []
    },
    {
      "cell_type": "code",
      "metadata": {
        "id": "cJyngI3c_CHM"
      },
      "source": [
        "#Make a dataset file\n",
        "class overwatchDataset(torch.utils.data.Dataset):\n",
        "    def __init__(self, X, Y):\n",
        "        self.X = torch.tensor(X).float()\n",
        "        self.Y = torch.tensor(Y).float()\n",
        "\n",
        "    def __len__(self):\n",
        "        return self.Y.shape[0]\n",
        "\n",
        "    def __getitem__(self, idx):\n",
        "        #Get Label\n",
        "        retData = self.X[idx,:]\n",
        "        retLab = self.Y[idx]\n",
        "        #Return Answer\n",
        "        return retData,retLab"
      ],
      "execution_count": 19,
      "outputs": []
    },
    {
      "cell_type": "code",
      "metadata": {
        "id": "PEg3IuyBALvZ"
      },
      "source": [
        "#Get Both Dataloaders\n",
        "\n",
        "#Train\n",
        "train_data = overwatchDataset(X_train,Y_train)\n",
        "trainLoader = utils.data.DataLoader(train_data, batch_size=64,\n",
        "                                    shuffle=True,drop_last=True)\n",
        "\n",
        "#Test\n",
        "test_data = overwatchDataset(X_test,Y_test)\n",
        "testLoader = utils.data.DataLoader(test_data, batch_size=64,\n",
        "                                    shuffle=False,drop_last=True)"
      ],
      "execution_count": 27,
      "outputs": []
    },
    {
      "cell_type": "code",
      "metadata": {
        "id": "O4zP-O7xBIXS"
      },
      "source": [
        "#Make the Network\n",
        "dropout = 0.1\n",
        "class overwatchModule(nn.Module):\n",
        "  def __init__(self, input_size):\n",
        "    super(overwatchModule,self).__init__()\n",
        "    #Make Different layers\n",
        "    self.overall = nn.Sequential(\n",
        "        nn.Linear(input_size,256),\n",
        "        nn.ReLU(),nn.BatchNorm1d(256),\n",
        "        nn.Dropout(dropout),nn.Linear(256,512),\n",
        "        nn.ReLU(),nn.BatchNorm1d(512),\n",
        "        nn.Dropout(dropout),nn.Linear(512,1024),\n",
        "        nn.ReLU(),nn.BatchNorm1d(1024),\n",
        "        nn.Dropout(dropout),nn.Linear(1024,2000),\n",
        "        nn.ReLU(),nn.BatchNorm1d(2000),\n",
        "        nn.Dropout(dropout),nn.Linear(2000,4000),\n",
        "        nn.ReLU(),nn.BatchNorm1d(4000),\n",
        "        nn.Dropout(dropout),nn.Linear(4000,2000),\n",
        "        nn.ReLU(),nn.BatchNorm1d(2000),\n",
        "        nn.Dropout(dropout),nn.Linear(2000,1000),\n",
        "        nn.ReLU(),nn.BatchNorm1d(1000),\n",
        "        nn.Dropout(dropout),nn.Linear(1000,256),\n",
        "        nn.ReLU(),nn.BatchNorm1d(256),\n",
        "        nn.Dropout(dropout),nn.Linear(256,1))\n",
        "  def forward(self,batchInput):\n",
        "    #Go Through and Return Real Output\n",
        "    overallOutput = self.overall(batchInput)\n",
        "    return overallOutput"
      ],
      "execution_count": 117,
      "outputs": []
    },
    {
      "cell_type": "code",
      "metadata": {
        "id": "_VI_6mEUBxq_"
      },
      "source": [
        "#Test Function\n",
        "def test(model, test_load, device, criterion):\n",
        "  #Set Model to Eval\n",
        "  model.eval()\n",
        "  test_loss = []\n",
        "  n = 0\n",
        "\n",
        "  #Go Through Loop\n",
        "  for batch_idx, (inputs, targets) in enumerate(test_load):\n",
        "     #Move it to device\n",
        "     inputs = inputs.to(device)\n",
        "     targets = torch.unsqueeze(targets,1)\n",
        "     targets = targets.to(device)\n",
        "\n",
        "     #Flatten Image\n",
        "     inputs = inputs.view(inputs.shape[0],-1)\n",
        "\n",
        "     #Train the Model for output\n",
        "     outputs = model(inputs)\n",
        "     loss = criterion(outputs, targets)\n",
        "\n",
        "     #Get Loss\n",
        "     test_loss.append(loss.item())\n",
        "\n",
        "     #Empty Cache And Delete Variables\n",
        "     del inputs\n",
        "     del targets\n",
        "     del outputs\n",
        "     torch.cuda.empty_cache()\n",
        "\n",
        "  #Get Standard Deviation\n",
        "  n = len(test_loss)\n",
        "  test_loss = np.array(test_loss)\n",
        "  mean = test_loss.mean()\n",
        "  sd = test_loss.std()\n",
        "  low = mean-1.96*sd/np.sqrt(n)\n",
        "  high = mean+1.96*sd/np.sqrt(n)\n",
        "  #Calculate Lower, Upper, and Mean\n",
        "  return mean, low, high"
      ],
      "execution_count": 118,
      "outputs": []
    },
    {
      "cell_type": "code",
      "metadata": {
        "id": "k2nTSl7HDKIO"
      },
      "source": [
        "#Train Function\n",
        "def train(model, optimizer, device, criterion, train_load, test_load,scheduler):\n",
        "  #Move and Set Up Variables\n",
        "  criterion = criterion.to(device)\n",
        "  model = model.to(device)\n",
        "  model.train()\n",
        "\n",
        "  #Get Plot of Test_Acc, Test_Loss\n",
        "  test_acc_list = []\n",
        "  test_loss_list = []\n",
        "\n",
        "  #Main Loop\n",
        "  for epoch in range(epochs):\n",
        "    avg_loss = 0.0\n",
        "    for batch_idx, (inputs, targets) in enumerate(train_load):\n",
        "      #Move it to device\n",
        "      inputs = inputs.to(device)\n",
        "      targets = torch.unsqueeze(targets,1)\n",
        "      targets = targets.to(device)\n",
        "\n",
        "      #Flatten Image\n",
        "      inputs = inputs.view(inputs.shape[0],-1)\n",
        "\n",
        "      #Train the Model for output\n",
        "      outputs = model(inputs)\n",
        "      outputs = outputs.reshape((outputs.shape[0],1))\n",
        "      loss = criterion(outputs, targets)\n",
        "\n",
        "      #Learn by Backpropagation\n",
        "      loss.backward()\n",
        "\n",
        "      #Optimize the Weights\n",
        "      optimizer.step()\n",
        "\n",
        "      #Print Epoch Info\n",
        "      avg_loss += loss.item()\n",
        "      if batch_idx % 100 == 0 and batch_idx != 0:\n",
        "        print('Epoch: {}\\tBatch: {}\\tAvg-Loss: {:.4f}'.format(epoch+1, batch_idx, avg_loss/150))\n",
        "        avg_loss = 0\n",
        "      \n",
        "      #Empty Cache, Delete Variables, Reset Optimizer\n",
        "      optimizer.zero_grad()\n",
        "      del inputs\n",
        "      del targets\n",
        "      del outputs\n",
        "      torch.cuda.empty_cache()\n",
        "\n",
        "    #After Epoch Send it Through Test\n",
        "    mean, low, high = test(model,test_load, device, criterion)\n",
        "    test_loss_list.append(mean)\n",
        "    print(\"Test Loss: {:.4f} | {:.4f} | {:.4f} \".format(low,mean,high))\n",
        "\n",
        "    #Step Scheduler\n",
        "    scheduler.step(mean)\n",
        "\n",
        "    #Optional: Save Model\n",
        "    #torch.save(model, './model_epoch_' + str(epoch)) \n",
        "  #Return Test Accuracy and Loss\n",
        "  return test_loss_list"
      ],
      "execution_count": 119,
      "outputs": []
    },
    {
      "cell_type": "code",
      "metadata": {
        "id": "K0bYzUD0BrlW"
      },
      "source": [
        "#Final Labels\n",
        "learn_rate = 0.001\n",
        "epochs = 50\n",
        "model = overwatchModule(119)\n",
        "criterion = nn.MSELoss()\n",
        "optimizer = optim.Adam(model.parameters(),lr=learn_rate)\n",
        "device = \"cuda\" if torch.cuda.is_available() else \"cpu\"\n",
        "scheduler = torch.optim.lr_scheduler.ReduceLROnPlateau(optimizer,mode='min',factor=0.2,patience=4,verbose=True)"
      ],
      "execution_count": 120,
      "outputs": []
    },
    {
      "cell_type": "code",
      "metadata": {
        "colab": {
          "base_uri": "https://localhost:8080/"
        },
        "id": "IF8cHt5cDje4",
        "outputId": "d556b614-f96e-41a6-bd81-ba7f663a4432"
      },
      "source": [
        "#Start learning\n",
        "test_loss_list = train(model, optimizer, device, criterion, trainLoader, testLoader, scheduler)"
      ],
      "execution_count": 121,
      "outputs": [
        {
          "output_type": "stream",
          "text": [
            "Epoch: 1\tBatch: 100\tAvg-Loss: 0.1498\n",
            "Epoch: 1\tBatch: 200\tAvg-Loss: 0.0319\n",
            "Test Loss: 0.0209 | 0.0222 | 0.0234 \n",
            "Epoch: 2\tBatch: 100\tAvg-Loss: 0.0104\n",
            "Epoch: 2\tBatch: 200\tAvg-Loss: 0.0093\n",
            "Test Loss: 0.0151 | 0.0159 | 0.0168 \n",
            "Epoch: 3\tBatch: 100\tAvg-Loss: 0.0084\n",
            "Epoch: 3\tBatch: 200\tAvg-Loss: 0.0080\n",
            "Test Loss: 0.0136 | 0.0144 | 0.0151 \n",
            "Epoch: 4\tBatch: 100\tAvg-Loss: 0.0080\n",
            "Epoch: 4\tBatch: 200\tAvg-Loss: 0.0077\n",
            "Test Loss: 0.0150 | 0.0157 | 0.0164 \n",
            "Epoch: 5\tBatch: 100\tAvg-Loss: 0.0074\n",
            "Epoch: 5\tBatch: 200\tAvg-Loss: 0.0075\n",
            "Test Loss: 0.0135 | 0.0141 | 0.0148 \n",
            "Epoch: 6\tBatch: 100\tAvg-Loss: 0.0071\n",
            "Epoch: 6\tBatch: 200\tAvg-Loss: 0.0071\n",
            "Test Loss: 0.0145 | 0.0152 | 0.0159 \n",
            "Epoch: 7\tBatch: 100\tAvg-Loss: 0.0068\n",
            "Epoch: 7\tBatch: 200\tAvg-Loss: 0.0069\n",
            "Test Loss: 0.0142 | 0.0148 | 0.0155 \n",
            "Epoch: 8\tBatch: 100\tAvg-Loss: 0.0067\n",
            "Epoch: 8\tBatch: 200\tAvg-Loss: 0.0071\n",
            "Test Loss: 0.0127 | 0.0133 | 0.0139 \n",
            "Epoch: 9\tBatch: 100\tAvg-Loss: 0.0066\n",
            "Epoch: 9\tBatch: 200\tAvg-Loss: 0.0069\n",
            "Test Loss: 0.0123 | 0.0129 | 0.0135 \n",
            "Epoch: 10\tBatch: 100\tAvg-Loss: 0.0066\n",
            "Epoch: 10\tBatch: 200\tAvg-Loss: 0.0066\n",
            "Test Loss: 0.0137 | 0.0144 | 0.0150 \n",
            "Epoch: 11\tBatch: 100\tAvg-Loss: 0.0066\n",
            "Epoch: 11\tBatch: 200\tAvg-Loss: 0.0063\n",
            "Test Loss: 0.0120 | 0.0126 | 0.0132 \n",
            "Epoch: 12\tBatch: 100\tAvg-Loss: 0.0064\n",
            "Epoch: 12\tBatch: 200\tAvg-Loss: 0.0069\n",
            "Test Loss: 0.0124 | 0.0130 | 0.0136 \n",
            "Epoch: 13\tBatch: 100\tAvg-Loss: 0.0063\n",
            "Epoch: 13\tBatch: 200\tAvg-Loss: 0.0066\n",
            "Test Loss: 0.0119 | 0.0125 | 0.0132 \n",
            "Epoch: 14\tBatch: 100\tAvg-Loss: 0.0066\n",
            "Epoch: 14\tBatch: 200\tAvg-Loss: 0.0064\n",
            "Test Loss: 0.0127 | 0.0133 | 0.0139 \n",
            "Epoch: 15\tBatch: 100\tAvg-Loss: 0.0066\n",
            "Epoch: 15\tBatch: 200\tAvg-Loss: 0.0067\n",
            "Test Loss: 0.0137 | 0.0143 | 0.0149 \n",
            "Epoch: 16\tBatch: 100\tAvg-Loss: 0.0064\n",
            "Epoch: 16\tBatch: 200\tAvg-Loss: 0.0067\n",
            "Test Loss: 0.0129 | 0.0136 | 0.0142 \n",
            "Epoch: 17\tBatch: 100\tAvg-Loss: 0.0065\n",
            "Epoch: 17\tBatch: 200\tAvg-Loss: 0.0065\n",
            "Test Loss: 0.0119 | 0.0126 | 0.0132 \n",
            "Epoch: 18\tBatch: 100\tAvg-Loss: 0.0064\n",
            "Epoch: 18\tBatch: 200\tAvg-Loss: 0.0064\n",
            "Test Loss: 0.0138 | 0.0144 | 0.0150 \n",
            "Epoch    18: reducing learning rate of group 0 to 5.0000e-04.\n",
            "Epoch: 19\tBatch: 100\tAvg-Loss: 0.0061\n",
            "Epoch: 19\tBatch: 200\tAvg-Loss: 0.0055\n",
            "Test Loss: 0.0125 | 0.0131 | 0.0137 \n",
            "Epoch: 20\tBatch: 100\tAvg-Loss: 0.0052\n",
            "Epoch: 20\tBatch: 200\tAvg-Loss: 0.0058\n",
            "Test Loss: 0.0121 | 0.0127 | 0.0133 \n",
            "Epoch: 21\tBatch: 100\tAvg-Loss: 0.0054\n",
            "Epoch: 21\tBatch: 200\tAvg-Loss: 0.0055\n",
            "Test Loss: 0.0125 | 0.0132 | 0.0138 \n",
            "Epoch: 22\tBatch: 100\tAvg-Loss: 0.0057\n",
            "Epoch: 22\tBatch: 200\tAvg-Loss: 0.0057\n",
            "Test Loss: 0.0111 | 0.0117 | 0.0123 \n",
            "Epoch: 23\tBatch: 100\tAvg-Loss: 0.0053\n",
            "Epoch: 23\tBatch: 200\tAvg-Loss: 0.0056\n",
            "Test Loss: 0.0121 | 0.0127 | 0.0132 \n",
            "Epoch: 24\tBatch: 100\tAvg-Loss: 0.0057\n",
            "Epoch: 24\tBatch: 200\tAvg-Loss: 0.0055\n",
            "Test Loss: 0.0126 | 0.0132 | 0.0138 \n",
            "Epoch: 25\tBatch: 100\tAvg-Loss: 0.0058\n",
            "Epoch: 25\tBatch: 200\tAvg-Loss: 0.0057\n",
            "Test Loss: 0.0125 | 0.0132 | 0.0139 \n",
            "Epoch: 26\tBatch: 100\tAvg-Loss: 0.0057\n",
            "Epoch: 26\tBatch: 200\tAvg-Loss: 0.0053\n",
            "Test Loss: 0.0134 | 0.0140 | 0.0147 \n",
            "Epoch: 27\tBatch: 100\tAvg-Loss: 0.0058\n",
            "Epoch: 27\tBatch: 200\tAvg-Loss: 0.0057\n",
            "Test Loss: 0.0125 | 0.0132 | 0.0138 \n",
            "Epoch    27: reducing learning rate of group 0 to 2.5000e-04.\n",
            "Epoch: 28\tBatch: 100\tAvg-Loss: 0.0050\n",
            "Epoch: 28\tBatch: 200\tAvg-Loss: 0.0046\n",
            "Test Loss: 0.0133 | 0.0140 | 0.0147 \n",
            "Epoch: 29\tBatch: 100\tAvg-Loss: 0.0045\n",
            "Epoch: 29\tBatch: 200\tAvg-Loss: 0.0048\n",
            "Test Loss: 0.0127 | 0.0133 | 0.0139 \n",
            "Epoch: 30\tBatch: 100\tAvg-Loss: 0.0046\n",
            "Epoch: 30\tBatch: 200\tAvg-Loss: 0.0047\n",
            "Test Loss: 0.0125 | 0.0132 | 0.0139 \n",
            "Epoch: 31\tBatch: 100\tAvg-Loss: 0.0049\n",
            "Epoch: 31\tBatch: 200\tAvg-Loss: 0.0044\n",
            "Test Loss: 0.0135 | 0.0142 | 0.0150 \n",
            "Epoch: 32\tBatch: 100\tAvg-Loss: 0.0044\n",
            "Epoch: 32\tBatch: 200\tAvg-Loss: 0.0049\n",
            "Test Loss: 0.0144 | 0.0152 | 0.0160 \n",
            "Epoch    32: reducing learning rate of group 0 to 1.2500e-04.\n",
            "Epoch: 33\tBatch: 100\tAvg-Loss: 0.0041\n",
            "Epoch: 33\tBatch: 200\tAvg-Loss: 0.0040\n",
            "Test Loss: 0.0121 | 0.0128 | 0.0135 \n",
            "Epoch: 34\tBatch: 100\tAvg-Loss: 0.0037\n",
            "Epoch: 34\tBatch: 200\tAvg-Loss: 0.0038\n",
            "Test Loss: 0.0129 | 0.0136 | 0.0144 \n",
            "Epoch: 35\tBatch: 100\tAvg-Loss: 0.0036\n",
            "Epoch: 35\tBatch: 200\tAvg-Loss: 0.0038\n",
            "Test Loss: 0.0132 | 0.0139 | 0.0146 \n",
            "Epoch: 36\tBatch: 100\tAvg-Loss: 0.0037\n",
            "Epoch: 36\tBatch: 200\tAvg-Loss: 0.0037\n",
            "Test Loss: 0.0133 | 0.0140 | 0.0147 \n",
            "Epoch: 37\tBatch: 100\tAvg-Loss: 0.0035\n",
            "Epoch: 37\tBatch: 200\tAvg-Loss: 0.0037\n",
            "Test Loss: 0.0126 | 0.0133 | 0.0140 \n",
            "Epoch    37: reducing learning rate of group 0 to 6.2500e-05.\n",
            "Epoch: 38\tBatch: 100\tAvg-Loss: 0.0032\n",
            "Epoch: 38\tBatch: 200\tAvg-Loss: 0.0032\n",
            "Test Loss: 0.0138 | 0.0145 | 0.0152 \n",
            "Epoch: 39\tBatch: 100\tAvg-Loss: 0.0030\n",
            "Epoch: 39\tBatch: 200\tAvg-Loss: 0.0030\n",
            "Test Loss: 0.0133 | 0.0140 | 0.0147 \n",
            "Epoch: 40\tBatch: 100\tAvg-Loss: 0.0029\n",
            "Epoch: 40\tBatch: 200\tAvg-Loss: 0.0029\n",
            "Test Loss: 0.0130 | 0.0137 | 0.0144 \n",
            "Epoch: 41\tBatch: 100\tAvg-Loss: 0.0027\n",
            "Epoch: 41\tBatch: 200\tAvg-Loss: 0.0028\n",
            "Test Loss: 0.0135 | 0.0142 | 0.0149 \n",
            "Epoch: 42\tBatch: 100\tAvg-Loss: 0.0028\n",
            "Epoch: 42\tBatch: 200\tAvg-Loss: 0.0027\n",
            "Test Loss: 0.0136 | 0.0143 | 0.0150 \n",
            "Epoch    42: reducing learning rate of group 0 to 3.1250e-05.\n",
            "Epoch: 43\tBatch: 100\tAvg-Loss: 0.0024\n",
            "Epoch: 43\tBatch: 200\tAvg-Loss: 0.0022\n",
            "Test Loss: 0.0141 | 0.0148 | 0.0156 \n",
            "Epoch: 44\tBatch: 100\tAvg-Loss: 0.0022\n",
            "Epoch: 44\tBatch: 200\tAvg-Loss: 0.0023\n",
            "Test Loss: 0.0142 | 0.0149 | 0.0156 \n",
            "Epoch: 45\tBatch: 100\tAvg-Loss: 0.0021\n",
            "Epoch: 45\tBatch: 200\tAvg-Loss: 0.0022\n",
            "Test Loss: 0.0150 | 0.0158 | 0.0166 \n",
            "Epoch: 46\tBatch: 100\tAvg-Loss: 0.0020\n",
            "Epoch: 46\tBatch: 200\tAvg-Loss: 0.0019\n",
            "Test Loss: 0.0149 | 0.0157 | 0.0164 \n",
            "Epoch: 47\tBatch: 100\tAvg-Loss: 0.0018\n",
            "Epoch: 47\tBatch: 200\tAvg-Loss: 0.0019\n",
            "Test Loss: 0.0148 | 0.0156 | 0.0163 \n",
            "Epoch    47: reducing learning rate of group 0 to 1.5625e-05.\n",
            "Epoch: 48\tBatch: 100\tAvg-Loss: 0.0016\n",
            "Epoch: 48\tBatch: 200\tAvg-Loss: 0.0016\n",
            "Test Loss: 0.0145 | 0.0153 | 0.0160 \n",
            "Epoch: 49\tBatch: 100\tAvg-Loss: 0.0015\n",
            "Epoch: 49\tBatch: 200\tAvg-Loss: 0.0014\n",
            "Test Loss: 0.0152 | 0.0160 | 0.0168 \n",
            "Epoch: 50\tBatch: 100\tAvg-Loss: 0.0014\n",
            "Epoch: 50\tBatch: 200\tAvg-Loss: 0.0014\n",
            "Test Loss: 0.0148 | 0.0156 | 0.0163 \n"
          ],
          "name": "stdout"
        }
      ]
    },
    {
      "cell_type": "code",
      "metadata": {
        "colab": {
          "base_uri": "https://localhost:8080/",
          "height": 279
        },
        "id": "Se7HW_mXNVC1",
        "outputId": "ee27a234-58dd-4839-be7e-2016bf14705c"
      },
      "source": [
        "def display(test_loss):\n",
        "  #Normalize Test Loss and Add 0 for Better Display\n",
        "  test_loss = [i/max(test_loss) for i in test_loss]\n",
        "  test_loss.insert(0,1.0)\n",
        "\n",
        "  #Print The Results\n",
        "  plt.plot(test_loss, label = \"Test Loss\")\n",
        "  plt.ylabel('Percent')\n",
        "  plt.xlabel('Epoch')\n",
        "  plt.legend()\n",
        "  plt.show()\n",
        "#Display Result\n",
        "display(test_loss_list)"
      ],
      "execution_count": 123,
      "outputs": [
        {
          "output_type": "display_data",
          "data": {
            "image/png": "[encoded data removed]",
            "text/plain": [
              "<Figure size 432x288 with 1 Axes>"
            ]
          },
          "metadata": {
            "tags": [],
            "needs_background": "light"
          }
        }
      ]
    }
  ]
}